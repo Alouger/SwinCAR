{
 "cells": [
  {
   "cell_type": "code",
   "execution_count": 5,
   "id": "2a6a8810",
   "metadata": {
    "execution": {
     "iopub.execute_input": "2022-12-01T08:54:39.354230Z",
     "iopub.status.busy": "2022-12-01T08:54:39.353629Z",
     "iopub.status.idle": "2022-12-01T11:25:26.953266Z",
     "shell.execute_reply": "2022-12-01T11:25:26.952414Z",
     "shell.execute_reply.started": "2022-12-01T08:54:39.354169Z"
    },
    "tags": []
   },
   "outputs": [
    {
     "name": "stdout",
     "output_type": "stream",
     "text": [
      "SwinTransformerSys expand initial----depths:[2, 2, 2, 2];depths_decoder:[1, 2, 2, 2];drop_path_rate:0.2;num_classes:2\n",
      "---final upsample expand_first---\n",
      "pretrained_path:pretrain/swin_tiny_patch4_window7_224.pth\n",
      "---start load pretrained modle of swin encoder---\n",
      "_IncompatibleKeys(missing_keys=['layers_up.0.expand.weight', 'layers_up.0.norm.weight', 'layers_up.0.norm.bias', 'layers_up.1.upsample.expand.weight', 'layers_up.1.upsample.norm.weight', 'layers_up.1.upsample.norm.bias', 'layers_up.2.upsample.expand.weight', 'layers_up.2.upsample.norm.weight', 'layers_up.2.upsample.norm.bias', 'concat_back_dim.1.weight', 'concat_back_dim.1.bias', 'concat_back_dim.2.weight', 'concat_back_dim.2.bias', 'concat_back_dim.3.weight', 'concat_back_dim.3.bias', 'norm_up.weight', 'norm_up.bias', 'dec1.conv.conv.0.conv.0.weight', 'dec1.conv.conv.0.conv.0.bias', 'dec1.conv.conv.0.conv.1.weight', 'dec1.conv.conv.0.conv.1.bias', 'dec1.conv.conv.0.conv.1.running_mean', 'dec1.conv.conv.0.conv.1.running_var', 'dec1.conv.conv.1.conv.0.weight', 'dec1.conv.conv.1.conv.0.bias', 'dec1.conv.conv.1.conv.1.weight', 'dec1.conv.conv.1.conv.1.bias', 'dec1.conv.conv.1.conv.1.running_mean', 'dec1.conv.conv.1.conv.1.running_var', 'dec1.recovery_CA.conv1.weight', 'dec1.recovery_CA.conv1.bias', 'dec1.recovery_CA.bn1.weight', 'dec1.recovery_CA.bn1.bias', 'dec1.recovery_CA.bn1.running_mean', 'dec1.recovery_CA.bn1.running_var', 'dec1.recovery_CA.conv.weight', 'dec1.recovery_CA.conv.bias', 'dec1.recovery_CA.conv1_h.weight', 'dec1.recovery_CA.conv1_h.bias', 'dec1.recovery_CA.conv1_w.weight', 'dec1.recovery_CA.conv1_w.bias', 'dec1.recovery_CA.acon.conv_frelu.weight', 'dec1.recovery_CA.acon.conv_frelu.bias', 'dec1.recovery_CA.acon.bn1.weight', 'dec1.recovery_CA.acon.bn1.bias', 'dec1.recovery_CA.acon.bn1.running_mean', 'dec1.recovery_CA.acon.bn1.running_var', 'dec1.recovery_CA.acon.bn2.weight', 'dec1.recovery_CA.acon.bn2.bias', 'dec1.recovery_CA.acon.bn2.running_mean', 'dec1.recovery_CA.acon.bn2.running_var', 'dec2.conv.conv.0.weight', 'dec2.conv.conv.0.bias', 'dec2.conv.conv.1.weight', 'dec2.conv.conv.1.bias', 'dec2.conv.conv.1.running_mean', 'dec2.conv.conv.1.running_var', 'dec2.recovery_CA.conv1.weight', 'dec2.recovery_CA.conv1.bias', 'dec2.recovery_CA.bn1.weight', 'dec2.recovery_CA.bn1.bias', 'dec2.recovery_CA.bn1.running_mean', 'dec2.recovery_CA.bn1.running_var', 'dec2.recovery_CA.conv.weight', 'dec2.recovery_CA.conv.bias', 'dec2.recovery_CA.conv1_h.weight', 'dec2.recovery_CA.conv1_h.bias', 'dec2.recovery_CA.conv1_w.weight', 'dec2.recovery_CA.conv1_w.bias', 'dec2.recovery_CA.acon.conv_frelu.weight', 'dec2.recovery_CA.acon.conv_frelu.bias', 'dec2.recovery_CA.acon.bn1.weight', 'dec2.recovery_CA.acon.bn1.bias', 'dec2.recovery_CA.acon.bn1.running_mean', 'dec2.recovery_CA.acon.bn1.running_var', 'dec2.recovery_CA.acon.bn2.weight', 'dec2.recovery_CA.acon.bn2.bias', 'dec2.recovery_CA.acon.bn2.running_mean', 'dec2.recovery_CA.acon.bn2.running_var', 'dec3.conv.conv.0.weight', 'dec3.conv.conv.0.bias', 'dec3.conv.conv.1.weight', 'dec3.conv.conv.1.bias', 'dec3.conv.conv.1.running_mean', 'dec3.conv.conv.1.running_var', 'dec3.recovery_CA.conv1.weight', 'dec3.recovery_CA.conv1.bias', 'dec3.recovery_CA.bn1.weight', 'dec3.recovery_CA.bn1.bias', 'dec3.recovery_CA.bn1.running_mean', 'dec3.recovery_CA.bn1.running_var', 'dec3.recovery_CA.conv.weight', 'dec3.recovery_CA.conv.bias', 'dec3.recovery_CA.conv1_h.weight', 'dec3.recovery_CA.conv1_h.bias', 'dec3.recovery_CA.conv1_w.weight', 'dec3.recovery_CA.conv1_w.bias', 'dec3.recovery_CA.acon.conv_frelu.weight', 'dec3.recovery_CA.acon.conv_frelu.bias', 'dec3.recovery_CA.acon.bn1.weight', 'dec3.recovery_CA.acon.bn1.bias', 'dec3.recovery_CA.acon.bn1.running_mean', 'dec3.recovery_CA.acon.bn1.running_var', 'dec3.recovery_CA.acon.bn2.weight', 'dec3.recovery_CA.acon.bn2.bias', 'dec3.recovery_CA.acon.bn2.running_mean', 'dec3.recovery_CA.acon.bn2.running_var', 'dec4.conv.conv.0.weight', 'dec4.conv.conv.0.bias', 'dec4.conv.conv.1.weight', 'dec4.conv.conv.1.bias', 'dec4.conv.conv.1.running_mean', 'dec4.conv.conv.1.running_var', 'dec4.recovery_CA.conv1.weight', 'dec4.recovery_CA.conv1.bias', 'dec4.recovery_CA.bn1.weight', 'dec4.recovery_CA.bn1.bias', 'dec4.recovery_CA.bn1.running_mean', 'dec4.recovery_CA.bn1.running_var', 'dec4.recovery_CA.conv.weight', 'dec4.recovery_CA.conv.bias', 'dec4.recovery_CA.conv1_h.weight', 'dec4.recovery_CA.conv1_h.bias', 'dec4.recovery_CA.conv1_w.weight', 'dec4.recovery_CA.conv1_w.bias', 'dec4.recovery_CA.acon.conv_frelu.weight', 'dec4.recovery_CA.acon.conv_frelu.bias', 'dec4.recovery_CA.acon.bn1.weight', 'dec4.recovery_CA.acon.bn1.bias', 'dec4.recovery_CA.acon.bn1.running_mean', 'dec4.recovery_CA.acon.bn1.running_var', 'dec4.recovery_CA.acon.bn2.weight', 'dec4.recovery_CA.acon.bn2.bias', 'dec4.recovery_CA.acon.bn2.running_mean', 'dec4.recovery_CA.acon.bn2.running_var', 'dec5.conv.conv.0.conv.0.weight', 'dec5.conv.conv.0.conv.0.bias', 'dec5.conv.conv.0.conv.1.weight', 'dec5.conv.conv.0.conv.1.bias', 'dec5.conv.conv.0.conv.1.running_mean', 'dec5.conv.conv.0.conv.1.running_var', 'dec5.conv.conv.1.conv.0.weight', 'dec5.conv.conv.1.conv.0.bias', 'dec5.conv.conv.1.conv.1.weight', 'dec5.conv.conv.1.conv.1.bias', 'dec5.conv.conv.1.conv.1.running_mean', 'dec5.conv.conv.1.conv.1.running_var', 'output1.weight', 'CA_block_1.conv1.weight', 'CA_block_1.conv1.bias', 'CA_block_1.bn1.weight', 'CA_block_1.bn1.bias', 'CA_block_1.bn1.running_mean', 'CA_block_1.bn1.running_var', 'CA_block_1.conv_h.weight', 'CA_block_1.conv_h.bias', 'CA_block_1.conv_w.weight', 'CA_block_1.conv_w.bias', 'CA_block_2.conv1.weight', 'CA_block_2.conv1.bias', 'CA_block_2.bn1.weight', 'CA_block_2.bn1.bias', 'CA_block_2.bn1.running_mean', 'CA_block_2.bn1.running_var', 'CA_block_2.conv_h.weight', 'CA_block_2.conv_h.bias', 'CA_block_2.conv_w.weight', 'CA_block_2.conv_w.bias', 'CA_block_3.conv1.weight', 'CA_block_3.conv1.bias', 'CA_block_3.bn1.weight', 'CA_block_3.bn1.bias', 'CA_block_3.bn1.running_mean', 'CA_block_3.bn1.running_var', 'CA_block_3.conv_h.weight', 'CA_block_3.conv_h.bias', 'CA_block_3.conv_w.weight', 'CA_block_3.conv_w.bias', 'first_conv.conv.0.conv.0.weight', 'first_conv.conv.0.conv.0.bias', 'first_conv.conv.0.conv.1.weight', 'first_conv.conv.0.conv.1.bias', 'first_conv.conv.0.conv.1.running_mean', 'first_conv.conv.0.conv.1.running_var', 'first_conv.conv.1.conv.0.weight', 'first_conv.conv.1.conv.0.bias', 'first_conv.conv.1.conv.1.weight', 'first_conv.conv.1.conv.1.bias', 'first_conv.conv.1.conv.1.running_mean', 'first_conv.conv.1.conv.1.running_var', 'up.expand.weight', 'up.norm.weight', 'up.norm.bias', 'output.weight'], unexpected_keys=['head.weight', 'head.bias', 'layers.2.blocks.2.norm1.weight', 'layers.2.blocks.2.norm1.bias', 'layers.2.blocks.2.attn.qkv.weight', 'layers.2.blocks.2.attn.qkv.bias', 'layers.2.blocks.2.attn.proj.weight', 'layers.2.blocks.2.attn.proj.bias', 'layers.2.blocks.2.norm2.weight', 'layers.2.blocks.2.norm2.bias', 'layers.2.blocks.2.mlp.fc1.weight', 'layers.2.blocks.2.mlp.fc1.bias', 'layers.2.blocks.2.mlp.fc2.weight', 'layers.2.blocks.2.mlp.fc2.bias', 'layers.2.blocks.3.norm1.weight', 'layers.2.blocks.3.norm1.bias', 'layers.2.blocks.3.attn.qkv.weight', 'layers.2.blocks.3.attn.qkv.bias', 'layers.2.blocks.3.attn.proj.weight', 'layers.2.blocks.3.attn.proj.bias', 'layers.2.blocks.3.norm2.weight', 'layers.2.blocks.3.norm2.bias', 'layers.2.blocks.3.mlp.fc1.weight', 'layers.2.blocks.3.mlp.fc1.bias', 'layers.2.blocks.3.mlp.fc2.weight', 'layers.2.blocks.3.mlp.fc2.bias', 'layers.2.blocks.4.norm1.weight', 'layers.2.blocks.4.norm1.bias', 'layers.2.blocks.4.attn.qkv.weight', 'layers.2.blocks.4.attn.qkv.bias', 'layers.2.blocks.4.attn.proj.weight', 'layers.2.blocks.4.attn.proj.bias', 'layers.2.blocks.4.norm2.weight', 'layers.2.blocks.4.norm2.bias', 'layers.2.blocks.4.mlp.fc1.weight', 'layers.2.blocks.4.mlp.fc1.bias', 'layers.2.blocks.4.mlp.fc2.weight', 'layers.2.blocks.4.mlp.fc2.bias', 'layers.2.blocks.5.norm1.weight', 'layers.2.blocks.5.norm1.bias', 'layers.2.blocks.5.attn.qkv.weight', 'layers.2.blocks.5.attn.qkv.bias', 'layers.2.blocks.5.attn.proj.weight', 'layers.2.blocks.5.attn.proj.bias', 'layers.2.blocks.5.norm2.weight', 'layers.2.blocks.5.norm2.bias', 'layers.2.blocks.5.mlp.fc1.weight', 'layers.2.blocks.5.mlp.fc1.bias', 'layers.2.blocks.5.mlp.fc2.weight', 'layers.2.blocks.5.mlp.fc2.bias', 'layers.2.blocks.2.attn.relative_position_index', 'layers.2.blocks.3.attn.relative_position_index', 'layers.2.blocks.4.attn.relative_position_index', 'layers.2.blocks.5.attn.relative_position_index', 'layers.2.blocks.3.attn_mask', 'layers.2.blocks.5.attn_mask', 'layers.2.blocks.2.attn.relative_position_bias_table', 'layers.2.blocks.3.attn.relative_position_bias_table', 'layers.2.blocks.4.attn.relative_position_bias_table', 'layers.2.blocks.5.attn.relative_position_bias_table', 'layers_up.0.blocks.0.norm1.weight', 'layers_up.0.blocks.0.norm1.bias', 'layers_up.0.blocks.0.attn.qkv.weight', 'layers_up.0.blocks.0.attn.qkv.bias', 'layers_up.0.blocks.0.attn.proj.weight', 'layers_up.0.blocks.0.attn.proj.bias', 'layers_up.0.blocks.0.norm2.weight', 'layers_up.0.blocks.0.norm2.bias', 'layers_up.0.blocks.0.mlp.fc1.weight', 'layers_up.0.blocks.0.mlp.fc1.bias', 'layers_up.0.blocks.0.mlp.fc2.weight', 'layers_up.0.blocks.0.mlp.fc2.bias', 'layers_up.0.blocks.1.norm1.weight', 'layers_up.0.blocks.1.norm1.bias', 'layers_up.0.blocks.1.attn.qkv.weight', 'layers_up.0.blocks.1.attn.qkv.bias', 'layers_up.0.blocks.1.attn.proj.weight', 'layers_up.0.blocks.1.attn.proj.bias', 'layers_up.0.blocks.1.norm2.weight', 'layers_up.0.blocks.1.norm2.bias', 'layers_up.0.blocks.1.mlp.fc1.weight', 'layers_up.0.blocks.1.mlp.fc1.bias', 'layers_up.0.blocks.1.mlp.fc2.weight', 'layers_up.0.blocks.1.mlp.fc2.bias', 'layers_up.0.blocks.0.attn.relative_position_index', 'layers_up.0.blocks.1.attn.relative_position_index', 'layers_up.0.blocks.0.attn.relative_position_bias_table', 'layers_up.0.blocks.1.attn.relative_position_bias_table', 'layers_up.1.downsample.norm.weight', 'layers_up.1.downsample.norm.bias', 'layers_up.1.downsample.reduction.weight', 'layers_up.1.blocks.2.norm1.weight', 'layers_up.1.blocks.2.norm1.bias', 'layers_up.1.blocks.2.attn.qkv.weight', 'layers_up.1.blocks.2.attn.qkv.bias', 'layers_up.1.blocks.2.attn.proj.weight', 'layers_up.1.blocks.2.attn.proj.bias', 'layers_up.1.blocks.2.norm2.weight', 'layers_up.1.blocks.2.norm2.bias', 'layers_up.1.blocks.2.mlp.fc1.weight', 'layers_up.1.blocks.2.mlp.fc1.bias', 'layers_up.1.blocks.2.mlp.fc2.weight', 'layers_up.1.blocks.2.mlp.fc2.bias', 'layers_up.1.blocks.3.norm1.weight', 'layers_up.1.blocks.3.norm1.bias', 'layers_up.1.blocks.3.attn.qkv.weight', 'layers_up.1.blocks.3.attn.qkv.bias', 'layers_up.1.blocks.3.attn.proj.weight', 'layers_up.1.blocks.3.attn.proj.bias', 'layers_up.1.blocks.3.norm2.weight', 'layers_up.1.blocks.3.norm2.bias', 'layers_up.1.blocks.3.mlp.fc1.weight', 'layers_up.1.blocks.3.mlp.fc1.bias', 'layers_up.1.blocks.3.mlp.fc2.weight', 'layers_up.1.blocks.3.mlp.fc2.bias', 'layers_up.1.blocks.4.norm1.weight', 'layers_up.1.blocks.4.norm1.bias', 'layers_up.1.blocks.4.attn.qkv.weight', 'layers_up.1.blocks.4.attn.qkv.bias', 'layers_up.1.blocks.4.attn.proj.weight', 'layers_up.1.blocks.4.attn.proj.bias', 'layers_up.1.blocks.4.norm2.weight', 'layers_up.1.blocks.4.norm2.bias', 'layers_up.1.blocks.4.mlp.fc1.weight', 'layers_up.1.blocks.4.mlp.fc1.bias', 'layers_up.1.blocks.4.mlp.fc2.weight', 'layers_up.1.blocks.4.mlp.fc2.bias', 'layers_up.1.blocks.5.norm1.weight', 'layers_up.1.blocks.5.norm1.bias', 'layers_up.1.blocks.5.attn.qkv.weight', 'layers_up.1.blocks.5.attn.qkv.bias', 'layers_up.1.blocks.5.attn.proj.weight', 'layers_up.1.blocks.5.attn.proj.bias', 'layers_up.1.blocks.5.norm2.weight', 'layers_up.1.blocks.5.norm2.bias', 'layers_up.1.blocks.5.mlp.fc1.weight', 'layers_up.1.blocks.5.mlp.fc1.bias', 'layers_up.1.blocks.5.mlp.fc2.weight', 'layers_up.1.blocks.5.mlp.fc2.bias', 'layers_up.1.blocks.2.attn.relative_position_index', 'layers_up.1.blocks.3.attn.relative_position_index', 'layers_up.1.blocks.4.attn.relative_position_index', 'layers_up.1.blocks.5.attn.relative_position_index', 'layers_up.1.blocks.3.attn_mask', 'layers_up.1.blocks.5.attn_mask', 'layers_up.1.blocks.2.attn.relative_position_bias_table', 'layers_up.1.blocks.3.attn.relative_position_bias_table', 'layers_up.1.blocks.4.attn.relative_position_bias_table', 'layers_up.1.blocks.5.attn.relative_position_bias_table', 'layers_up.2.downsample.norm.weight', 'layers_up.2.downsample.norm.bias', 'layers_up.2.downsample.reduction.weight', 'layers_up.3.downsample.norm.weight', 'layers_up.3.downsample.norm.bias', 'layers_up.3.downsample.reduction.weight'])\n",
      "--finish load pretrained model---\n"
     ]
    },
    {
     "name": "stderr",
     "output_type": "stream",
     "text": [
      "[2022-12-01 08:54:48,533][train.py][line:389][INFO] =========================================================================================================\n",
      "Layer (type:depth-idx)                                  Output Shape              Param #\n",
      "=========================================================================================================\n",
      "SwinUnet                                                --                        --\n",
      "├─SwinTransformerSys: 1                                 --                        --\n",
      "│    └─ModuleList: 2-1                                  --                        --\n",
      "│    └─ModuleList: 2-2                                  --                        --\n",
      "│    └─ModuleList: 2-3                                  --                        --\n",
      "├─SwinTransformerSys: 1-1                               [8, 2, 224, 224]          --\n",
      "│    └─DoubleConv: 2-4                                  [8, 48, 224, 224]         --\n",
      "│    │    └─Sequential: 3-1                             [8, 48, 224, 224]         22,320\n",
      "│    └─MaxPool2d: 2-5                                   [8, 48, 112, 112]         --\n",
      "│    └─PatchEmbed: 2-6                                  [8, 3136, 96]             --\n",
      "│    │    └─Conv2d: 3-2                                 [8, 96, 56, 56]           4,704\n",
      "│    │    └─LayerNorm: 3-3                              [8, 3136, 96]             192\n",
      "│    └─Dropout: 2-7                                     [8, 3136, 96]             --\n",
      "│    └─ModuleList: 2-1                                  --                        --\n",
      "│    │    └─BasicLayer: 3-4                             [8, 784, 192]             299,190\n",
      "│    │    └─BasicLayer: 3-5                             [8, 196, 384]             1,188,204\n",
      "│    │    └─BasicLayer: 3-6                             [8, 49, 768]              4,735,704\n",
      "│    │    └─BasicLayer: 3-7                             [8, 49, 768]              14,183,856\n",
      "│    └─LayerNorm: 2-8                                   [8, 49, 768]              1,536\n",
      "│    └─Up1: 2-9                                         [8, 384, 14, 14]          --\n",
      "│    │    └─Upsample: 3-8                               [8, 768, 14, 14]          --\n",
      "│    │    └─DoubleConv: 3-9                             [8, 384, 14, 14]          5,310,720\n",
      "│    └─Up2: 2-10                                        [8, 192, 28, 28]          --\n",
      "│    │    └─Upsample: 3-10                              [8, 384, 28, 28]          --\n",
      "│    │    └─SignleConv: 3-11                            [8, 192, 28, 28]          995,904\n",
      "│    └─Up3: 2-11                                        [8, 96, 56, 56]           --\n",
      "│    │    └─Upsample: 3-12                              [8, 192, 56, 56]          --\n",
      "│    │    └─SignleConv: 3-13                            [8, 96, 56, 56]           249,120\n",
      "│    └─Up4: 2-12                                        [8, 48, 112, 112]         --\n",
      "│    │    └─Upsample: 3-14                              [8, 96, 112, 112]         --\n",
      "│    │    └─SignleConv: 3-15                            [8, 48, 112, 112]         62,352\n",
      "│    └─FinalUp: 2-13                                    [8, 24, 224, 224]         --\n",
      "│    │    └─Upsample: 3-16                              [8, 48, 224, 224]         --\n",
      "│    │    └─DoubleConv: 3-17                            [8, 24, 224, 224]         15,696\n",
      "│    └─Conv2d: 2-14                                     [8, 2, 224, 224]          48\n",
      "=========================================================================================================\n",
      "Total params: 27,054,336\n",
      "Trainable params: 27,054,336\n",
      "Non-trainable params: 0\n",
      "Total mult-adds (G): 42.61\n",
      "=========================================================================================================\n",
      "Input size (MB): 4.82\n",
      "Forward/backward pass size (MB): 1971.72\n",
      "Params size (MB): 108.22\n",
      "Estimated Total Size (MB): 2084.75\n",
      "=========================================================================================================\n",
      "[2022-12-01 08:54:48,537][train.py][line:390][INFO] start training!\n",
      "Epoch 1/100: 100%|██████████| 554/554 [01:22<00:00,  6.85it/s, f_score=0.866, lr=0.0001, total_loss=0.248, train_background=0.792][2022-12-01 08:56:11,409][train.py][line:153][INFO] Epoch:[1/100]\t train loss=0.24815544\t train dice=0.86583221\t lr=0.00010000\n",
      "\n",
      "[2022-12-01 08:56:11,412][train.py][line:154][INFO] train score=0.8658320903778076\n",
      "\n",
      "[2022-12-01 08:56:11,413][train.py][line:158][INFO] train stroke=0.9399379860838398\t background=0.7917264283967578\t score=0.8658322070587413\n",
      "\n",
      "Epoch 1/100: 100%|██████████| 554/554 [01:22<00:00,  6.69it/s, f_score=0.866, lr=0.0001, total_loss=0.248, train_background=0.792]\n",
      "Epoch 1/100:   0%|          | 0/184 [00:00<?, ?it/s<class 'dict'>]"
     ]
    },
    {
     "name": "stdout",
     "output_type": "stream",
     "text": [
      "Start Validation\n"
     ]
    },
    {
     "name": "stderr",
     "output_type": "stream",
     "text": [
      "Epoch 1/100:  99%|█████████▉| 183/184 [00:09<00:00, 21.51it/s, f_score=0.909, lr=0.0001, total_loss=0.164, val_background=0.856][2022-12-01 08:56:20,555][train.py][line:245][INFO] Epoch:[1/100]\t iteration:184 val loss=0.16427109\t val dice=0.90928205\t lr=0.00010000\n",
      "[2022-12-01 08:56:20,558][train.py][line:250][INFO] val stroke=0.9626913844891216\t background=0.855872719184212\t score=0.9092822670936584\n",
      "\n",
      "Epoch 1/100: 100%|██████████| 184/184 [00:09<00:00, 20.14it/s, f_score=0.909, lr=0.0001, total_loss=0.164, val_background=0.856]\n"
     ]
    },
    {
     "name": "stdout",
     "output_type": "stream",
     "text": [
      "Finish Validation\n",
      "Epoch:1/100\n",
      "Total Loss: 0.2477\n",
      "Saving state, iter: 1\n"
     ]
    },
    {
     "name": "stderr",
     "output_type": "stream",
     "text": [
      "Epoch 2/100: 100%|██████████| 554/554 [01:20<00:00,  7.09it/s, f_score=0.913, lr=9.98e-5, total_loss=0.153, train_background=0.864][2022-12-01 08:57:41,526][train.py][line:153][INFO] Epoch:[2/100]\t train loss=0.15311283\t train dice=0.91319439\t lr=0.00009978\n",
      "\n",
      "[2022-12-01 08:57:41,529][train.py][line:154][INFO] train score=0.9131946563720703\n",
      "\n",
      "[2022-12-01 08:57:41,531][train.py][line:158][INFO] train stroke=0.9619603875742062\t background=0.8644283980884276\t score=0.9131943946065455\n",
      "\n",
      "Epoch 2/100: 100%|██████████| 554/554 [01:20<00:00,  6.88it/s, f_score=0.913, lr=9.98e-5, total_loss=0.153, train_background=0.864]\n",
      "Epoch 2/100:   0%|          | 0/184 [00:00<?, ?it/s<class 'dict'>]"
     ]
    },
    {
     "name": "stdout",
     "output_type": "stream",
     "text": [
      "Start Validation\n"
     ]
    },
    {
     "name": "stderr",
     "output_type": "stream",
     "text": [
      "Epoch 2/100:  99%|█████████▉| 183/184 [00:09<00:00, 21.48it/s, f_score=0.919, lr=9.98e-5, total_loss=0.132, val_background=0.872][2022-12-01 08:57:50,661][train.py][line:245][INFO] Epoch:[2/100]\t iteration:184 val loss=0.13196160\t val dice=0.91919349\t lr=0.00009978\n",
      "[2022-12-01 08:57:50,663][train.py][line:250][INFO] val stroke=0.9664605405667553\t background=0.8719264417886734\t score=0.9191936254501343\n",
      "\n",
      "Epoch 2/100: 100%|██████████| 184/184 [00:09<00:00, 20.17it/s, f_score=0.919, lr=9.98e-5, total_loss=0.132, val_background=0.872]\n"
     ]
    },
    {
     "name": "stdout",
     "output_type": "stream",
     "text": [
      "Finish Validation\n",
      "Epoch:2/100\n",
      "Total Loss: 0.1528\n",
      "Saving state, iter: 2\n"
     ]
    },
    {
     "name": "stderr",
     "output_type": "stream",
     "text": [
      "Epoch 3/100: 100%|██████████| 554/554 [01:20<00:00,  7.04it/s, f_score=0.929, lr=9.91e-5, total_loss=0.118, train_background=0.889][2022-12-01 08:59:11,560][train.py][line:153][INFO] Epoch:[3/100]\t train loss=0.11798555\t train dice=0.92907803\t lr=0.00009911\n",
      "\n",
      "[2022-12-01 08:59:11,563][train.py][line:154][INFO] train score=0.929078221321106\n",
      "\n",
      "[2022-12-01 08:59:11,564][train.py][line:158][INFO] train stroke=0.9691327506884772\t background=0.8890233114092789\t score=0.9290780299191871\n",
      "\n",
      "Epoch 3/100: 100%|██████████| 554/554 [01:20<00:00,  6.88it/s, f_score=0.929, lr=9.91e-5, total_loss=0.118, train_background=0.889]\n",
      "Epoch 3/100:   0%|          | 0/184 [00:00<?, ?it/s<class 'dict'>]"
     ]
    },
    {
     "name": "stdout",
     "output_type": "stream",
     "text": [
      "Start Validation\n"
     ]
    },
    {
     "name": "stderr",
     "output_type": "stream",
     "text": [
      "Epoch 3/100:  99%|█████████▉| 183/184 [00:09<00:00, 21.37it/s, f_score=0.924, lr=9.91e-5, total_loss=0.115, val_background=0.878][2022-12-01 08:59:20,694][train.py][line:245][INFO] Epoch:[3/100]\t iteration:184 val loss=0.11461899\t val dice=0.92394860\t lr=0.00009911\n",
      "[2022-12-01 08:59:20,696][train.py][line:250][INFO] val stroke=0.9695811900107757\t background=0.8783160088502843\t score=0.9239488840103149\n",
      "\n",
      "Epoch 3/100: 100%|██████████| 184/184 [00:09<00:00, 20.16it/s, f_score=0.924, lr=9.91e-5, total_loss=0.115, val_background=0.878]\n"
     ]
    },
    {
     "name": "stdout",
     "output_type": "stream",
     "text": [
      "Finish Validation\n",
      "Epoch:3/100\n",
      "Total Loss: 0.1178\n",
      "Saving state, iter: 3\n"
     ]
    },
    {
     "name": "stderr",
     "output_type": "stream",
     "text": [
      "Epoch 4/100: 100%|█████████▉| 553/554 [01:21<00:00,  7.01it/s, f_score=0.94, lr=9.8e-5, total_loss=0.0971, train_background=0.906] [2022-12-01 09:00:42,568][train.py][line:153][INFO] Epoch:[4/100]\t train loss=0.09712927\t train dice=0.93994213\t lr=0.00009800\n",
      "\n",
      "[2022-12-01 09:00:42,570][train.py][line:154][INFO] train score=0.9399423003196716\n",
      "\n",
      "[2022-12-01 09:00:42,571][train.py][line:158][INFO] train stroke=0.9739088358001158\t background=0.9059754151729901\t score=0.9399421257017322\n",
      "\n",
      "Epoch 4/100: 100%|██████████| 554/554 [01:21<00:00,  6.80it/s, f_score=0.94, lr=9.8e-5, total_loss=0.0971, train_background=0.906]\n",
      "Epoch 4/100:   0%|          | 0/184 [00:00<?, ?it/s<class 'dict'>]"
     ]
    },
    {
     "name": "stdout",
     "output_type": "stream",
     "text": [
      "Start Validation\n"
     ]
    },
    {
     "name": "stderr",
     "output_type": "stream",
     "text": [
      "Epoch 4/100:  99%|█████████▉| 183/184 [00:09<00:00, 21.38it/s, f_score=0.933, lr=9.8e-5, total_loss=0.101, val_background=0.894][2022-12-01 09:00:51,747][train.py][line:245][INFO] Epoch:[4/100]\t iteration:184 val loss=0.10141875\t val dice=0.93347381\t lr=0.00009800\n",
      "[2022-12-01 09:00:51,749][train.py][line:250][INFO] val stroke=0.9724764700817026\t background=0.8944711490817692\t score=0.9334738254547119\n",
      "\n",
      "Epoch 4/100: 100%|██████████| 184/184 [00:09<00:00, 20.06it/s, f_score=0.933, lr=9.8e-5, total_loss=0.101, val_background=0.894]\n"
     ]
    },
    {
     "name": "stdout",
     "output_type": "stream",
     "text": [
      "Finish Validation\n",
      "Epoch:4/100\n",
      "Total Loss: 0.0970\n",
      "Saving state, iter: 4\n"
     ]
    },
    {
     "name": "stderr",
     "output_type": "stream",
     "text": [
      "Epoch 5/100: 100%|█████████▉| 553/554 [01:20<00:00,  7.06it/s, f_score=0.948, lr=9.65e-5, total_loss=0.0833, train_background=0.918][2022-12-01 09:02:12,651][train.py][line:153][INFO] Epoch:[5/100]\t train loss=0.08333931\t train dice=0.94750362\t lr=0.00009646\n",
      "\n",
      "[2022-12-01 09:02:12,653][train.py][line:154][INFO] train score=0.9475032687187195\n",
      "\n",
      "[2022-12-01 09:02:12,653][train.py][line:158][INFO] train stroke=0.9772077491137094\t background=0.9177994917446095\t score=0.9475036215050556\n",
      "\n",
      "Epoch 5/100: 100%|██████████| 554/554 [01:20<00:00,  6.88it/s, f_score=0.948, lr=9.65e-5, total_loss=0.0833, train_background=0.918]\n",
      "Epoch 5/100:   0%|          | 0/184 [00:00<?, ?it/s<class 'dict'>]"
     ]
    },
    {
     "name": "stdout",
     "output_type": "stream",
     "text": [
      "Start Validation\n"
     ]
    },
    {
     "name": "stderr",
     "output_type": "stream",
     "text": [
      "Epoch 5/100:  99%|█████████▉| 183/184 [00:09<00:00, 21.38it/s, f_score=0.937, lr=9.65e-5, total_loss=0.0954, val_background=0.9]  [2022-12-01 09:02:21,833][train.py][line:245][INFO] Epoch:[5/100]\t iteration:184 val loss=0.09540036\t val dice=0.93682112\t lr=0.00009646\n",
      "[2022-12-01 09:02:21,835][train.py][line:250][INFO] val stroke=0.9736573012626689\t background=0.899984940238621\t score=0.9368213415145874\n",
      "\n",
      "Epoch 5/100: 100%|██████████| 184/184 [00:09<00:00, 20.05it/s, f_score=0.937, lr=9.65e-5, total_loss=0.0954, val_background=0.9]\n"
     ]
    },
    {
     "name": "stdout",
     "output_type": "stream",
     "text": [
      "Finish Validation\n",
      "Epoch:5/100\n",
      "Total Loss: 0.0832\n",
      "Saving state, iter: 5\n"
     ]
    },
    {
     "name": "stderr",
     "output_type": "stream",
     "text": [
      "Epoch 6/100: 100%|█████████▉| 553/554 [01:21<00:00,  6.92it/s, f_score=0.952, lr=9.45e-5, total_loss=0.0745, train_background=0.925][2022-12-01 09:03:43,392][train.py][line:153][INFO] Epoch:[6/100]\t train loss=0.07446730\t train dice=0.95233525\t lr=0.00009451\n",
      "\n",
      "[2022-12-01 09:03:43,395][train.py][line:154][INFO] train score=0.9523354768753052\n",
      "\n",
      "[2022-12-01 09:03:43,395][train.py][line:158][INFO] train stroke=0.9793808878759185\t background=0.9252896092643806\t score=0.9523352492156872\n",
      "\n",
      "Epoch 6/100: 100%|██████████| 554/554 [01:21<00:00,  6.82it/s, f_score=0.952, lr=9.45e-5, total_loss=0.0745, train_background=0.925]\n",
      "Epoch 6/100:   0%|          | 0/184 [00:00<?, ?it/s<class 'dict'>]"
     ]
    },
    {
     "name": "stdout",
     "output_type": "stream",
     "text": [
      "Start Validation\n"
     ]
    },
    {
     "name": "stderr",
     "output_type": "stream",
     "text": [
      "Epoch 6/100:  99%|█████████▉| 183/184 [00:09<00:00, 21.28it/s, f_score=0.94, lr=9.45e-5, total_loss=0.0894, val_background=0.905] [2022-12-01 09:03:52,594][train.py][line:245][INFO] Epoch:[6/100]\t iteration:184 val loss=0.08944047\t val dice=0.94009528\t lr=0.00009451\n",
      "[2022-12-01 09:03:52,596][train.py][line:250][INFO] val stroke=0.9752433419875477\t background=0.9049472099413043\t score=0.9400954246520996\n",
      "\n",
      "Epoch 6/100: 100%|██████████| 184/184 [00:09<00:00, 20.01it/s, f_score=0.94, lr=9.45e-5, total_loss=0.0894, val_background=0.905]\n"
     ]
    },
    {
     "name": "stdout",
     "output_type": "stream",
     "text": [
      "Finish Validation\n",
      "Epoch:6/100\n",
      "Total Loss: 0.0743\n",
      "Saving state, iter: 6\n"
     ]
    },
    {
     "name": "stderr",
     "output_type": "stream",
     "text": [
      "Epoch 7/100: 100%|█████████▉| 553/554 [01:20<00:00,  6.88it/s, f_score=0.956, lr=9.22e-5, total_loss=0.0675, train_background=0.932][2022-12-01 09:05:13,493][train.py][line:153][INFO] Epoch:[7/100]\t train loss=0.06749022\t train dice=0.95643040\t lr=0.00009216\n",
      "\n",
      "[2022-12-01 09:05:13,496][train.py][line:154][INFO] train score=0.9564301371574402\n",
      "\n",
      "[2022-12-01 09:05:13,498][train.py][line:158][INFO] train stroke=0.9811562780653957\t background=0.9317045256979629\t score=0.9564304002140404\n",
      "\n",
      "Epoch 7/100: 100%|██████████| 554/554 [01:20<00:00,  6.88it/s, f_score=0.956, lr=9.22e-5, total_loss=0.0675, train_background=0.932]\n",
      "Epoch 7/100:   0%|          | 0/184 [00:00<?, ?it/s<class 'dict'>]"
     ]
    },
    {
     "name": "stdout",
     "output_type": "stream",
     "text": [
      "Start Validation\n"
     ]
    },
    {
     "name": "stderr",
     "output_type": "stream",
     "text": [
      "Epoch 7/100:  99%|█████████▉| 183/184 [00:09<00:00, 21.32it/s, f_score=0.943, lr=9.22e-5, total_loss=0.0856, val_background=0.909][2022-12-01 09:05:22,658][train.py][line:245][INFO] Epoch:[7/100]\t iteration:184 val loss=0.08558466\t val dice=0.94272782\t lr=0.00009216\n",
      "[2022-12-01 09:05:22,661][train.py][line:250][INFO] val stroke=0.9765733801152395\t background=0.9088822596746943\t score=0.94272780418396\n",
      "\n",
      "Epoch 7/100: 100%|██████████| 184/184 [00:09<00:00, 20.09it/s, f_score=0.943, lr=9.22e-5, total_loss=0.0856, val_background=0.909]\n"
     ]
    },
    {
     "name": "stdout",
     "output_type": "stream",
     "text": [
      "Finish Validation\n",
      "Epoch:7/100\n",
      "Total Loss: 0.0674\n",
      "Saving state, iter: 7\n"
     ]
    },
    {
     "name": "stderr",
     "output_type": "stream",
     "text": [
      "Epoch 8/100: 100%|██████████| 554/554 [01:20<00:00,  6.91it/s, f_score=0.96, lr=8.94e-5, total_loss=0.0609, train_background=0.938] [2022-12-01 09:06:43,885][train.py][line:153][INFO] Epoch:[8/100]\t train loss=0.06092326\t train dice=0.96024573\t lr=0.00008944\n",
      "\n",
      "[2022-12-01 09:06:43,888][train.py][line:154][INFO] train score=0.9602458477020264\n",
      "\n",
      "[2022-12-01 09:06:43,889][train.py][line:158][INFO] train stroke=0.9828268949090359\t background=0.9376645682090456\t score=0.9602457312900667\n",
      "\n",
      "Epoch 8/100: 100%|██████████| 554/554 [01:20<00:00,  6.85it/s, f_score=0.96, lr=8.94e-5, total_loss=0.0609, train_background=0.938]\n",
      "Epoch 8/100:   0%|          | 0/184 [00:00<?, ?it/s<class 'dict'>]"
     ]
    },
    {
     "name": "stdout",
     "output_type": "stream",
     "text": [
      "Start Validation\n"
     ]
    },
    {
     "name": "stderr",
     "output_type": "stream",
     "text": [
      "Epoch 8/100:  99%|█████████▉| 183/184 [00:09<00:00, 21.46it/s, f_score=0.942, lr=8.94e-5, total_loss=0.0891, val_background=0.908][2022-12-01 09:06:53,060][train.py][line:245][INFO] Epoch:[8/100]\t iteration:184 val loss=0.08912042\t val dice=0.94214827\t lr=0.00008944\n",
      "[2022-12-01 09:06:53,063][train.py][line:250][INFO] val stroke=0.9758898794003155\t background=0.9084066528341045\t score=0.9421483874320984\n",
      "\n",
      "Epoch 8/100: 100%|██████████| 184/184 [00:09<00:00, 20.07it/s, f_score=0.942, lr=8.94e-5, total_loss=0.0891, val_background=0.908]\n"
     ]
    },
    {
     "name": "stdout",
     "output_type": "stream",
     "text": [
      "Finish Validation\n",
      "Epoch:8/100\n",
      "Total Loss: 0.0608\n",
      "Saving state, iter: 8\n"
     ]
    },
    {
     "name": "stderr",
     "output_type": "stream",
     "text": [
      "Epoch 9/100: 100%|██████████| 554/554 [01:20<00:00,  6.75it/s, f_score=0.963, lr=8.64e-5, total_loss=0.0573, train_background=0.941][2022-12-01 09:08:14,302][train.py][line:153][INFO] Epoch:[9/100]\t train loss=0.05726737\t train dice=0.96252458\t lr=0.00008638\n",
      "\n",
      "[2022-12-01 09:08:14,306][train.py][line:154][INFO] train score=0.9625245332717896\n",
      "\n",
      "[2022-12-01 09:08:14,307][train.py][line:158][INFO] train stroke=0.983783608416788\t background=0.9412655519449323\t score=0.9625245814719355\n",
      "\n",
      "Epoch 9/100: 100%|██████████| 554/554 [01:20<00:00,  6.85it/s, f_score=0.963, lr=8.64e-5, total_loss=0.0573, train_background=0.941]\n",
      "Epoch 9/100:   0%|          | 0/184 [00:00<?, ?it/s<class 'dict'>]"
     ]
    },
    {
     "name": "stdout",
     "output_type": "stream",
     "text": [
      "Start Validation\n"
     ]
    },
    {
     "name": "stderr",
     "output_type": "stream",
     "text": [
      "Epoch 9/100:  99%|█████████▉| 183/184 [00:09<00:00, 21.24it/s, f_score=0.942, lr=8.64e-5, total_loss=0.0866, val_background=0.908][2022-12-01 09:08:23,435][train.py][line:245][INFO] Epoch:[9/100]\t iteration:184 val loss=0.08655483\t val dice=0.94232014\t lr=0.00008638\n",
      "[2022-12-01 09:08:23,438][train.py][line:250][INFO] val stroke=0.9762626928479775\t background=0.9083775832601215\t score=0.9423198103904724\n",
      "\n",
      "Epoch 9/100: 100%|██████████| 184/184 [00:09<00:00, 20.16it/s, f_score=0.942, lr=8.64e-5, total_loss=0.0866, val_background=0.908]\n"
     ]
    },
    {
     "name": "stdout",
     "output_type": "stream",
     "text": [
      "Finish Validation\n",
      "Epoch:9/100\n",
      "Total Loss: 0.0572\n",
      "Saving state, iter: 9\n"
     ]
    },
    {
     "name": "stderr",
     "output_type": "stream",
     "text": [
      "Epoch 10/100: 100%|██████████| 554/554 [01:21<00:00,  7.07it/s, f_score=0.967, lr=8.3e-5, total_loss=0.0505, train_background=0.948][2022-12-01 09:09:45,175][train.py][line:153][INFO] Epoch:[10/100]\t train loss=0.05053879\t train dice=0.96670428\t lr=0.00008300\n",
      "\n",
      "[2022-12-01 09:09:45,177][train.py][line:154][INFO] train score=0.9667041897773743\n",
      "\n",
      "[2022-12-01 09:09:45,178][train.py][line:158][INFO] train stroke=0.985615837337308\t background=0.9477927225376295\t score=0.9667042793995206\n",
      "\n",
      "Epoch 10/100: 100%|██████████| 554/554 [01:21<00:00,  6.81it/s, f_score=0.967, lr=8.3e-5, total_loss=0.0505, train_background=0.948]\n",
      "Epoch 10/100:   0%|          | 0/184 [00:00<?, ?it/s<class 'dict'>]"
     ]
    },
    {
     "name": "stdout",
     "output_type": "stream",
     "text": [
      "Start Validation\n"
     ]
    },
    {
     "name": "stderr",
     "output_type": "stream",
     "text": [
      "Epoch 10/100:  99%|█████████▉| 183/184 [00:09<00:00, 21.50it/s, f_score=0.944, lr=8.3e-5, total_loss=0.0855, val_background=0.912][2022-12-01 09:09:54,324][train.py][line:245][INFO] Epoch:[10/100]\t iteration:184 val loss=0.08554416\t val dice=0.94437072\t lr=0.00008300\n",
      "[2022-12-01 09:09:54,327][train.py][line:250][INFO] val stroke=0.9769506541931111\t background=0.9117907849342927\t score=0.9443708062171936\n",
      "\n",
      "Epoch 10/100: 100%|██████████| 184/184 [00:09<00:00, 20.13it/s, f_score=0.944, lr=8.3e-5, total_loss=0.0855, val_background=0.912]\n"
     ]
    },
    {
     "name": "stdout",
     "output_type": "stream",
     "text": [
      "Finish Validation\n",
      "Epoch:10/100\n",
      "Total Loss: 0.0504\n",
      "Saving state, iter: 10\n"
     ]
    },
    {
     "name": "stderr",
     "output_type": "stream",
     "text": [
      "Epoch 11/100: 100%|██████████| 554/554 [01:20<00:00,  6.56it/s, f_score=0.969, lr=7.93e-5, total_loss=0.0465, train_background=0.951][2022-12-01 09:11:15,073][train.py][line:153][INFO] Epoch:[11/100]\t train loss=0.04653142\t train dice=0.96910733\t lr=0.00007933\n",
      "\n",
      "[2022-12-01 09:11:15,077][train.py][line:154][INFO] train score=0.9691072702407837\n",
      "\n",
      "[2022-12-01 09:11:15,078][train.py][line:158][INFO] train stroke=0.9867276237329421\t background=0.9514870313315615\t score=0.9691073288771219\n",
      "\n",
      "Epoch 11/100: 100%|██████████| 554/554 [01:20<00:00,  6.89it/s, f_score=0.969, lr=7.93e-5, total_loss=0.0465, train_background=0.951]\n",
      "Epoch 11/100:   0%|          | 0/184 [00:00<?, ?it/s<class 'dict'>]"
     ]
    },
    {
     "name": "stdout",
     "output_type": "stream",
     "text": [
      "Start Validation\n"
     ]
    },
    {
     "name": "stderr",
     "output_type": "stream",
     "text": [
      "Epoch 11/100:  99%|█████████▉| 183/184 [00:09<00:00, 21.30it/s, f_score=0.945, lr=7.93e-5, total_loss=0.0859, val_background=0.913][2022-12-01 09:11:24,245][train.py][line:245][INFO] Epoch:[11/100]\t iteration:184 val loss=0.08586864\t val dice=0.94490238\t lr=0.00007933\n",
      "[2022-12-01 09:11:24,249][train.py][line:250][INFO] val stroke=0.9772317710777988\t background=0.9125729967718539\t score=0.9449023008346558\n",
      "\n",
      "Epoch 11/100: 100%|██████████| 184/184 [00:09<00:00, 20.08it/s, f_score=0.945, lr=7.93e-5, total_loss=0.0859, val_background=0.913]\n"
     ]
    },
    {
     "name": "stdout",
     "output_type": "stream",
     "text": [
      "Finish Validation\n",
      "Epoch:11/100\n",
      "Total Loss: 0.0464\n",
      "Saving state, iter: 11\n"
     ]
    },
    {
     "name": "stderr",
     "output_type": "stream",
     "text": [
      "Epoch 12/100: 100%|█████████▉| 553/554 [01:19<00:00,  6.94it/s, f_score=0.971, lr=7.54e-5, total_loss=0.043, train_background=0.955] [2022-12-01 09:12:44,332][train.py][line:153][INFO] Epoch:[12/100]\t train loss=0.04303902\t train dice=0.97138528\t lr=0.00007542\n",
      "\n",
      "[2022-12-01 09:12:44,336][train.py][line:154][INFO] train score=0.9713853001594543\n",
      "\n",
      "[2022-12-01 09:12:44,337][train.py][line:158][INFO] train stroke=0.9876798482793333\t background=0.95509070921891\t score=0.9713852784263528\n",
      "\n",
      "Epoch 12/100: 100%|██████████| 554/554 [01:19<00:00,  6.95it/s, f_score=0.971, lr=7.54e-5, total_loss=0.043, train_background=0.955]\n",
      "Epoch 12/100:   0%|          | 0/184 [00:00<?, ?it/s<class 'dict'>]"
     ]
    },
    {
     "name": "stdout",
     "output_type": "stream",
     "text": [
      "Start Validation\n"
     ]
    },
    {
     "name": "stderr",
     "output_type": "stream",
     "text": [
      "Epoch 12/100:  99%|█████████▉| 183/184 [00:09<00:00, 21.38it/s, f_score=0.945, lr=7.54e-5, total_loss=0.0884, val_background=0.912][2022-12-01 09:12:53,469][train.py][line:245][INFO] Epoch:[12/100]\t iteration:184 val loss=0.08841228\t val dice=0.94475541\t lr=0.00007542\n",
      "[2022-12-01 09:12:53,471][train.py][line:250][INFO] val stroke=0.9771071299910545\t background=0.9124036774687145\t score=0.9447555541992188\n",
      "\n",
      "Epoch 12/100: 100%|██████████| 184/184 [00:09<00:00, 20.16it/s, f_score=0.945, lr=7.54e-5, total_loss=0.0884, val_background=0.912]\n"
     ]
    },
    {
     "name": "stdout",
     "output_type": "stream",
     "text": [
      "Finish Validation\n",
      "Epoch:12/100\n",
      "Total Loss: 0.0430\n",
      "Saving state, iter: 12\n"
     ]
    },
    {
     "name": "stderr",
     "output_type": "stream",
     "text": [
      "Epoch 13/100: 100%|█████████▉| 553/554 [01:21<00:00,  6.93it/s, f_score=0.974, lr=7.13e-5, total_loss=0.0396, train_background=0.958][2022-12-01 09:14:14,985][train.py][line:153][INFO] Epoch:[13/100]\t train loss=0.03955121\t train dice=0.97351038\t lr=0.00007129\n",
      "\n",
      "[2022-12-01 09:14:14,988][train.py][line:154][INFO] train score=0.9735107421875\n",
      "\n",
      "[2022-12-01 09:14:14,989][train.py][line:158][INFO] train stroke=0.9886368075217581\t background=0.9583839566483825\t score=0.9735103814395326\n",
      "\n",
      "Epoch 13/100: 100%|██████████| 554/554 [01:21<00:00,  6.83it/s, f_score=0.974, lr=7.13e-5, total_loss=0.0396, train_background=0.958]\n",
      "Epoch 13/100:   0%|          | 0/184 [00:00<?, ?it/s<class 'dict'>]"
     ]
    },
    {
     "name": "stdout",
     "output_type": "stream",
     "text": [
      "Start Validation\n"
     ]
    },
    {
     "name": "stderr",
     "output_type": "stream",
     "text": [
      "Epoch 13/100:  99%|█████████▉| 183/184 [00:09<00:00, 21.32it/s, f_score=0.945, lr=7.13e-5, total_loss=0.0885, val_background=0.913][2022-12-01 09:14:24,152][train.py][line:245][INFO] Epoch:[13/100]\t iteration:184 val loss=0.08848255\t val dice=0.94477550\t lr=0.00007129\n",
      "[2022-12-01 09:14:24,154][train.py][line:250][INFO] val stroke=0.9770100362922834\t background=0.9125409683455592\t score=0.9447754621505737\n",
      "\n",
      "Epoch 13/100: 100%|██████████| 184/184 [00:09<00:00, 20.09it/s, f_score=0.945, lr=7.13e-5, total_loss=0.0885, val_background=0.913]\n"
     ]
    },
    {
     "name": "stdout",
     "output_type": "stream",
     "text": [
      "Finish Validation\n",
      "Epoch:13/100\n",
      "Total Loss: 0.0395\n",
      "Saving state, iter: 13\n"
     ]
    },
    {
     "name": "stderr",
     "output_type": "stream",
     "text": [
      "Epoch 14/100: 100%|██████████| 554/554 [01:20<00:00,  6.94it/s, f_score=0.975, lr=6.7e-5, total_loss=0.037, train_background=0.961] [2022-12-01 09:15:45,123][train.py][line:153][INFO] Epoch:[14/100]\t train loss=0.03700714\t train dice=0.97518511\t lr=0.00006700\n",
      "\n",
      "[2022-12-01 09:15:45,126][train.py][line:154][INFO] train score=0.975185215473175\n",
      "\n",
      "[2022-12-01 09:15:45,127][train.py][line:158][INFO] train stroke=0.9893234597001265\t background=0.9610467510102888\t score=0.9751851050862337\n",
      "\n",
      "Epoch 14/100: 100%|██████████| 554/554 [01:20<00:00,  6.87it/s, f_score=0.975, lr=6.7e-5, total_loss=0.037, train_background=0.961]\n",
      "Epoch 14/100:   0%|          | 0/184 [00:00<?, ?it/s<class 'dict'>]"
     ]
    },
    {
     "name": "stdout",
     "output_type": "stream",
     "text": [
      "Start Validation\n"
     ]
    },
    {
     "name": "stderr",
     "output_type": "stream",
     "text": [
      "Epoch 14/100:  99%|█████████▉| 183/184 [00:09<00:00, 21.43it/s, f_score=0.943, lr=6.7e-5, total_loss=0.0931, val_background=0.91] [2022-12-01 09:15:54,264][train.py][line:245][INFO] Epoch:[14/100]\t iteration:184 val loss=0.09308997\t val dice=0.94289765\t lr=0.00006700\n",
      "[2022-12-01 09:15:54,266][train.py][line:250][INFO] val stroke=0.9760372583632884\t background=0.9097580303964408\t score=0.9428973197937012\n",
      "\n",
      "Epoch 14/100: 100%|██████████| 184/184 [00:09<00:00, 20.15it/s, f_score=0.943, lr=6.7e-5, total_loss=0.0931, val_background=0.91]\n"
     ]
    },
    {
     "name": "stdout",
     "output_type": "stream",
     "text": [
      "Finish Validation\n",
      "Epoch:14/100\n",
      "Total Loss: 0.0369\n",
      "Saving state, iter: 14\n"
     ]
    },
    {
     "name": "stderr",
     "output_type": "stream",
     "text": [
      "Epoch 15/100: 100%|█████████▉| 553/554 [01:21<00:00,  6.94it/s, f_score=0.976, lr=6.26e-5, total_loss=0.0349, train_background=0.963][2022-12-01 09:17:15,832][train.py][line:153][INFO] Epoch:[15/100]\t train loss=0.03494956\t train dice=0.97645388\t lr=0.00006257\n",
      "\n",
      "[2022-12-01 09:17:15,834][train.py][line:154][INFO] train score=0.9764543175697327\n",
      "\n",
      "[2022-12-01 09:17:15,835][train.py][line:158][INFO] train stroke=0.9899001334548427\t background=0.963007633651637\t score=0.9764538819393956\n",
      "\n",
      "Epoch 15/100: 100%|██████████| 554/554 [01:21<00:00,  6.82it/s, f_score=0.976, lr=6.26e-5, total_loss=0.0349, train_background=0.963]\n",
      "Epoch 15/100:   0%|          | 0/184 [00:00<?, ?it/s<class 'dict'>]"
     ]
    },
    {
     "name": "stdout",
     "output_type": "stream",
     "text": [
      "Start Validation\n"
     ]
    },
    {
     "name": "stderr",
     "output_type": "stream",
     "text": [
      "Epoch 15/100:  99%|█████████▉| 183/184 [00:09<00:00, 21.43it/s, f_score=0.945, lr=6.26e-5, total_loss=0.0904, val_background=0.913][2022-12-01 09:17:24,971][train.py][line:245][INFO] Epoch:[15/100]\t iteration:184 val loss=0.09035394\t val dice=0.94494970\t lr=0.00006257\n",
      "[2022-12-01 09:17:24,974][train.py][line:250][INFO] val stroke=0.9772097653020984\t background=0.9126896239493204\t score=0.9449498653411865\n",
      "\n",
      "Epoch 15/100: 100%|██████████| 184/184 [00:09<00:00, 20.15it/s, f_score=0.945, lr=6.26e-5, total_loss=0.0904, val_background=0.913]\n"
     ]
    },
    {
     "name": "stdout",
     "output_type": "stream",
     "text": [
      "Finish Validation\n",
      "Epoch:15/100\n",
      "Total Loss: 0.0349\n",
      "Saving state, iter: 15\n"
     ]
    },
    {
     "name": "stderr",
     "output_type": "stream",
     "text": [
      "Epoch 16/100: 100%|██████████| 554/554 [01:21<00:00,  7.09it/s, f_score=0.977, lr=5.81e-5, total_loss=0.0345, train_background=0.964][2022-12-01 09:18:46,620][train.py][line:153][INFO] Epoch:[16/100]\t train loss=0.03446658\t train dice=0.97683649\t lr=0.00005806\n",
      "\n",
      "[2022-12-01 09:18:46,623][train.py][line:154][INFO] train score=0.9768363833427429\n",
      "\n",
      "[2022-12-01 09:18:46,624][train.py][line:158][INFO] train stroke=0.9900704322093661\t background=0.9636025563258988\t score=0.9768364926537882\n",
      "\n",
      "Epoch 16/100: 100%|██████████| 554/554 [01:21<00:00,  6.82it/s, f_score=0.977, lr=5.81e-5, total_loss=0.0345, train_background=0.964]\n",
      "Epoch 16/100:   0%|          | 0/184 [00:00<?, ?it/s<class 'dict'>]"
     ]
    },
    {
     "name": "stdout",
     "output_type": "stream",
     "text": [
      "Start Validation\n"
     ]
    },
    {
     "name": "stderr",
     "output_type": "stream",
     "text": [
      "Epoch 16/100:  99%|█████████▉| 183/184 [00:09<00:00, 21.49it/s, f_score=0.944, lr=5.81e-5, total_loss=0.0921, val_background=0.911][2022-12-01 09:18:55,822][train.py][line:245][INFO] Epoch:[16/100]\t iteration:184 val loss=0.09213513\t val dice=0.94417990\t lr=0.00005806\n",
      "[2022-12-01 09:18:55,825][train.py][line:250][INFO] val stroke=0.9769740668327912\t background=0.9113857448101044\t score=0.9441803097724915\n",
      "\n",
      "Epoch 16/100: 100%|██████████| 184/184 [00:09<00:00, 20.01it/s, f_score=0.944, lr=5.81e-5, total_loss=0.0921, val_background=0.911]\n"
     ]
    },
    {
     "name": "stdout",
     "output_type": "stream",
     "text": [
      "Finish Validation\n",
      "Epoch:16/100\n",
      "Total Loss: 0.0344\n",
      "Saving state, iter: 16\n"
     ]
    },
    {
     "name": "stderr",
     "output_type": "stream",
     "text": [
      "Epoch 17/100: 100%|█████████▉| 553/554 [01:20<00:00,  7.03it/s, f_score=0.978, lr=5.35e-5, total_loss=0.0328, train_background=0.965][2022-12-01 09:20:16,462][train.py][line:153][INFO] Epoch:[17/100]\t train loss=0.03279481\t train dice=0.97796629\t lr=0.00005350\n",
      "\n",
      "[2022-12-01 09:20:16,464][train.py][line:154][INFO] train score=0.9779664278030396\n",
      "\n",
      "[2022-12-01 09:20:16,465][train.py][line:158][INFO] train stroke=0.9905042830141874\t background=0.9654283044785799\t score=0.9779662947146901\n",
      "\n",
      "Epoch 17/100: 100%|██████████| 554/554 [01:20<00:00,  6.90it/s, f_score=0.978, lr=5.35e-5, total_loss=0.0328, train_background=0.965]\n",
      "Epoch 17/100:   0%|          | 0/184 [00:00<?, ?it/s<class 'dict'>]"
     ]
    },
    {
     "name": "stdout",
     "output_type": "stream",
     "text": [
      "Start Validation\n"
     ]
    },
    {
     "name": "stderr",
     "output_type": "stream",
     "text": [
      "Epoch 17/100:  99%|█████████▉| 183/184 [00:09<00:00, 21.41it/s, f_score=0.942, lr=5.35e-5, total_loss=0.0986, val_background=0.908][2022-12-01 09:20:25,605][train.py][line:245][INFO] Epoch:[17/100]\t iteration:184 val loss=0.09855580\t val dice=0.94197434\t lr=0.00005350\n",
      "[2022-12-01 09:20:25,607][train.py][line:250][INFO] val stroke=0.9756019834590994\t background=0.9083466963923496\t score=0.9419743418693542\n",
      "\n",
      "Epoch 17/100: 100%|██████████| 184/184 [00:09<00:00, 20.14it/s, f_score=0.942, lr=5.35e-5, total_loss=0.0986, val_background=0.908]\n"
     ]
    },
    {
     "name": "stdout",
     "output_type": "stream",
     "text": [
      "Finish Validation\n",
      "Epoch:17/100\n",
      "Total Loss: 0.0327\n",
      "Saving state, iter: 17\n"
     ]
    },
    {
     "name": "stderr",
     "output_type": "stream",
     "text": [
      "Epoch 18/100: 100%|█████████▉| 553/554 [01:20<00:00,  7.05it/s, f_score=0.98, lr=4.89e-5, total_loss=0.0301, train_background=0.968] [2022-12-01 09:21:46,772][train.py][line:153][INFO] Epoch:[18/100]\t train loss=0.03010000\t train dice=0.97960356\t lr=0.00004894\n",
      "\n",
      "[2022-12-01 09:21:46,775][train.py][line:154][INFO] train score=0.979603111743927\n",
      "\n",
      "[2022-12-01 09:21:46,776][train.py][line:158][INFO] train stroke=0.991269791169287\t background=0.967937335963714\t score=0.9796035639430641\n",
      "\n",
      "Epoch 18/100: 100%|██████████| 554/554 [01:20<00:00,  6.86it/s, f_score=0.98, lr=4.89e-5, total_loss=0.0301, train_background=0.968]\n",
      "Epoch 18/100:   0%|          | 0/184 [00:00<?, ?it/s<class 'dict'>]"
     ]
    },
    {
     "name": "stdout",
     "output_type": "stream",
     "text": [
      "Start Validation\n"
     ]
    },
    {
     "name": "stderr",
     "output_type": "stream",
     "text": [
      "Epoch 18/100:  99%|█████████▉| 183/184 [00:09<00:00, 21.38it/s, f_score=0.945, lr=4.89e-5, total_loss=0.0936, val_background=0.912][2022-12-01 09:21:55,923][train.py][line:245][INFO] Epoch:[18/100]\t iteration:184 val loss=0.09359762\t val dice=0.94479209\t lr=0.00004894\n",
      "[2022-12-01 09:21:55,925][train.py][line:250][INFO] val stroke=0.9771697087132413\t background=0.9124144859935926\t score=0.9447923898696899\n",
      "\n",
      "Epoch 18/100: 100%|██████████| 184/184 [00:09<00:00, 20.12it/s, f_score=0.945, lr=4.89e-5, total_loss=0.0936, val_background=0.912]\n"
     ]
    },
    {
     "name": "stdout",
     "output_type": "stream",
     "text": [
      "Finish Validation\n",
      "Epoch:18/100\n",
      "Total Loss: 0.0300\n",
      "Saving state, iter: 18\n"
     ]
    },
    {
     "name": "stderr",
     "output_type": "stream",
     "text": [
      "Epoch 19/100: 100%|█████████▉| 553/554 [01:20<00:00,  6.92it/s, f_score=0.981, lr=4.44e-5, total_loss=0.0276, train_background=0.971][2022-12-01 09:23:17,021][train.py][line:153][INFO] Epoch:[19/100]\t train loss=0.02760069\t train dice=0.98128637\t lr=0.00004443\n",
      "\n",
      "[2022-12-01 09:23:17,024][train.py][line:154][INFO] train score=0.9812865257263184\n",
      "\n",
      "[2022-12-01 09:23:17,025][train.py][line:158][INFO] train stroke=0.991983168069206\t background=0.9705895661016664\t score=0.9812863669240518\n",
      "\n",
      "Epoch 19/100: 100%|██████████| 554/554 [01:20<00:00,  6.86it/s, f_score=0.981, lr=4.44e-5, total_loss=0.0276, train_background=0.971]\n",
      "Epoch 19/100:   0%|          | 0/184 [00:00<?, ?it/s<class 'dict'>]"
     ]
    },
    {
     "name": "stdout",
     "output_type": "stream",
     "text": [
      "Start Validation\n"
     ]
    },
    {
     "name": "stderr",
     "output_type": "stream",
     "text": [
      "Epoch 19/100:  99%|█████████▉| 183/184 [00:09<00:00, 21.28it/s, f_score=0.943, lr=4.44e-5, total_loss=0.0991, val_background=0.91] [2022-12-01 09:23:26,171][train.py][line:245][INFO] Epoch:[19/100]\t iteration:184 val loss=0.09906231\t val dice=0.94345132\t lr=0.00004443\n",
      "[2022-12-01 09:23:26,173][train.py][line:250][INFO] val stroke=0.9765265043015066\t background=0.9103761402809102\t score=0.9434512853622437\n",
      "\n",
      "Epoch 19/100: 100%|██████████| 184/184 [00:09<00:00, 20.13it/s, f_score=0.943, lr=4.44e-5, total_loss=0.0991, val_background=0.91]\n"
     ]
    },
    {
     "name": "stdout",
     "output_type": "stream",
     "text": [
      "Finish Validation\n",
      "Epoch:19/100\n",
      "Total Loss: 0.0276\n",
      "Saving state, iter: 19\n"
     ]
    },
    {
     "name": "stderr",
     "output_type": "stream",
     "text": [
      "Epoch 20/100: 100%|██████████| 554/554 [01:21<00:00,  6.95it/s, f_score=0.982, lr=4e-5, total_loss=0.0266, train_background=0.972][2022-12-01 09:24:47,994][train.py][line:153][INFO] Epoch:[20/100]\t train loss=0.02657259\t train dice=0.98192809\t lr=0.00004000\n",
      "\n",
      "[2022-12-01 09:24:47,998][train.py][line:154][INFO] train score=0.981927752494812\n",
      "\n",
      "[2022-12-01 09:24:47,999][train.py][line:158][INFO] train stroke=0.9922738375431364\t background=0.9715823398815596\t score=0.9819280876364519\n",
      "\n",
      "Epoch 20/100: 100%|██████████| 554/554 [01:21<00:00,  6.80it/s, f_score=0.982, lr=4e-5, total_loss=0.0266, train_background=0.972]\n",
      "Epoch 20/100:   0%|          | 0/184 [00:00<?, ?it/s<class 'dict'>]"
     ]
    },
    {
     "name": "stdout",
     "output_type": "stream",
     "text": [
      "Start Validation\n"
     ]
    },
    {
     "name": "stderr",
     "output_type": "stream",
     "text": [
      "Epoch 20/100:  99%|█████████▉| 183/184 [00:09<00:00, 21.29it/s, f_score=0.944, lr=4e-5, total_loss=0.0986, val_background=0.912][2022-12-01 09:24:57,198][train.py][line:245][INFO] Epoch:[20/100]\t iteration:184 val loss=0.09859341\t val dice=0.94425051\t lr=0.00004000\n",
      "[2022-12-01 09:24:57,200][train.py][line:250][INFO] val stroke=0.9768363065693689\t background=0.9116647094488144\t score=0.9442502856254578\n",
      "\n",
      "Epoch 20/100: 100%|██████████| 184/184 [00:09<00:00, 20.01it/s, f_score=0.944, lr=4e-5, total_loss=0.0986, val_background=0.912]\n"
     ]
    },
    {
     "name": "stdout",
     "output_type": "stream",
     "text": [
      "Finish Validation\n",
      "Epoch:20/100\n",
      "Total Loss: 0.0265\n",
      "Saving state, iter: 20\n"
     ]
    },
    {
     "name": "stderr",
     "output_type": "stream",
     "text": [
      "Epoch 21/100: 100%|█████████▉| 553/554 [01:21<00:00,  6.85it/s, f_score=0.983, lr=3.57e-5, total_loss=0.0255, train_background=0.973][2022-12-01 09:26:19,454][train.py][line:153][INFO] Epoch:[21/100]\t train loss=0.02545575\t train dice=0.98271338\t lr=0.00003571\n",
      "\n",
      "[2022-12-01 09:26:19,457][train.py][line:154][INFO] train score=0.9827131628990173\n",
      "\n",
      "[2022-12-01 09:26:19,458][train.py][line:158][INFO] train stroke=0.9926025871765742\t background=0.9728241811375326\t score=0.9827133837804898\n",
      "\n",
      "Epoch 21/100: 100%|██████████| 554/554 [01:21<00:00,  6.77it/s, f_score=0.983, lr=3.57e-5, total_loss=0.0255, train_background=0.973]\n",
      "Epoch 21/100:   0%|          | 0/184 [00:00<?, ?it/s<class 'dict'>]"
     ]
    },
    {
     "name": "stdout",
     "output_type": "stream",
     "text": [
      "Start Validation\n"
     ]
    },
    {
     "name": "stderr",
     "output_type": "stream",
     "text": [
      "Epoch 21/100:  99%|█████████▉| 183/184 [00:09<00:00, 21.35it/s, f_score=0.945, lr=3.57e-5, total_loss=0.0956, val_background=0.912][2022-12-01 09:26:28,770][train.py][line:245][INFO] Epoch:[21/100]\t iteration:184 val loss=0.09555781\t val dice=0.94466400\t lr=0.00003571\n",
      "[2022-12-01 09:26:28,772][train.py][line:250][INFO] val stroke=0.9770750549176465\t background=0.9122529509274856\t score=0.9446640014648438\n",
      "\n",
      "Epoch 21/100: 100%|██████████| 184/184 [00:09<00:00, 19.77it/s, f_score=0.945, lr=3.57e-5, total_loss=0.0956, val_background=0.912]\n"
     ]
    },
    {
     "name": "stdout",
     "output_type": "stream",
     "text": [
      "Finish Validation\n",
      "Epoch:21/100\n",
      "Total Loss: 0.0254\n",
      "Saving state, iter: 21\n"
     ]
    },
    {
     "name": "stderr",
     "output_type": "stream",
     "text": [
      "Epoch 22/100: 100%|██████████| 554/554 [01:21<00:00,  6.97it/s, f_score=0.984, lr=3.16e-5, total_loss=0.0235, train_background=0.975][2022-12-01 09:27:50,834][train.py][line:153][INFO] Epoch:[22/100]\t train loss=0.02351723\t train dice=0.98401106\t lr=0.00003158\n",
      "\n",
      "[2022-12-01 09:27:50,836][train.py][line:154][INFO] train score=0.9840105175971985\n",
      "\n",
      "[2022-12-01 09:27:50,837][train.py][line:158][INFO] train stroke=0.9931639895542433\t background=0.974858132510409\t score=0.9840110621082223\n",
      "\n",
      "Epoch 22/100: 100%|██████████| 554/554 [01:21<00:00,  6.79it/s, f_score=0.984, lr=3.16e-5, total_loss=0.0235, train_background=0.975]\n",
      "Epoch 22/100:   0%|          | 0/184 [00:00<?, ?it/s<class 'dict'>]"
     ]
    },
    {
     "name": "stdout",
     "output_type": "stream",
     "text": [
      "Start Validation\n"
     ]
    },
    {
     "name": "stderr",
     "output_type": "stream",
     "text": [
      "Epoch 22/100:  99%|█████████▉| 183/184 [00:09<00:00, 21.43it/s, f_score=0.944, lr=3.16e-5, total_loss=0.0999, val_background=0.912][2022-12-01 09:27:59,982][train.py][line:245][INFO] Epoch:[22/100]\t iteration:184 val loss=0.09987775\t val dice=0.94433933\t lr=0.00003158\n",
      "[2022-12-01 09:27:59,985][train.py][line:250][INFO] val stroke=0.9769328981637955\t background=0.9117457558927329\t score=0.9443394541740417\n",
      "\n",
      "Epoch 22/100: 100%|██████████| 184/184 [00:09<00:00, 20.13it/s, f_score=0.944, lr=3.16e-5, total_loss=0.0999, val_background=0.912]\n"
     ]
    },
    {
     "name": "stdout",
     "output_type": "stream",
     "text": [
      "Finish Validation\n",
      "Epoch:22/100\n",
      "Total Loss: 0.0235\n",
      "Saving state, iter: 22\n"
     ]
    },
    {
     "name": "stderr",
     "output_type": "stream",
     "text": [
      "Epoch 23/100: 100%|██████████| 554/554 [01:21<00:00,  7.17it/s, f_score=0.984, lr=2.77e-5, total_loss=0.0231, train_background=0.975][2022-12-01 09:29:21,819][train.py][line:153][INFO] Epoch:[23/100]\t train loss=0.02312212\t train dice=0.98428927\t lr=0.00002767\n",
      "\n",
      "[2022-12-01 09:29:21,822][train.py][line:154][INFO] train score=0.984289288520813\n",
      "\n",
      "[2022-12-01 09:29:21,823][train.py][line:158][INFO] train stroke=0.9932902676964495\t background=0.9752882749165008\t score=0.9842892715216544\n",
      "\n",
      "Epoch 23/100: 100%|██████████| 554/554 [01:21<00:00,  6.80it/s, f_score=0.984, lr=2.77e-5, total_loss=0.0231, train_background=0.975]\n",
      "Epoch 23/100:   0%|          | 0/184 [00:00<?, ?it/s<class 'dict'>]"
     ]
    },
    {
     "name": "stdout",
     "output_type": "stream",
     "text": [
      "Start Validation\n"
     ]
    },
    {
     "name": "stderr",
     "output_type": "stream",
     "text": [
      "Epoch 23/100:  99%|█████████▉| 183/184 [00:08<00:00, 21.36it/s, f_score=0.944, lr=2.77e-5, total_loss=0.102, val_background=0.911][2022-12-01 09:29:30,902][train.py][line:245][INFO] Epoch:[23/100]\t iteration:184 val loss=0.10197264\t val dice=0.94418862\t lr=0.00002767\n",
      "[2022-12-01 09:29:30,905][train.py][line:250][INFO] val stroke=0.976996112452901\t background=0.9113811218868131\t score=0.9441887736320496\n",
      "\n",
      "Epoch 23/100: 100%|██████████| 184/184 [00:09<00:00, 20.27it/s, f_score=0.944, lr=2.77e-5, total_loss=0.102, val_background=0.911]\n"
     ]
    },
    {
     "name": "stdout",
     "output_type": "stream",
     "text": [
      "Finish Validation\n",
      "Epoch:23/100\n",
      "Total Loss: 0.0231\n",
      "Saving state, iter: 23\n"
     ]
    },
    {
     "name": "stderr",
     "output_type": "stream",
     "text": [
      "Epoch 24/100: 100%|██████████| 554/554 [01:21<00:00,  7.04it/s, f_score=0.985, lr=2.4e-5, total_loss=0.0222, train_background=0.976][2022-12-01 09:30:52,430][train.py][line:153][INFO] Epoch:[24/100]\t train loss=0.02220866\t train dice=0.98488769\t lr=0.00002400\n",
      "\n",
      "[2022-12-01 09:30:52,434][train.py][line:154][INFO] train score=0.9848870635032654\n",
      "\n",
      "[2022-12-01 09:30:52,435][train.py][line:158][INFO] train stroke=0.9935399648945255\t background=0.9762354237077899\t score=0.9848876930100823\n",
      "\n",
      "Epoch 24/100: 100%|██████████| 554/554 [01:21<00:00,  6.83it/s, f_score=0.985, lr=2.4e-5, total_loss=0.0222, train_background=0.976]\n",
      "Epoch 24/100:   0%|          | 0/184 [00:00<?, ?it/s<class 'dict'>]"
     ]
    },
    {
     "name": "stdout",
     "output_type": "stream",
     "text": [
      "Start Validation\n"
     ]
    },
    {
     "name": "stderr",
     "output_type": "stream",
     "text": [
      "Epoch 24/100:  99%|█████████▉| 183/184 [00:09<00:00, 21.40it/s, f_score=0.945, lr=2.4e-5, total_loss=0.102, val_background=0.912][2022-12-01 09:31:01,595][train.py][line:245][INFO] Epoch:[24/100]\t iteration:184 val loss=0.10163471\t val dice=0.94468953\t lr=0.00002400\n",
      "[2022-12-01 09:31:01,598][train.py][line:250][INFO] val stroke=0.9770967821064203\t background=0.9122822858069254\t score=0.9446896314620972\n",
      "\n",
      "Epoch 24/100: 100%|██████████| 184/184 [00:09<00:00, 20.09it/s, f_score=0.945, lr=2.4e-5, total_loss=0.102, val_background=0.912]\n"
     ]
    },
    {
     "name": "stdout",
     "output_type": "stream",
     "text": [
      "Finish Validation\n",
      "Epoch:24/100\n",
      "Total Loss: 0.0222\n",
      "Saving state, iter: 24\n"
     ]
    },
    {
     "name": "stderr",
     "output_type": "stream",
     "text": [
      "Epoch 25/100: 100%|█████████▉| 553/554 [01:20<00:00,  7.08it/s, f_score=0.986, lr=2.06e-5, total_loss=0.0208, train_background=0.978][2022-12-01 09:32:22,361][train.py][line:153][INFO] Epoch:[25/100]\t train loss=0.02077188\t train dice=0.98587246\t lr=0.00002062\n",
      "\n",
      "[2022-12-01 09:32:22,364][train.py][line:154][INFO] train score=0.9858720898628235\n",
      "\n",
      "[2022-12-01 09:32:22,365][train.py][line:158][INFO] train stroke=0.9939490866575\t background=0.9777958262913494\t score=0.9858724572813468\n",
      "\n",
      "Epoch 25/100: 100%|██████████| 554/554 [01:20<00:00,  6.89it/s, f_score=0.986, lr=2.06e-5, total_loss=0.0208, train_background=0.978]\n",
      "Epoch 25/100:   0%|          | 0/184 [00:00<?, ?it/s<class 'dict'>]"
     ]
    },
    {
     "name": "stdout",
     "output_type": "stream",
     "text": [
      "Start Validation\n"
     ]
    },
    {
     "name": "stderr",
     "output_type": "stream",
     "text": [
      "Epoch 25/100:  99%|█████████▉| 183/184 [00:09<00:00, 21.37it/s, f_score=0.944, lr=2.06e-5, total_loss=0.106, val_background=0.912][2022-12-01 09:32:31,499][train.py][line:245][INFO] Epoch:[25/100]\t iteration:184 val loss=0.10554472\t val dice=0.94436789\t lr=0.00002062\n",
      "[2022-12-01 09:32:31,501][train.py][line:250][INFO] val stroke=0.9769473937542542\t background=0.9117883851994639\t score=0.9443679451942444\n",
      "\n",
      "Epoch 25/100: 100%|██████████| 184/184 [00:09<00:00, 20.15it/s, f_score=0.944, lr=2.06e-5, total_loss=0.106, val_background=0.912]\n"
     ]
    },
    {
     "name": "stdout",
     "output_type": "stream",
     "text": [
      "Finish Validation\n",
      "Epoch:25/100\n",
      "Total Loss: 0.0207\n",
      "Saving state, iter: 25\n"
     ]
    },
    {
     "name": "stderr",
     "output_type": "stream",
     "text": [
      "Epoch 26/100: 100%|█████████▉| 553/554 [01:20<00:00,  7.04it/s, f_score=0.986, lr=1.76e-5, total_loss=0.0202, train_background=0.978][2022-12-01 09:33:52,287][train.py][line:153][INFO] Epoch:[26/100]\t train loss=0.02016380\t train dice=0.98630621\t lr=0.00001756\n",
      "\n",
      "[2022-12-01 09:33:52,290][train.py][line:154][INFO] train score=0.9863065481185913\n",
      "\n",
      "[2022-12-01 09:33:52,291][train.py][line:158][INFO] train stroke=0.994133625004696\t background=0.9784787954621367\t score=0.9863062101796216\n",
      "\n",
      "Epoch 26/100: 100%|██████████| 554/554 [01:20<00:00,  6.89it/s, f_score=0.986, lr=1.76e-5, total_loss=0.0202, train_background=0.978]\n",
      "Epoch 26/100:   0%|          | 0/184 [00:00<?, ?it/s<class 'dict'>]"
     ]
    },
    {
     "name": "stdout",
     "output_type": "stream",
     "text": [
      "Start Validation\n"
     ]
    },
    {
     "name": "stderr",
     "output_type": "stream",
     "text": [
      "Epoch 26/100:  99%|█████████▉| 183/184 [00:09<00:00, 21.32it/s, f_score=0.944, lr=1.76e-5, total_loss=0.105, val_background=0.912][2022-12-01 09:34:01,472][train.py][line:245][INFO] Epoch:[26/100]\t iteration:184 val loss=0.10531670\t val dice=0.94424628\t lr=0.00001756\n",
      "[2022-12-01 09:34:01,474][train.py][line:250][INFO] val stroke=0.9768872060205626\t background=0.9116053471098775\t score=0.9442461729049683\n",
      "\n",
      "Epoch 26/100: 100%|██████████| 184/184 [00:09<00:00, 20.05it/s, f_score=0.944, lr=1.76e-5, total_loss=0.105, val_background=0.912]\n"
     ]
    },
    {
     "name": "stdout",
     "output_type": "stream",
     "text": [
      "Finish Validation\n",
      "Epoch:26/100\n",
      "Total Loss: 0.0201\n",
      "Saving state, iter: 26\n"
     ]
    },
    {
     "name": "stderr",
     "output_type": "stream",
     "text": [
      "Epoch 27/100: 100%|█████████▉| 553/554 [01:20<00:00,  6.96it/s, f_score=0.986, lr=1.48e-5, total_loss=0.0198, train_background=0.979][2022-12-01 09:35:22,399][train.py][line:153][INFO] Epoch:[27/100]\t train loss=0.01977537\t train dice=0.98649699\t lr=0.00001484\n",
      "\n",
      "[2022-12-01 09:35:22,402][train.py][line:154][INFO] train score=0.9864972233772278\n",
      "\n",
      "[2022-12-01 09:35:22,404][train.py][line:158][INFO] train stroke=0.9942630874766339\t background=0.9787308926616765\t score=0.9864969909836669\n",
      "\n",
      "Epoch 27/100: 100%|██████████| 554/554 [01:20<00:00,  6.88it/s, f_score=0.986, lr=1.48e-5, total_loss=0.0198, train_background=0.979]\n",
      "Epoch 27/100:   0%|          | 0/184 [00:00<?, ?it/s<class 'dict'>]"
     ]
    },
    {
     "name": "stdout",
     "output_type": "stream",
     "text": [
      "Start Validation\n"
     ]
    },
    {
     "name": "stderr",
     "output_type": "stream",
     "text": [
      "Epoch 27/100:  99%|█████████▉| 183/184 [00:09<00:00, 21.09it/s, f_score=0.944, lr=1.48e-5, total_loss=0.108, val_background=0.911][2022-12-01 09:35:31,587][train.py][line:245][INFO] Epoch:[27/100]\t iteration:184 val loss=0.10837301\t val dice=0.94393966\t lr=0.00001484\n",
      "[2022-12-01 09:35:31,591][train.py][line:250][INFO] val stroke=0.9767644298465356\t background=0.9111148789525032\t score=0.943939745426178\n",
      "\n",
      "Epoch 27/100: 100%|██████████| 184/184 [00:09<00:00, 20.04it/s, f_score=0.944, lr=1.48e-5, total_loss=0.108, val_background=0.911]\n"
     ]
    },
    {
     "name": "stdout",
     "output_type": "stream",
     "text": [
      "Finish Validation\n",
      "Epoch:27/100\n",
      "Total Loss: 0.0197\n",
      "Saving state, iter: 27\n"
     ]
    },
    {
     "name": "stderr",
     "output_type": "stream",
     "text": [
      "Epoch 28/100: 100%|██████████| 554/554 [01:20<00:00,  7.04it/s, f_score=0.987, lr=1.25e-5, total_loss=0.019, train_background=0.98]  [2022-12-01 09:36:52,447][train.py][line:153][INFO] Epoch:[28/100]\t train loss=0.01902186\t train dice=0.98705259\t lr=0.00001249\n",
      "\n",
      "[2022-12-01 09:36:52,449][train.py][line:154][INFO] train score=0.9870520830154419\n",
      "\n",
      "[2022-12-01 09:36:52,450][train.py][line:158][INFO] train stroke=0.9944865173165979\t background=0.9796186651133458\t score=0.9870525900852809\n",
      "\n",
      "Epoch 28/100: 100%|██████████| 554/554 [01:20<00:00,  6.88it/s, f_score=0.987, lr=1.25e-5, total_loss=0.019, train_background=0.98]\n",
      "Epoch 28/100:   0%|          | 0/184 [00:00<?, ?it/s<class 'dict'>]"
     ]
    },
    {
     "name": "stdout",
     "output_type": "stream",
     "text": [
      "Start Validation\n"
     ]
    },
    {
     "name": "stderr",
     "output_type": "stream",
     "text": [
      "Epoch 28/100:  99%|█████████▉| 183/184 [00:09<00:00, 21.26it/s, f_score=0.944, lr=1.25e-5, total_loss=0.107, val_background=0.912][2022-12-01 09:37:01,620][train.py][line:245][INFO] Epoch:[28/100]\t iteration:184 val loss=0.10709620\t val dice=0.94428780\t lr=0.00001249\n",
      "[2022-12-01 09:37:01,624][train.py][line:250][INFO] val stroke=0.9769238583419634\t background=0.9116517337767974\t score=0.9442877769470215\n",
      "\n",
      "Epoch 28/100: 100%|██████████| 184/184 [00:09<00:00, 20.07it/s, f_score=0.944, lr=1.25e-5, total_loss=0.107, val_background=0.912]\n"
     ]
    },
    {
     "name": "stdout",
     "output_type": "stream",
     "text": [
      "Finish Validation\n",
      "Epoch:28/100\n",
      "Total Loss: 0.0190\n",
      "Saving state, iter: 28\n"
     ]
    },
    {
     "name": "stderr",
     "output_type": "stream",
     "text": [
      "Epoch 29/100: 100%|██████████| 554/554 [01:20<00:00,  7.06it/s, f_score=0.987, lr=1.05e-5, total_loss=0.0186, train_background=0.98][2022-12-01 09:38:22,256][train.py][line:153][INFO] Epoch:[29/100]\t train loss=0.01864398\t train dice=0.98731338\t lr=0.00001054\n",
      "\n",
      "[2022-12-01 09:38:22,258][train.py][line:154][INFO] train score=0.9873138070106506\n",
      "\n",
      "[2022-12-01 09:38:22,259][train.py][line:158][INFO] train stroke=0.9945975537764897\t background=0.9800292095337534\t score=0.9873133810633786\n",
      "\n",
      "Epoch 29/100: 100%|██████████| 554/554 [01:20<00:00,  6.90it/s, f_score=0.987, lr=1.05e-5, total_loss=0.0186, train_background=0.98]\n",
      "Epoch 29/100:   0%|          | 0/184 [00:00<?, ?it/s<class 'dict'>]"
     ]
    },
    {
     "name": "stdout",
     "output_type": "stream",
     "text": [
      "Start Validation\n"
     ]
    },
    {
     "name": "stderr",
     "output_type": "stream",
     "text": [
      "Epoch 29/100:  99%|█████████▉| 183/184 [00:09<00:00, 21.28it/s, f_score=0.944, lr=1.05e-5, total_loss=0.111, val_background=0.911][2022-12-01 09:38:31,449][train.py][line:245][INFO] Epoch:[29/100]\t iteration:184 val loss=0.11068307\t val dice=0.94415775\t lr=0.00001054\n",
      "[2022-12-01 09:38:31,451][train.py][line:250][INFO] val stroke=0.9768551967066267\t background=0.911460307629212\t score=0.9441576600074768\n",
      "\n",
      "Epoch 29/100: 100%|██████████| 184/184 [00:09<00:00, 20.03it/s, f_score=0.944, lr=1.05e-5, total_loss=0.111, val_background=0.911]\n"
     ]
    },
    {
     "name": "stdout",
     "output_type": "stream",
     "text": [
      "Finish Validation\n",
      "Epoch:29/100\n",
      "Total Loss: 0.0186\n",
      "Saving state, iter: 29\n"
     ]
    },
    {
     "name": "stderr",
     "output_type": "stream",
     "text": [
      "Epoch 30/100: 100%|██████████| 554/554 [01:20<00:00,  7.02it/s, f_score=0.988, lr=9e-6, total_loss=0.0183, train_background=0.98] [2022-12-01 09:39:52,113][train.py][line:153][INFO] Epoch:[30/100]\t train loss=0.01831781\t train dice=0.98754648\t lr=0.00000900\n",
      "\n",
      "[2022-12-01 09:39:52,116][train.py][line:154][INFO] train score=0.9875463843345642\n",
      "\n",
      "[2022-12-01 09:39:52,117][train.py][line:158][INFO] train stroke=0.9946985133933677\t background=0.9803944420513263\t score=0.987546477722347\n",
      "\n",
      "Epoch 30/100: 100%|██████████| 554/554 [01:20<00:00,  6.90it/s, f_score=0.988, lr=9e-6, total_loss=0.0183, train_background=0.98]\n",
      "Epoch 30/100:   0%|          | 0/184 [00:00<?, ?it/s<class 'dict'>]"
     ]
    },
    {
     "name": "stdout",
     "output_type": "stream",
     "text": [
      "Start Validation\n"
     ]
    },
    {
     "name": "stderr",
     "output_type": "stream",
     "text": [
      "Epoch 30/100:  99%|█████████▉| 183/184 [00:09<00:00, 21.36it/s, f_score=0.943, lr=9e-6, total_loss=0.11, val_background=0.91]  [2022-12-01 09:40:01,278][train.py][line:245][INFO] Epoch:[30/100]\t iteration:184 val loss=0.11043194\t val dice=0.94343278\t lr=0.00000900\n",
      "[2022-12-01 09:40:01,280][train.py][line:250][INFO] val stroke=0.9764973459684331\t background=0.9103682151307231\t score=0.9434328079223633\n",
      "\n",
      "Epoch 30/100: 100%|██████████| 184/184 [00:09<00:00, 20.10it/s, f_score=0.943, lr=9e-6, total_loss=0.11, val_background=0.91]\n"
     ]
    },
    {
     "name": "stdout",
     "output_type": "stream",
     "text": [
      "Finish Validation\n",
      "Epoch:30/100\n",
      "Total Loss: 0.0183\n",
      "Saving state, iter: 30\n"
     ]
    },
    {
     "name": "stderr",
     "output_type": "stream",
     "text": [
      "Epoch 31/100: 100%|█████████▉| 553/554 [01:20<00:00,  7.05it/s, f_score=0.988, lr=7.89e-6, total_loss=0.0179, train_background=0.981][2022-12-01 09:41:22,542][train.py][line:153][INFO] Epoch:[31/100]\t train loss=0.01793903\t train dice=0.98781096\t lr=0.00000789\n",
      "\n",
      "[2022-12-01 09:41:22,545][train.py][line:154][INFO] train score=0.987811267375946\n",
      "\n",
      "[2022-12-01 09:41:22,546][train.py][line:158][INFO] train stroke=0.9948012424289965\t background=0.9808206757268321\t score=0.9878109592392987\n",
      "\n",
      "Epoch 31/100: 100%|██████████| 554/554 [01:20<00:00,  6.85it/s, f_score=0.988, lr=7.89e-6, total_loss=0.0179, train_background=0.981]\n",
      "Epoch 31/100:   0%|          | 0/184 [00:00<?, ?it/s<class 'dict'>]"
     ]
    },
    {
     "name": "stdout",
     "output_type": "stream",
     "text": [
      "Start Validation\n"
     ]
    },
    {
     "name": "stderr",
     "output_type": "stream",
     "text": [
      "Epoch 31/100:  99%|█████████▉| 183/184 [00:09<00:00, 21.24it/s, f_score=0.944, lr=7.89e-6, total_loss=0.11, val_background=0.911] [2022-12-01 09:41:31,709][train.py][line:245][INFO] Epoch:[31/100]\t iteration:184 val loss=0.11044454\t val dice=0.94391570\t lr=0.00000789\n",
      "[2022-12-01 09:41:31,712][train.py][line:250][INFO] val stroke=0.976787064710389\t background=0.9110443456017453\t score=0.9439157843589783\n",
      "\n",
      "Epoch 31/100: 100%|██████████| 184/184 [00:09<00:00, 20.09it/s, f_score=0.944, lr=7.89e-6, total_loss=0.11, val_background=0.911]\n"
     ]
    },
    {
     "name": "stdout",
     "output_type": "stream",
     "text": [
      "Finish Validation\n",
      "Epoch:31/100\n",
      "Total Loss: 0.0179\n",
      "Saving state, iter: 31\n"
     ]
    },
    {
     "name": "stderr",
     "output_type": "stream",
     "text": [
      "Epoch 32/100: 100%|█████████▉| 553/554 [01:21<00:00,  6.92it/s, f_score=0.988, lr=7.22e-6, total_loss=0.0176, train_background=0.981][2022-12-01 09:42:53,394][train.py][line:153][INFO] Epoch:[32/100]\t train loss=0.01758044\t train dice=0.98808183\t lr=0.00000722\n",
      "\n",
      "[2022-12-01 09:42:53,397][train.py][line:154][INFO] train score=0.9880815148353577\n",
      "\n",
      "[2022-12-01 09:42:53,398][train.py][line:158][INFO] train stroke=0.9949129593931811\t background=0.981250698708455\t score=0.9880818284590752\n",
      "\n",
      "Epoch 32/100: 100%|██████████| 554/554 [01:21<00:00,  6.82it/s, f_score=0.988, lr=7.22e-6, total_loss=0.0176, train_background=0.981]\n",
      "Epoch 32/100:   0%|          | 0/184 [00:00<?, ?it/s<class 'dict'>]"
     ]
    },
    {
     "name": "stdout",
     "output_type": "stream",
     "text": [
      "Start Validation\n"
     ]
    },
    {
     "name": "stderr",
     "output_type": "stream",
     "text": [
      "Epoch 32/100:  99%|█████████▉| 183/184 [00:09<00:00, 21.42it/s, f_score=0.943, lr=7.22e-6, total_loss=0.113, val_background=0.909][2022-12-01 09:43:02,531][train.py][line:245][INFO] Epoch:[32/100]\t iteration:184 val loss=0.11338887\t val dice=0.94288628\t lr=0.00000722\n",
      "[2022-12-01 09:43:02,533][train.py][line:250][INFO] val stroke=0.9762766610669054\t background=0.9094958888447803\t score=0.942886233329773\n",
      "\n",
      "Epoch 32/100: 100%|██████████| 184/184 [00:09<00:00, 20.15it/s, f_score=0.943, lr=7.22e-6, total_loss=0.113, val_background=0.909]\n"
     ]
    },
    {
     "name": "stdout",
     "output_type": "stream",
     "text": [
      "Finish Validation\n",
      "Epoch:32/100\n",
      "Total Loss: 0.0175\n",
      "Saving state, iter: 32\n"
     ]
    },
    {
     "name": "stderr",
     "output_type": "stream",
     "text": [
      "Epoch 33/100: 100%|█████████▉| 553/554 [01:20<00:00,  6.91it/s, f_score=0.988, lr=7e-6, total_loss=0.0174, train_background=0.981][2022-12-01 09:44:23,307][train.py][line:153][INFO] Epoch:[33/100]\t train loss=0.01741971\t train dice=0.98816846\t lr=0.00000700\n",
      "\n",
      "[2022-12-01 09:44:23,310][train.py][line:154][INFO] train score=0.9881690740585327\n",
      "\n",
      "[2022-12-01 09:44:23,312][train.py][line:158][INFO] train stroke=0.9949601620758484\t background=0.9813767674812771\t score=0.9881684643482043\n",
      "\n",
      "Epoch 33/100: 100%|██████████| 554/554 [01:20<00:00,  6.89it/s, f_score=0.988, lr=7e-6, total_loss=0.0174, train_background=0.981]\n",
      "Epoch 33/100:   0%|          | 0/184 [00:00<?, ?it/s<class 'dict'>]"
     ]
    },
    {
     "name": "stdout",
     "output_type": "stream",
     "text": [
      "Start Validation\n"
     ]
    },
    {
     "name": "stderr",
     "output_type": "stream",
     "text": [
      "Epoch 33/100:  99%|█████████▉| 183/184 [00:09<00:00, 21.19it/s, f_score=0.944, lr=7e-6, total_loss=0.112, val_background=0.911][2022-12-01 09:44:32,574][train.py][line:245][INFO] Epoch:[33/100]\t iteration:184 val loss=0.11155181\t val dice=0.94377229\t lr=0.00000700\n",
      "[2022-12-01 09:44:32,577][train.py][line:250][INFO] val stroke=0.9767141105688136\t background=0.9108304789532786\t score=0.9437724351882935\n",
      "\n",
      "Epoch 33/100: 100%|██████████| 184/184 [00:09<00:00, 19.87it/s, f_score=0.944, lr=7e-6, total_loss=0.112, val_background=0.911]\n"
     ]
    },
    {
     "name": "stdout",
     "output_type": "stream",
     "text": [
      "Finish Validation\n",
      "Epoch:33/100\n",
      "Total Loss: 0.0174\n",
      "Saving state, iter: 33\n"
     ]
    },
    {
     "name": "stderr",
     "output_type": "stream",
     "text": [
      "Epoch 34/100: 100%|█████████▉| 553/554 [01:20<00:00,  6.49it/s, f_score=0.988, lr=7.22e-6, total_loss=0.0171, train_background=0.982][2022-12-01 09:45:53,159][train.py][line:153][INFO] Epoch:[34/100]\t train loss=0.01712576\t train dice=0.98835453\t lr=0.00000722\n",
      "\n",
      "[2022-12-01 09:45:53,161][train.py][line:154][INFO] train score=0.988354504108429\n",
      "\n",
      "[2022-12-01 09:45:53,162][train.py][line:158][INFO] train stroke=0.9950412701183278\t background=0.9816677925388736\t score=0.988354531221011\n",
      "\n",
      "Epoch 34/100: 100%|██████████| 554/554 [01:20<00:00,  6.91it/s, f_score=0.988, lr=7.22e-6, total_loss=0.0171, train_background=0.982]\n",
      "Epoch 34/100:   0%|          | 0/184 [00:00<?, ?it/s<class 'dict'>]"
     ]
    },
    {
     "name": "stdout",
     "output_type": "stream",
     "text": [
      "Start Validation\n"
     ]
    },
    {
     "name": "stderr",
     "output_type": "stream",
     "text": [
      "Epoch 34/100:  99%|█████████▉| 183/184 [00:09<00:00, 21.31it/s, f_score=0.944, lr=7.22e-6, total_loss=0.113, val_background=0.91] [2022-12-01 09:46:02,324][train.py][line:245][INFO] Epoch:[34/100]\t iteration:184 val loss=0.11263869\t val dice=0.94353317\t lr=0.00000722\n",
      "[2022-12-01 09:46:02,327][train.py][line:250][INFO] val stroke=0.9766542623224466\t background=0.9104120854450308\t score=0.9435329437255859\n",
      "\n",
      "Epoch 34/100: 100%|██████████| 184/184 [00:09<00:00, 20.09it/s, f_score=0.944, lr=7.22e-6, total_loss=0.113, val_background=0.91]\n"
     ]
    },
    {
     "name": "stdout",
     "output_type": "stream",
     "text": [
      "Finish Validation\n",
      "Epoch:34/100\n",
      "Total Loss: 0.0171\n",
      "Saving state, iter: 34\n"
     ]
    },
    {
     "name": "stderr",
     "output_type": "stream",
     "text": [
      "Epoch 35/100: 100%|██████████| 554/554 [01:21<00:00,  7.02it/s, f_score=0.988, lr=7.89e-6, total_loss=0.0172, train_background=0.982][2022-12-01 09:47:24,009][train.py][line:153][INFO] Epoch:[35/100]\t train loss=0.01724826\t train dice=0.98827777\t lr=0.00000789\n",
      "\n",
      "[2022-12-01 09:47:24,012][train.py][line:154][INFO] train score=0.9882781505584717\n",
      "\n",
      "[2022-12-01 09:47:24,013][train.py][line:158][INFO] train stroke=0.995023969493618\t background=0.9815315747304083\t score=0.9882777709823223\n",
      "\n",
      "Epoch 35/100: 100%|██████████| 554/554 [01:21<00:00,  6.81it/s, f_score=0.988, lr=7.89e-6, total_loss=0.0172, train_background=0.982]\n",
      "Epoch 35/100:   0%|          | 0/184 [00:00<?, ?it/s<class 'dict'>]"
     ]
    },
    {
     "name": "stdout",
     "output_type": "stream",
     "text": [
      "Start Validation\n"
     ]
    },
    {
     "name": "stderr",
     "output_type": "stream",
     "text": [
      "Epoch 35/100:  99%|█████████▉| 183/184 [00:09<00:00, 21.35it/s, f_score=0.944, lr=7.89e-6, total_loss=0.112, val_background=0.911][2022-12-01 09:47:33,186][train.py][line:245][INFO] Epoch:[35/100]\t iteration:184 val loss=0.11214400\t val dice=0.94372295\t lr=0.00000789\n",
      "[2022-12-01 09:47:33,189][train.py][line:250][INFO] val stroke=0.9767009473365286\t background=0.9107449479077173\t score=0.9437228441238403\n",
      "\n",
      "Epoch 35/100: 100%|██████████| 184/184 [00:09<00:00, 20.07it/s, f_score=0.944, lr=7.89e-6, total_loss=0.112, val_background=0.911]\n"
     ]
    },
    {
     "name": "stdout",
     "output_type": "stream",
     "text": [
      "Finish Validation\n",
      "Epoch:35/100\n",
      "Total Loss: 0.0172\n",
      "Saving state, iter: 35\n"
     ]
    },
    {
     "name": "stderr",
     "output_type": "stream",
     "text": [
      "Epoch 36/100: 100%|█████████▉| 553/554 [01:20<00:00,  7.00it/s, f_score=0.988, lr=9e-6, total_loss=0.0173, train_background=0.982][2022-12-01 09:48:54,540][train.py][line:153][INFO] Epoch:[36/100]\t train loss=0.01728463\t train dice=0.98827358\t lr=0.00000900\n",
      "\n",
      "[2022-12-01 09:48:54,544][train.py][line:154][INFO] train score=0.9882737398147583\n",
      "\n",
      "[2022-12-01 09:48:54,545][train.py][line:158][INFO] train stroke=0.995012095366144\t background=0.9815350632159718\t score=0.988273577892393\n",
      "\n",
      "Epoch 36/100: 100%|██████████| 554/554 [01:20<00:00,  6.84it/s, f_score=0.988, lr=9e-6, total_loss=0.0173, train_background=0.982]\n",
      "Epoch 36/100:   0%|          | 0/184 [00:00<?, ?it/s<class 'dict'>]"
     ]
    },
    {
     "name": "stdout",
     "output_type": "stream",
     "text": [
      "Start Validation\n"
     ]
    },
    {
     "name": "stderr",
     "output_type": "stream",
     "text": [
      "Epoch 36/100:  99%|█████████▉| 183/184 [00:09<00:00, 21.39it/s, f_score=0.943, lr=9e-6, total_loss=0.113, val_background=0.91] [2022-12-01 09:49:03,684][train.py][line:245][INFO] Epoch:[36/100]\t iteration:184 val loss=0.11255122\t val dice=0.94317323\t lr=0.00000900\n",
      "[2022-12-01 09:49:03,687][train.py][line:250][INFO] val stroke=0.9764856569792913\t background=0.909860808564269\t score=0.9431732296943665\n",
      "\n",
      "Epoch 36/100: 100%|██████████| 184/184 [00:09<00:00, 20.14it/s, f_score=0.943, lr=9e-6, total_loss=0.113, val_background=0.91]\n"
     ]
    },
    {
     "name": "stdout",
     "output_type": "stream",
     "text": [
      "Finish Validation\n",
      "Epoch:36/100\n",
      "Total Loss: 0.0173\n",
      "Saving state, iter: 36\n"
     ]
    },
    {
     "name": "stderr",
     "output_type": "stream",
     "text": [
      "Epoch 37/100: 100%|█████████▉| 553/554 [01:19<00:00,  7.12it/s, f_score=0.988, lr=1.05e-5, total_loss=0.0172, train_background=0.982][2022-12-01 09:50:24,002][train.py][line:153][INFO] Epoch:[37/100]\t train loss=0.01720297\t train dice=0.98829875\t lr=0.00001054\n",
      "\n",
      "[2022-12-01 09:50:24,005][train.py][line:154][INFO] train score=0.988298773765564\n",
      "\n",
      "[2022-12-01 09:50:24,006][train.py][line:158][INFO] train stroke=0.9950195162520081\t background=0.9815779807120024\t score=0.9882987481592365\n",
      "\n",
      "Epoch 37/100: 100%|██████████| 554/554 [01:19<00:00,  6.93it/s, f_score=0.988, lr=1.05e-5, total_loss=0.0172, train_background=0.982]\n",
      "Epoch 37/100:   0%|          | 0/184 [00:00<?, ?it/s<class 'dict'>]"
     ]
    },
    {
     "name": "stdout",
     "output_type": "stream",
     "text": [
      "Start Validation\n"
     ]
    },
    {
     "name": "stderr",
     "output_type": "stream",
     "text": [
      "Epoch 37/100:  99%|█████████▉| 183/184 [00:09<00:00, 21.19it/s, f_score=0.943, lr=1.05e-5, total_loss=0.114, val_background=0.91] [2022-12-01 09:50:33,275][train.py][line:245][INFO] Epoch:[37/100]\t iteration:184 val loss=0.11403305\t val dice=0.94341841\t lr=0.00001054\n",
      "[2022-12-01 09:50:33,278][train.py][line:250][INFO] val stroke=0.9765032322510429\t background=0.9103335757618365\t score=0.9434186816215515\n",
      "\n",
      "Epoch 37/100: 100%|██████████| 184/184 [00:09<00:00, 19.86it/s, f_score=0.943, lr=1.05e-5, total_loss=0.114, val_background=0.91]\n"
     ]
    },
    {
     "name": "stdout",
     "output_type": "stream",
     "text": [
      "Finish Validation\n",
      "Epoch:37/100\n",
      "Total Loss: 0.0172\n",
      "Saving state, iter: 37\n"
     ]
    },
    {
     "name": "stderr",
     "output_type": "stream",
     "text": [
      "Epoch 38/100: 100%|█████████▉| 553/554 [01:20<00:00,  6.87it/s, f_score=0.988, lr=1.25e-5, total_loss=0.0169, train_background=0.982][2022-12-01 09:51:54,104][train.py][line:153][INFO] Epoch:[38/100]\t train loss=0.01693659\t train dice=0.98847110\t lr=0.00001249\n",
      "\n",
      "[2022-12-01 09:51:54,107][train.py][line:154][INFO] train score=0.9884708523750305\n",
      "\n",
      "[2022-12-01 09:51:54,107][train.py][line:158][INFO] train stroke=0.9950887228392522\t background=0.9818534735953335\t score=0.9884710970338071\n",
      "\n",
      "Epoch 38/100: 100%|██████████| 554/554 [01:20<00:00,  6.89it/s, f_score=0.988, lr=1.25e-5, total_loss=0.0169, train_background=0.982]\n",
      "Epoch 38/100:   0%|          | 0/184 [00:00<?, ?it/s<class 'dict'>]"
     ]
    },
    {
     "name": "stdout",
     "output_type": "stream",
     "text": [
      "Start Validation\n"
     ]
    },
    {
     "name": "stderr",
     "output_type": "stream",
     "text": [
      "Epoch 38/100:  99%|█████████▉| 183/184 [00:09<00:00, 21.40it/s, f_score=0.943, lr=1.25e-5, total_loss=0.115, val_background=0.91] [2022-12-01 09:52:03,253][train.py][line:245][INFO] Epoch:[38/100]\t iteration:184 val loss=0.11464115\t val dice=0.94327808\t lr=0.00001249\n",
      "[2022-12-01 09:52:03,256][train.py][line:250][INFO] val stroke=0.9764322334009669\t background=0.9101239352122598\t score=0.9432783126831055\n",
      "\n",
      "Epoch 38/100: 100%|██████████| 184/184 [00:09<00:00, 20.13it/s, f_score=0.943, lr=1.25e-5, total_loss=0.115, val_background=0.91]\n"
     ]
    },
    {
     "name": "stdout",
     "output_type": "stream",
     "text": [
      "Finish Validation\n",
      "Epoch:38/100\n",
      "Total Loss: 0.0169\n",
      "Saving state, iter: 38\n"
     ]
    },
    {
     "name": "stderr",
     "output_type": "stream",
     "text": [
      "Epoch 39/100: 100%|█████████▉| 553/554 [01:21<00:00,  6.96it/s, f_score=0.988, lr=1.48e-5, total_loss=0.0171, train_background=0.982][2022-12-01 09:53:24,927][train.py][line:153][INFO] Epoch:[39/100]\t train loss=0.01705123\t train dice=0.98836591\t lr=0.00001484\n",
      "\n",
      "[2022-12-01 09:53:24,930][train.py][line:154][INFO] train score=0.9883660674095154\n",
      "\n",
      "[2022-12-01 09:53:24,931][train.py][line:158][INFO] train stroke=0.9950628438796377\t background=0.9816689753790625\t score=0.9883659104362722\n",
      "\n",
      "Epoch 39/100: 100%|██████████| 554/554 [01:21<00:00,  6.81it/s, f_score=0.988, lr=1.48e-5, total_loss=0.0171, train_background=0.982]\n",
      "Epoch 39/100:   0%|          | 0/184 [00:00<?, ?it/s<class 'dict'>]"
     ]
    },
    {
     "name": "stdout",
     "output_type": "stream",
     "text": [
      "Start Validation\n"
     ]
    },
    {
     "name": "stderr",
     "output_type": "stream",
     "text": [
      "Epoch 39/100:  99%|█████████▉| 183/184 [00:09<00:00, 21.26it/s, f_score=0.943, lr=1.48e-5, total_loss=0.112, val_background=0.91] [2022-12-01 09:53:34,121][train.py][line:245][INFO] Epoch:[39/100]\t iteration:184 val loss=0.11222157\t val dice=0.94312105\t lr=0.00001484\n",
      "[2022-12-01 09:53:34,123][train.py][line:250][INFO] val stroke=0.9764825999736786\t background=0.9097594936256823\t score=0.9431209564208984\n",
      "\n",
      "Epoch 39/100: 100%|██████████| 184/184 [00:09<00:00, 20.03it/s, f_score=0.943, lr=1.48e-5, total_loss=0.112, val_background=0.91]\n"
     ]
    },
    {
     "name": "stdout",
     "output_type": "stream",
     "text": [
      "Finish Validation\n",
      "Epoch:39/100\n",
      "Total Loss: 0.0170\n",
      "Saving state, iter: 39\n"
     ]
    },
    {
     "name": "stderr",
     "output_type": "stream",
     "text": [
      "Epoch 40/100: 100%|█████████▉| 553/554 [01:22<00:00,  7.00it/s, f_score=0.988, lr=1.76e-5, total_loss=0.0173, train_background=0.982][2022-12-01 09:54:57,074][train.py][line:153][INFO] Epoch:[40/100]\t train loss=0.01725168\t train dice=0.98824827\t lr=0.00001756\n",
      "\n",
      "[2022-12-01 09:54:57,076][train.py][line:154][INFO] train score=0.9882485270500183\n",
      "\n",
      "[2022-12-01 09:54:57,077][train.py][line:158][INFO] train stroke=0.9949865341186523\t background=0.9815099988173062\t score=0.9882482660376208\n",
      "\n",
      "Epoch 40/100: 100%|██████████| 554/554 [01:22<00:00,  6.71it/s, f_score=0.988, lr=1.76e-5, total_loss=0.0173, train_background=0.982]\n",
      "Epoch 40/100:   0%|          | 0/184 [00:00<?, ?it/s<class 'dict'>]"
     ]
    },
    {
     "name": "stdout",
     "output_type": "stream",
     "text": [
      "Start Validation\n"
     ]
    },
    {
     "name": "stderr",
     "output_type": "stream",
     "text": [
      "Epoch 40/100:  99%|█████████▉| 183/184 [00:09<00:00, 21.38it/s, f_score=0.943, lr=1.76e-5, total_loss=0.113, val_background=0.91] [2022-12-01 09:55:06,235][train.py][line:245][INFO] Epoch:[40/100]\t iteration:184 val loss=0.11340296\t val dice=0.94317224\t lr=0.00001756\n",
      "[2022-12-01 09:55:06,238][train.py][line:250][INFO] val stroke=0.9765346665745196\t background=0.9098098141991574\t score=0.9431719779968262\n",
      "\n",
      "Epoch 40/100: 100%|██████████| 184/184 [00:09<00:00, 20.10it/s, f_score=0.943, lr=1.76e-5, total_loss=0.113, val_background=0.91]\n"
     ]
    },
    {
     "name": "stdout",
     "output_type": "stream",
     "text": [
      "Finish Validation\n",
      "Epoch:40/100\n",
      "Total Loss: 0.0172\n",
      "Saving state, iter: 40\n"
     ]
    },
    {
     "name": "stderr",
     "output_type": "stream",
     "text": [
      "Epoch 41/100: 100%|██████████| 554/554 [01:20<00:00,  7.02it/s, f_score=0.988, lr=2.06e-5, total_loss=0.0173, train_background=0.981][2022-12-01 09:56:27,108][train.py][line:153][INFO] Epoch:[41/100]\t train loss=0.01728835\t train dice=0.98818463\t lr=0.00002062\n",
      "\n",
      "[2022-12-01 09:56:27,110][train.py][line:154][INFO] train score=0.9881846308708191\n",
      "\n",
      "[2022-12-01 09:56:27,111][train.py][line:158][INFO] train stroke=0.9949773426305516\t background=0.9813919128708891\t score=0.988184626459645\n",
      "\n",
      "Epoch 41/100: 100%|██████████| 554/554 [01:20<00:00,  6.88it/s, f_score=0.988, lr=2.06e-5, total_loss=0.0173, train_background=0.981]\n",
      "Epoch 41/100:   0%|          | 0/184 [00:00<?, ?it/s<class 'dict'>]"
     ]
    },
    {
     "name": "stdout",
     "output_type": "stream",
     "text": [
      "Start Validation\n"
     ]
    },
    {
     "name": "stderr",
     "output_type": "stream",
     "text": [
      "Epoch 41/100:  99%|█████████▉| 183/184 [00:09<00:00, 21.34it/s, f_score=0.943, lr=2.06e-5, total_loss=0.115, val_background=0.91] [2022-12-01 09:56:36,309][train.py][line:245][INFO] Epoch:[41/100]\t iteration:184 val loss=0.11489682\t val dice=0.94301791\t lr=0.00002062\n",
      "[2022-12-01 09:56:36,311][train.py][line:250][INFO] val stroke=0.9763991599497588\t background=0.9096366529879363\t score=0.9430180788040161\n",
      "\n",
      "Epoch 41/100: 100%|██████████| 184/184 [00:09<00:00, 20.02it/s, f_score=0.943, lr=2.06e-5, total_loss=0.115, val_background=0.91]\n"
     ]
    },
    {
     "name": "stdout",
     "output_type": "stream",
     "text": [
      "Finish Validation\n",
      "Epoch:41/100\n",
      "Total Loss: 0.0173\n",
      "Saving state, iter: 41\n"
     ]
    },
    {
     "name": "stderr",
     "output_type": "stream",
     "text": [
      "Epoch 42/100: 100%|█████████▉| 553/554 [01:20<00:00,  6.79it/s, f_score=0.988, lr=2.4e-5, total_loss=0.0179, train_background=0.981][2022-12-01 09:57:57,426][train.py][line:153][INFO] Epoch:[42/100]\t train loss=0.01787306\t train dice=0.98780622\t lr=0.00002400\n",
      "\n",
      "[2022-12-01 09:57:57,430][train.py][line:154][INFO] train score=0.987805962562561\n",
      "\n",
      "[2022-12-01 09:57:57,431][train.py][line:158][INFO] train stroke=0.9948048787426862\t background=0.9808075534522749\t score=0.9878062152905585\n",
      "\n",
      "Epoch 42/100: 100%|██████████| 554/554 [01:20<00:00,  6.86it/s, f_score=0.988, lr=2.4e-5, total_loss=0.0179, train_background=0.981]\n",
      "Epoch 42/100:   0%|          | 0/184 [00:00<?, ?it/s<class 'dict'>]"
     ]
    },
    {
     "name": "stdout",
     "output_type": "stream",
     "text": [
      "Start Validation\n"
     ]
    },
    {
     "name": "stderr",
     "output_type": "stream",
     "text": [
      "Epoch 42/100:  99%|█████████▉| 183/184 [00:09<00:00, 21.42it/s, f_score=0.943, lr=2.4e-5, total_loss=0.112, val_background=0.91] [2022-12-01 09:58:06,581][train.py][line:245][INFO] Epoch:[42/100]\t iteration:184 val loss=0.11246082\t val dice=0.94306107\t lr=0.00002400\n",
      "[2022-12-01 09:58:06,584][train.py][line:250][INFO] val stroke=0.9764777962928233\t background=0.9096443371280379\t score=0.9430609941482544\n",
      "\n",
      "Epoch 42/100: 100%|██████████| 184/184 [00:09<00:00, 20.13it/s, f_score=0.943, lr=2.4e-5, total_loss=0.112, val_background=0.91]\n"
     ]
    },
    {
     "name": "stdout",
     "output_type": "stream",
     "text": [
      "Finish Validation\n",
      "Epoch:42/100\n",
      "Total Loss: 0.0178\n",
      "Saving state, iter: 42\n"
     ]
    },
    {
     "name": "stderr",
     "output_type": "stream",
     "text": [
      "Epoch 43/100: 100%|█████████▉| 553/554 [01:20<00:00,  7.01it/s, f_score=0.988, lr=2.77e-5, total_loss=0.0179, train_background=0.981][2022-12-01 09:59:27,874][train.py][line:153][INFO] Epoch:[43/100]\t train loss=0.01789174\t train dice=0.98776534\t lr=0.00002767\n",
      "\n",
      "[2022-12-01 09:59:27,877][train.py][line:154][INFO] train score=0.9877650737762451\n",
      "\n",
      "[2022-12-01 09:59:27,878][train.py][line:158][INFO] train stroke=0.9947771989481544\t background=0.9807534721353854\t score=0.9877653359721283\n",
      "\n",
      "Epoch 43/100: 100%|██████████| 554/554 [01:20<00:00,  6.85it/s, f_score=0.988, lr=2.77e-5, total_loss=0.0179, train_background=0.981]\n",
      "Epoch 43/100:   0%|          | 0/184 [00:00<?, ?it/s<class 'dict'>]"
     ]
    },
    {
     "name": "stdout",
     "output_type": "stream",
     "text": [
      "Start Validation\n"
     ]
    },
    {
     "name": "stderr",
     "output_type": "stream",
     "text": [
      "Epoch 43/100:  99%|█████████▉| 183/184 [00:09<00:00, 21.36it/s, f_score=0.943, lr=2.77e-5, total_loss=0.113, val_background=0.909][2022-12-01 09:59:37,028][train.py][line:245][INFO] Epoch:[43/100]\t iteration:184 val loss=0.11307826\t val dice=0.94277511\t lr=0.00002767\n",
      "[2022-12-01 09:59:37,031][train.py][line:250][INFO] val stroke=0.9763249401812968\t background=0.9092252840814383\t score=0.9427750706672668\n",
      "\n",
      "Epoch 43/100: 100%|██████████| 184/184 [00:09<00:00, 20.13it/s, f_score=0.943, lr=2.77e-5, total_loss=0.113, val_background=0.909]\n"
     ]
    },
    {
     "name": "stdout",
     "output_type": "stream",
     "text": [
      "Finish Validation\n",
      "Epoch:43/100\n",
      "Total Loss: 0.0179\n",
      "Saving state, iter: 43\n"
     ]
    },
    {
     "name": "stderr",
     "output_type": "stream",
     "text": [
      "Epoch 44/100: 100%|█████████▉| 553/554 [01:20<00:00,  7.10it/s, f_score=0.988, lr=3.16e-5, total_loss=0.018, train_background=0.981] [2022-12-01 10:00:58,113][train.py][line:153][INFO] Epoch:[44/100]\t train loss=0.01800625\t train dice=0.98768142\t lr=0.00003158\n",
      "\n",
      "[2022-12-01 10:00:58,116][train.py][line:154][INFO] train score=0.9876812696456909\n",
      "\n",
      "[2022-12-01 10:00:58,117][train.py][line:158][INFO] train stroke=0.9947463456904415\t background=0.9806164869978109\t score=0.9876814154296145\n",
      "\n",
      "Epoch 44/100: 100%|██████████| 554/554 [01:20<00:00,  6.86it/s, f_score=0.988, lr=3.16e-5, total_loss=0.018, train_background=0.981]\n",
      "Epoch 44/100:   0%|          | 0/184 [00:00<?, ?it/s<class 'dict'>]"
     ]
    },
    {
     "name": "stdout",
     "output_type": "stream",
     "text": [
      "Start Validation\n"
     ]
    },
    {
     "name": "stderr",
     "output_type": "stream",
     "text": [
      "Epoch 44/100:  99%|█████████▉| 183/184 [00:09<00:00, 21.36it/s, f_score=0.944, lr=3.16e-5, total_loss=0.112, val_background=0.91] [2022-12-01 10:01:07,261][train.py][line:245][INFO] Epoch:[44/100]\t iteration:184 val loss=0.11233152\t val dice=0.94356899\t lr=0.00003158\n",
      "[2022-12-01 10:01:07,265][train.py][line:250][INFO] val stroke=0.9766490122546321\t background=0.9104889647468276\t score=0.9435691237449646\n",
      "\n",
      "Epoch 44/100: 100%|██████████| 184/184 [00:09<00:00, 20.12it/s, f_score=0.944, lr=3.16e-5, total_loss=0.112, val_background=0.91]\n"
     ]
    },
    {
     "name": "stdout",
     "output_type": "stream",
     "text": [
      "Finish Validation\n",
      "Epoch:44/100\n",
      "Total Loss: 0.0180\n",
      "Saving state, iter: 44\n"
     ]
    },
    {
     "name": "stderr",
     "output_type": "stream",
     "text": [
      "Epoch 45/100: 100%|█████████▉| 553/554 [01:20<00:00,  6.94it/s, f_score=0.987, lr=3.57e-5, total_loss=0.0183, train_background=0.98] [2022-12-01 10:02:28,371][train.py][line:153][INFO] Epoch:[45/100]\t train loss=0.01829289\t train dice=0.98746318\t lr=0.00003571\n",
      "\n",
      "[2022-12-01 10:02:28,373][train.py][line:154][INFO] train score=0.9874635338783264\n",
      "\n",
      "[2022-12-01 10:02:28,374][train.py][line:158][INFO] train stroke=0.9946479050691377\t background=0.9802784607728896\t score=0.9874631843196786\n",
      "\n",
      "Epoch 45/100: 100%|██████████| 554/554 [01:20<00:00,  6.86it/s, f_score=0.987, lr=3.57e-5, total_loss=0.0183, train_background=0.98]\n",
      "Epoch 45/100:   0%|          | 0/184 [00:00<?, ?it/s<class 'dict'>]"
     ]
    },
    {
     "name": "stdout",
     "output_type": "stream",
     "text": [
      "Start Validation\n"
     ]
    },
    {
     "name": "stderr",
     "output_type": "stream",
     "text": [
      "Epoch 45/100:  99%|█████████▉| 183/184 [00:09<00:00, 21.34it/s, f_score=0.942, lr=3.57e-5, total_loss=0.115, val_background=0.909][2022-12-01 10:02:37,550][train.py][line:245][INFO] Epoch:[45/100]\t iteration:184 val loss=0.11466372\t val dice=0.94232647\t lr=0.00003571\n",
      "[2022-12-01 10:02:37,553][train.py][line:250][INFO] val stroke=0.9760465006465497\t background=0.9086064485752064\t score=0.9423264265060425\n",
      "\n",
      "Epoch 45/100: 100%|██████████| 184/184 [00:09<00:00, 20.06it/s, f_score=0.942, lr=3.57e-5, total_loss=0.115, val_background=0.909]\n"
     ]
    },
    {
     "name": "stdout",
     "output_type": "stream",
     "text": [
      "Finish Validation\n",
      "Epoch:45/100\n",
      "Total Loss: 0.0183\n",
      "Saving state, iter: 45\n"
     ]
    },
    {
     "name": "stderr",
     "output_type": "stream",
     "text": [
      "Epoch 46/100: 100%|█████████▉| 553/554 [01:20<00:00,  6.97it/s, f_score=0.987, lr=4e-5, total_loss=0.019, train_background=0.98]  [2022-12-01 10:03:58,708][train.py][line:153][INFO] Epoch:[46/100]\t train loss=0.01900973\t train dice=0.98697558\t lr=0.00004000\n",
      "\n",
      "[2022-12-01 10:03:58,710][train.py][line:154][INFO] train score=0.986976146697998\n",
      "\n",
      "[2022-12-01 10:03:58,711][train.py][line:158][INFO] train stroke=0.9944299479899423\t background=0.9795212086142185\t score=0.9869755775489532\n",
      "\n",
      "Epoch 46/100: 100%|██████████| 554/554 [01:20<00:00,  6.86it/s, f_score=0.987, lr=4e-5, total_loss=0.019, train_background=0.98]\n",
      "Epoch 46/100:   0%|          | 0/184 [00:00<?, ?it/s<class 'dict'>]"
     ]
    },
    {
     "name": "stdout",
     "output_type": "stream",
     "text": [
      "Start Validation\n"
     ]
    },
    {
     "name": "stderr",
     "output_type": "stream",
     "text": [
      "Epoch 46/100:  99%|█████████▉| 183/184 [00:09<00:00, 21.26it/s, f_score=0.943, lr=4e-5, total_loss=0.113, val_background=0.909][2022-12-01 10:04:07,855][train.py][line:245][INFO] Epoch:[46/100]\t iteration:184 val loss=0.11320226\t val dice=0.94286522\t lr=0.00004000\n",
      "[2022-12-01 10:04:07,857][train.py][line:250][INFO] val stroke=0.9763095080852509\t background=0.9094209279055181\t score=0.942865252494812\n",
      "\n",
      "Epoch 46/100: 100%|██████████| 184/184 [00:09<00:00, 20.13it/s, f_score=0.943, lr=4e-5, total_loss=0.113, val_background=0.909]\n"
     ]
    },
    {
     "name": "stdout",
     "output_type": "stream",
     "text": [
      "Finish Validation\n",
      "Epoch:46/100\n",
      "Total Loss: 0.0190\n",
      "Saving state, iter: 46\n"
     ]
    },
    {
     "name": "stderr",
     "output_type": "stream",
     "text": [
      "Epoch 47/100: 100%|█████████▉| 553/554 [01:21<00:00,  7.03it/s, f_score=0.987, lr=4.44e-5, total_loss=0.0194, train_background=0.979][2022-12-01 10:05:29,562][train.py][line:153][INFO] Epoch:[47/100]\t train loss=0.01943164\t train dice=0.98666463\t lr=0.00004443\n",
      "\n",
      "[2022-12-01 10:05:29,566][train.py][line:154][INFO] train score=0.9866644740104675\n",
      "\n",
      "[2022-12-01 10:05:29,567][train.py][line:158][INFO] train stroke=0.9943183039715143\t background=0.9790109565972421\t score=0.9866646307685315\n",
      "\n",
      "Epoch 47/100: 100%|██████████| 554/554 [01:21<00:00,  6.81it/s, f_score=0.987, lr=4.44e-5, total_loss=0.0194, train_background=0.979]\n",
      "Epoch 47/100:   0%|          | 0/184 [00:00<?, ?it/s<class 'dict'>]"
     ]
    },
    {
     "name": "stdout",
     "output_type": "stream",
     "text": [
      "Start Validation\n"
     ]
    },
    {
     "name": "stderr",
     "output_type": "stream",
     "text": [
      "Epoch 47/100:  99%|█████████▉| 183/184 [00:08<00:00, 21.35it/s, f_score=0.94, lr=4.44e-5, total_loss=0.114, val_background=0.905] [2022-12-01 10:05:38,689][train.py][line:245][INFO] Epoch:[47/100]\t iteration:184 val loss=0.11397225\t val dice=0.94014378\t lr=0.00004443\n",
      "[2022-12-01 10:05:38,692][train.py][line:250][INFO] val stroke=0.9754563563543818\t background=0.904831198570521\t score=0.9401437640190125\n",
      "\n",
      "Epoch 47/100: 100%|██████████| 184/184 [00:09<00:00, 20.18it/s, f_score=0.94, lr=4.44e-5, total_loss=0.114, val_background=0.905]\n"
     ]
    },
    {
     "name": "stdout",
     "output_type": "stream",
     "text": [
      "Finish Validation\n",
      "Epoch:47/100\n",
      "Total Loss: 0.0194\n",
      "Saving state, iter: 47\n"
     ]
    },
    {
     "name": "stderr",
     "output_type": "stream",
     "text": [
      "Epoch 48/100: 100%|█████████▉| 553/554 [01:20<00:00,  6.98it/s, f_score=0.986, lr=4.89e-5, total_loss=0.0201, train_background=0.978][2022-12-01 10:06:59,540][train.py][line:153][INFO] Epoch:[48/100]\t train loss=0.02011250\t train dice=0.98618229\t lr=0.00004894\n",
      "\n",
      "[2022-12-01 10:06:59,544][train.py][line:154][INFO] train score=0.986181914806366\n",
      "\n",
      "[2022-12-01 10:06:59,545][train.py][line:158][INFO] train stroke=0.9941053762762986\t background=0.9782592121659633\t score=0.9861822945976946\n",
      "\n",
      "Epoch 48/100: 100%|██████████| 554/554 [01:20<00:00,  6.88it/s, f_score=0.986, lr=4.89e-5, total_loss=0.0201, train_background=0.978]\n",
      "Epoch 48/100:   0%|          | 0/184 [00:00<?, ?it/s<class 'dict'>]"
     ]
    },
    {
     "name": "stdout",
     "output_type": "stream",
     "text": [
      "Start Validation\n"
     ]
    },
    {
     "name": "stderr",
     "output_type": "stream",
     "text": [
      "Epoch 48/100:  99%|█████████▉| 183/184 [00:09<00:00, 21.24it/s, f_score=0.943, lr=4.89e-5, total_loss=0.11, val_background=0.91]  [2022-12-01 10:07:08,718][train.py][line:245][INFO] Epoch:[48/100]\t iteration:184 val loss=0.11001172\t val dice=0.94322507\t lr=0.00004894\n",
      "[2022-12-01 10:07:08,721][train.py][line:250][INFO] val stroke=0.9764299933677134\t background=0.9100201431175937\t score=0.9432251453399658\n",
      "\n",
      "Epoch 48/100: 100%|██████████| 184/184 [00:09<00:00, 20.07it/s, f_score=0.943, lr=4.89e-5, total_loss=0.11, val_background=0.91]\n"
     ]
    },
    {
     "name": "stdout",
     "output_type": "stream",
     "text": [
      "Finish Validation\n",
      "Epoch:48/100\n",
      "Total Loss: 0.0201\n",
      "Saving state, iter: 48\n"
     ]
    },
    {
     "name": "stderr",
     "output_type": "stream",
     "text": [
      "Epoch 49/100: 100%|█████████▉| 553/554 [01:19<00:00,  7.04it/s, f_score=0.986, lr=5.35e-5, total_loss=0.0199, train_background=0.979][2022-12-01 10:08:29,027][train.py][line:153][INFO] Epoch:[49/100]\t train loss=0.01989811\t train dice=0.98636328\t lr=0.00005350\n",
      "\n",
      "[2022-12-01 10:08:29,030][train.py][line:154][INFO] train score=0.9863632917404175\n",
      "\n",
      "[2022-12-01 10:08:29,031][train.py][line:158][INFO] train stroke=0.994169601679709\t background=0.9785569570555154\t score=0.986363277753768\n",
      "\n",
      "Epoch 49/100: 100%|██████████| 554/554 [01:19<00:00,  6.93it/s, f_score=0.986, lr=5.35e-5, total_loss=0.0199, train_background=0.979]\n",
      "Epoch 49/100:   0%|          | 0/184 [00:00<?, ?it/s<class 'dict'>]"
     ]
    },
    {
     "name": "stdout",
     "output_type": "stream",
     "text": [
      "Start Validation\n"
     ]
    },
    {
     "name": "stderr",
     "output_type": "stream",
     "text": [
      "Epoch 49/100:  99%|█████████▉| 183/184 [00:09<00:00, 21.36it/s, f_score=0.944, lr=5.35e-5, total_loss=0.11, val_background=0.911] [2022-12-01 10:08:38,164][train.py][line:245][INFO] Epoch:[49/100]\t iteration:184 val loss=0.10990150\t val dice=0.94369295\t lr=0.00005350\n",
      "[2022-12-01 10:08:38,167][train.py][line:250][INFO] val stroke=0.9765776399037113\t background=0.9108082522516665\t score=0.9436930418014526\n",
      "\n",
      "Epoch 49/100: 100%|██████████| 184/184 [00:09<00:00, 20.15it/s, f_score=0.944, lr=5.35e-5, total_loss=0.11, val_background=0.911]\n"
     ]
    },
    {
     "name": "stdout",
     "output_type": "stream",
     "text": [
      "Finish Validation\n",
      "Epoch:49/100\n",
      "Total Loss: 0.0199\n",
      "Saving state, iter: 49\n"
     ]
    },
    {
     "name": "stderr",
     "output_type": "stream",
     "text": [
      "Epoch 50/100: 100%|█████████▉| 553/554 [01:20<00:00,  7.02it/s, f_score=0.986, lr=5.81e-5, total_loss=0.0201, train_background=0.978][2022-12-01 10:09:59,562][train.py][line:153][INFO] Epoch:[50/100]\t train loss=0.02006659\t train dice=0.98624298\t lr=0.00005806\n",
      "\n",
      "[2022-12-01 10:09:59,566][train.py][line:154][INFO] train score=0.9862426519393921\n",
      "\n",
      "[2022-12-01 10:09:59,567][train.py][line:158][INFO] train stroke=0.9941073198826305\t background=0.9783786362043787\t score=0.9862429782586838\n",
      "\n",
      "Epoch 50/100: 100%|██████████| 554/554 [01:21<00:00,  6.84it/s, f_score=0.986, lr=5.81e-5, total_loss=0.0201, train_background=0.978]\n",
      "Epoch 50/100:   0%|          | 0/184 [00:00<?, ?it/s<class 'dict'>]"
     ]
    },
    {
     "name": "stdout",
     "output_type": "stream",
     "text": [
      "Start Validation\n"
     ]
    },
    {
     "name": "stderr",
     "output_type": "stream",
     "text": [
      "Epoch 50/100:  99%|█████████▉| 183/184 [00:09<00:00, 21.33it/s, f_score=0.941, lr=5.81e-5, total_loss=0.109, val_background=0.906][2022-12-01 10:10:08,728][train.py][line:245][INFO] Epoch:[50/100]\t iteration:184 val loss=0.10913189\t val dice=0.94095458\t lr=0.00005806\n",
      "[2022-12-01 10:10:08,731][train.py][line:250][INFO] val stroke=0.9755752967751544\t background=0.9063338647070138\t score=0.940954864025116\n",
      "\n",
      "Epoch 50/100: 100%|██████████| 184/184 [00:09<00:00, 20.10it/s, f_score=0.941, lr=5.81e-5, total_loss=0.109, val_background=0.906]\n"
     ]
    },
    {
     "name": "stdout",
     "output_type": "stream",
     "text": [
      "Finish Validation\n",
      "Epoch:50/100\n",
      "Total Loss: 0.0200\n",
      "Saving state, iter: 50\n"
     ]
    },
    {
     "name": "stderr",
     "output_type": "stream",
     "text": [
      "Epoch 51/100: 100%|█████████▉| 553/554 [01:20<00:00,  6.99it/s, f_score=0.985, lr=6.26e-5, total_loss=0.0216, train_background=0.977][2022-12-01 10:11:29,359][train.py][line:153][INFO] Epoch:[51/100]\t train loss=0.02159302\t train dice=0.98521815\t lr=0.00006257\n",
      "\n",
      "[2022-12-01 10:11:29,361][train.py][line:154][INFO] train score=0.9852182269096375\n",
      "\n",
      "[2022-12-01 10:11:29,362][train.py][line:158][INFO] train stroke=0.9936719623928897\t background=0.9767643412312876\t score=0.9852181512741406\n",
      "\n",
      "Epoch 51/100: 100%|██████████| 554/554 [01:20<00:00,  6.90it/s, f_score=0.985, lr=6.26e-5, total_loss=0.0216, train_background=0.977]\n",
      "Epoch 51/100:   0%|          | 0/184 [00:00<?, ?it/s<class 'dict'>]"
     ]
    },
    {
     "name": "stdout",
     "output_type": "stream",
     "text": [
      "Start Validation\n"
     ]
    },
    {
     "name": "stderr",
     "output_type": "stream",
     "text": [
      "Epoch 51/100:  99%|█████████▉| 183/184 [00:09<00:00, 21.32it/s, f_score=0.943, lr=6.26e-5, total_loss=0.109, val_background=0.909][2022-12-01 10:11:38,546][train.py][line:245][INFO] Epoch:[51/100]\t iteration:184 val loss=0.10883403\t val dice=0.94279607\t lr=0.00006257\n",
      "[2022-12-01 10:11:38,548][train.py][line:250][INFO] val stroke=0.9762751356415127\t background=0.9093169948976972\t score=0.9427961707115173\n",
      "\n",
      "Epoch 51/100: 100%|██████████| 184/184 [00:09<00:00, 20.05it/s, f_score=0.943, lr=6.26e-5, total_loss=0.109, val_background=0.909]\n"
     ]
    },
    {
     "name": "stdout",
     "output_type": "stream",
     "text": [
      "Finish Validation\n",
      "Epoch:51/100\n",
      "Total Loss: 0.0216\n",
      "Saving state, iter: 51\n"
     ]
    },
    {
     "name": "stderr",
     "output_type": "stream",
     "text": [
      "Epoch 52/100: 100%|█████████▉| 553/554 [01:21<00:00,  6.78it/s, f_score=0.986, lr=6.7e-5, total_loss=0.0203, train_background=0.978][2022-12-01 10:13:00,593][train.py][line:153][INFO] Epoch:[52/100]\t train loss=0.02033265\t train dice=0.98605876\t lr=0.00006700\n",
      "\n",
      "[2022-12-01 10:13:00,596][train.py][line:154][INFO] train score=0.9860585331916809\n",
      "\n",
      "[2022-12-01 10:13:00,598][train.py][line:158][INFO] train stroke=0.9940389181732701\t background=0.978078604820403\t score=0.98605876332586\n",
      "\n",
      "Epoch 52/100: 100%|██████████| 554/554 [01:21<00:00,  6.78it/s, f_score=0.986, lr=6.7e-5, total_loss=0.0203, train_background=0.978]\n",
      "Epoch 52/100:   0%|          | 0/184 [00:00<?, ?it/s<class 'dict'>]"
     ]
    },
    {
     "name": "stdout",
     "output_type": "stream",
     "text": [
      "Start Validation\n"
     ]
    },
    {
     "name": "stderr",
     "output_type": "stream",
     "text": [
      "Epoch 52/100:  99%|█████████▉| 183/184 [00:09<00:00, 21.34it/s, f_score=0.944, lr=6.7e-5, total_loss=0.109, val_background=0.91] [2022-12-01 10:13:09,736][train.py][line:245][INFO] Epoch:[52/100]\t iteration:184 val loss=0.10856522\t val dice=0.94355305\t lr=0.00006700\n",
      "[2022-12-01 10:13:09,738][train.py][line:250][INFO] val stroke=0.9767710514690565\t background=0.910335051300733\t score=0.9435532093048096\n",
      "\n",
      "Epoch 52/100: 100%|██████████| 184/184 [00:09<00:00, 20.14it/s, f_score=0.944, lr=6.7e-5, total_loss=0.109, val_background=0.91]\n"
     ]
    },
    {
     "name": "stdout",
     "output_type": "stream",
     "text": [
      "Finish Validation\n",
      "Epoch:52/100\n",
      "Total Loss: 0.0203\n",
      "Saving state, iter: 52\n"
     ]
    },
    {
     "name": "stderr",
     "output_type": "stream",
     "text": [
      "Epoch 53/100: 100%|█████████▉| 553/554 [01:20<00:00,  7.05it/s, f_score=0.986, lr=7.13e-5, total_loss=0.0209, train_background=0.977][2022-12-01 10:14:30,838][train.py][line:153][INFO] Epoch:[53/100]\t train loss=0.02093140\t train dice=0.98566313\t lr=0.00007129\n",
      "\n",
      "[2022-12-01 10:14:30,842][train.py][line:154][INFO] train score=0.9856632351875305\n",
      "\n",
      "[2022-12-01 10:14:30,843][train.py][line:158][INFO] train stroke=0.9938560626351877\t background=0.9774702007374608\t score=0.9856631333001684\n",
      "\n",
      "Epoch 53/100: 100%|██████████| 554/554 [01:20<00:00,  6.86it/s, f_score=0.986, lr=7.13e-5, total_loss=0.0209, train_background=0.977]\n",
      "Epoch 53/100:   0%|          | 0/184 [00:00<?, ?it/s<class 'dict'>]"
     ]
    },
    {
     "name": "stdout",
     "output_type": "stream",
     "text": [
      "Start Validation\n"
     ]
    },
    {
     "name": "stderr",
     "output_type": "stream",
     "text": [
      "Epoch 53/100:  99%|█████████▉| 183/184 [00:09<00:00, 21.45it/s, f_score=0.942, lr=7.13e-5, total_loss=0.111, val_background=0.909][2022-12-01 10:14:39,996][train.py][line:245][INFO] Epoch:[53/100]\t iteration:184 val loss=0.11098013\t val dice=0.94233688\t lr=0.00007129\n",
      "[2022-12-01 10:14:39,998][train.py][line:250][INFO] val stroke=0.9758462134910666\t background=0.9088275380756544\t score=0.9423369765281677\n",
      "\n",
      "Epoch 53/100: 100%|██████████| 184/184 [00:09<00:00, 20.12it/s, f_score=0.942, lr=7.13e-5, total_loss=0.111, val_background=0.909]\n"
     ]
    },
    {
     "name": "stdout",
     "output_type": "stream",
     "text": [
      "Finish Validation\n",
      "Epoch:53/100\n",
      "Total Loss: 0.0209\n",
      "Saving state, iter: 53\n"
     ]
    },
    {
     "name": "stderr",
     "output_type": "stream",
     "text": [
      "Epoch 54/100: 100%|█████████▉| 553/554 [01:21<00:00,  7.01it/s, f_score=0.981, lr=7.54e-5, total_loss=0.0275, train_background=0.971][2022-12-01 10:16:01,586][train.py][line:153][INFO] Epoch:[54/100]\t train loss=0.02745189\t train dice=0.98140877\t lr=0.00007542\n",
      "\n",
      "[2022-12-01 10:16:01,589][train.py][line:154][INFO] train score=0.981408417224884\n",
      "\n",
      "[2022-12-01 10:16:01,590][train.py][line:158][INFO] train stroke=0.9920490459414596\t background=0.9707684899925755\t score=0.981408768397376\n",
      "\n",
      "Epoch 54/100: 100%|██████████| 554/554 [01:21<00:00,  6.82it/s, f_score=0.981, lr=7.54e-5, total_loss=0.0275, train_background=0.971]\n",
      "Epoch 54/100:   0%|          | 0/184 [00:00<?, ?it/s<class 'dict'>]"
     ]
    },
    {
     "name": "stdout",
     "output_type": "stream",
     "text": [
      "Start Validation\n"
     ]
    },
    {
     "name": "stderr",
     "output_type": "stream",
     "text": [
      "Epoch 54/100:  99%|█████████▉| 183/184 [00:09<00:00, 21.23it/s, f_score=0.94, lr=7.54e-5, total_loss=0.109, val_background=0.905] [2022-12-01 10:16:10,724][train.py][line:245][INFO] Epoch:[54/100]\t iteration:184 val loss=0.10927686\t val dice=0.94006375\t lr=0.00007542\n",
      "[2022-12-01 10:16:10,731][train.py][line:250][INFO] val stroke=0.9751707542201747\t background=0.9049567421493323\t score=0.9400638937950134\n",
      "\n",
      "Epoch 54/100: 100%|██████████| 184/184 [00:09<00:00, 20.14it/s, f_score=0.94, lr=7.54e-5, total_loss=0.109, val_background=0.905]\n"
     ]
    },
    {
     "name": "stdout",
     "output_type": "stream",
     "text": [
      "Finish Validation\n",
      "Epoch:54/100\n",
      "Total Loss: 0.0274\n",
      "Saving state, iter: 54\n"
     ]
    },
    {
     "name": "stderr",
     "output_type": "stream",
     "text": [
      "Epoch 55/100: 100%|█████████▉| 553/554 [01:20<00:00,  7.00it/s, f_score=0.983, lr=7.93e-5, total_loss=0.0249, train_background=0.973][2022-12-01 10:17:31,445][train.py][line:153][INFO] Epoch:[55/100]\t train loss=0.02486000\t train dice=0.98313132\t lr=0.00007933\n",
      "\n",
      "[2022-12-01 10:17:31,447][train.py][line:154][INFO] train score=0.983131468296051\n",
      "\n",
      "[2022-12-01 10:17:31,448][train.py][line:158][INFO] train stroke=0.9927646033600349\t background=0.9734980360695601\t score=0.9831313186389015\n",
      "\n",
      "Epoch 55/100: 100%|██████████| 554/554 [01:20<00:00,  6.90it/s, f_score=0.983, lr=7.93e-5, total_loss=0.0249, train_background=0.973]\n",
      "Epoch 55/100:   0%|          | 0/184 [00:00<?, ?it/s<class 'dict'>]"
     ]
    },
    {
     "name": "stdout",
     "output_type": "stream",
     "text": [
      "Start Validation\n"
     ]
    },
    {
     "name": "stderr",
     "output_type": "stream",
     "text": [
      "Epoch 55/100:  99%|█████████▉| 183/184 [00:09<00:00, 21.27it/s, f_score=0.943, lr=7.93e-5, total_loss=0.108, val_background=0.91] [2022-12-01 10:17:40,586][train.py][line:245][INFO] Epoch:[55/100]\t iteration:184 val loss=0.10753746\t val dice=0.94323386\t lr=0.00007933\n",
      "[2022-12-01 10:17:40,589][train.py][line:250][INFO] val stroke=0.976294089594613\t background=0.9101736257257669\t score=0.9432336091995239\n",
      "\n",
      "Epoch 55/100: 100%|██████████| 184/184 [00:09<00:00, 20.14it/s, f_score=0.943, lr=7.93e-5, total_loss=0.108, val_background=0.91]\n"
     ]
    },
    {
     "name": "stdout",
     "output_type": "stream",
     "text": [
      "Finish Validation\n",
      "Epoch:55/100\n",
      "Total Loss: 0.0248\n",
      "Saving state, iter: 55\n"
     ]
    },
    {
     "name": "stderr",
     "output_type": "stream",
     "text": [
      "Epoch 56/100: 100%|█████████▉| 553/554 [01:20<00:00,  7.05it/s, f_score=0.986, lr=8.3e-5, total_loss=0.021, train_background=0.977] [2022-12-01 10:19:01,206][train.py][line:153][INFO] Epoch:[56/100]\t train loss=0.02100230\t train dice=0.98557811\t lr=0.00008300\n",
      "\n",
      "[2022-12-01 10:19:01,209][train.py][line:154][INFO] train score=0.9855778217315674\n",
      "\n",
      "[2022-12-01 10:19:01,210][train.py][line:158][INFO] train stroke=0.9938303822859961\t background=0.9773258466798046\t score=0.9855781149132588\n",
      "\n",
      "Epoch 56/100: 100%|██████████| 554/554 [01:20<00:00,  6.90it/s, f_score=0.986, lr=8.3e-5, total_loss=0.021, train_background=0.977]\n",
      "Epoch 56/100:   0%|          | 0/184 [00:00<?, ?it/s<class 'dict'>]"
     ]
    },
    {
     "name": "stdout",
     "output_type": "stream",
     "text": [
      "Start Validation\n"
     ]
    },
    {
     "name": "stderr",
     "output_type": "stream",
     "text": [
      "Epoch 56/100:  99%|█████████▉| 183/184 [00:09<00:00, 21.33it/s, f_score=0.943, lr=8.3e-5, total_loss=0.11, val_background=0.91]  [2022-12-01 10:19:10,345][train.py][line:245][INFO] Epoch:[56/100]\t iteration:184 val loss=0.10998086\t val dice=0.94329202\t lr=0.00008300\n",
      "[2022-12-01 10:19:10,347][train.py][line:250][INFO] val stroke=0.9763119719598604\t background=0.9102720631205518\t score=0.9432920813560486\n",
      "\n",
      "Epoch 56/100: 100%|██████████| 184/184 [00:09<00:00, 20.15it/s, f_score=0.943, lr=8.3e-5, total_loss=0.11, val_background=0.91]\n"
     ]
    },
    {
     "name": "stdout",
     "output_type": "stream",
     "text": [
      "Finish Validation\n",
      "Epoch:56/100\n",
      "Total Loss: 0.0210\n",
      "Saving state, iter: 56\n"
     ]
    },
    {
     "name": "stderr",
     "output_type": "stream",
     "text": [
      "Epoch 57/100: 100%|██████████| 554/554 [01:20<00:00,  6.99it/s, f_score=0.986, lr=8.64e-5, total_loss=0.02, train_background=0.978]  [2022-12-01 10:20:31,634][train.py][line:153][INFO] Epoch:[57/100]\t train loss=0.02004900\t train dice=0.98623770\t lr=0.00008638\n",
      "\n",
      "[2022-12-01 10:20:31,638][train.py][line:154][INFO] train score=0.9862378835678101\n",
      "\n",
      "[2022-12-01 10:20:31,639][train.py][line:158][INFO] train stroke=0.9941004591082838\t background=0.9783749354445117\t score=0.9862376974377821\n",
      "\n",
      "Epoch 57/100: 100%|██████████| 554/554 [01:20<00:00,  6.85it/s, f_score=0.986, lr=8.64e-5, total_loss=0.02, train_background=0.978]\n",
      "Epoch 57/100:   0%|          | 0/184 [00:00<?, ?it/s<class 'dict'>]"
     ]
    },
    {
     "name": "stdout",
     "output_type": "stream",
     "text": [
      "Start Validation\n"
     ]
    },
    {
     "name": "stderr",
     "output_type": "stream",
     "text": [
      "Epoch 57/100:  99%|█████████▉| 183/184 [00:09<00:00, 21.32it/s, f_score=0.943, lr=8.64e-5, total_loss=0.109, val_background=0.909][2022-12-01 10:20:40,831][train.py][line:245][INFO] Epoch:[57/100]\t iteration:184 val loss=0.10940280\t val dice=0.94299975\t lr=0.00008638\n",
      "[2022-12-01 10:20:40,833][train.py][line:250][INFO] val stroke=0.9766003197949865\t background=0.9093991851677066\t score=0.9429996609687805\n",
      "\n",
      "Epoch 57/100: 100%|██████████| 184/184 [00:09<00:00, 20.02it/s, f_score=0.943, lr=8.64e-5, total_loss=0.109, val_background=0.909]\n"
     ]
    },
    {
     "name": "stdout",
     "output_type": "stream",
     "text": [
      "Finish Validation\n",
      "Epoch:57/100\n",
      "Total Loss: 0.0200\n",
      "Saving state, iter: 57\n"
     ]
    },
    {
     "name": "stderr",
     "output_type": "stream",
     "text": [
      "Epoch 58/100: 100%|██████████| 554/554 [01:20<00:00,  7.21it/s, f_score=0.984, lr=8.94e-5, total_loss=0.023, train_background=0.975] [2022-12-01 10:22:01,650][train.py][line:153][INFO] Epoch:[58/100]\t train loss=0.02304640\t train dice=0.98433111\t lr=0.00008944\n",
      "\n",
      "[2022-12-01 10:22:01,653][train.py][line:154][INFO] train score=0.9843316078186035\n",
      "\n",
      "[2022-12-01 10:22:01,654][train.py][line:158][INFO] train stroke=0.9933049151613393\t background=0.9753573063478573\t score=0.9843311104318295\n",
      "\n",
      "Epoch 58/100: 100%|██████████| 554/554 [01:20<00:00,  6.88it/s, f_score=0.984, lr=8.94e-5, total_loss=0.023, train_background=0.975]\n",
      "Epoch 58/100:   0%|          | 0/184 [00:00<?, ?it/s<class 'dict'>]"
     ]
    },
    {
     "name": "stdout",
     "output_type": "stream",
     "text": [
      "Start Validation\n"
     ]
    },
    {
     "name": "stderr",
     "output_type": "stream",
     "text": [
      "Epoch 58/100:  99%|█████████▉| 183/184 [00:09<00:00, 21.38it/s, f_score=0.942, lr=8.94e-5, total_loss=0.114, val_background=0.908][2022-12-01 10:22:10,803][train.py][line:245][INFO] Epoch:[58/100]\t iteration:184 val loss=0.11387861\t val dice=0.94161884\t lr=0.00008944\n",
      "[2022-12-01 10:22:10,805][train.py][line:250][INFO] val stroke=0.975455001320528\t background=0.9077826848496562\t score=0.9416187405586243\n",
      "\n",
      "Epoch 58/100: 100%|██████████| 184/184 [00:09<00:00, 20.12it/s, f_score=0.942, lr=8.94e-5, total_loss=0.114, val_background=0.908]\n"
     ]
    },
    {
     "name": "stdout",
     "output_type": "stream",
     "text": [
      "Finish Validation\n",
      "Epoch:58/100\n",
      "Total Loss: 0.0230\n",
      "Saving state, iter: 58\n"
     ]
    },
    {
     "name": "stderr",
     "output_type": "stream",
     "text": [
      "Epoch 59/100: 100%|█████████▉| 553/554 [01:20<00:00,  7.07it/s, f_score=0.98, lr=9.22e-5, total_loss=0.0303, train_background=0.968] [2022-12-01 10:23:31,983][train.py][line:153][INFO] Epoch:[59/100]\t train loss=0.03032492\t train dice=0.97961308\t lr=0.00009216\n",
      "\n",
      "[2022-12-01 10:23:31,986][train.py][line:154][INFO] train score=0.9796131253242493\n",
      "\n",
      "[2022-12-01 10:23:31,988][train.py][line:158][INFO] train stroke=0.9912434993883332\t background=0.9679826513094162\t score=0.9796130757254383\n",
      "\n",
      "Epoch 59/100: 100%|██████████| 554/554 [01:20<00:00,  6.86it/s, f_score=0.98, lr=9.22e-5, total_loss=0.0303, train_background=0.968]\n",
      "Epoch 59/100:   0%|          | 0/184 [00:00<?, ?it/s<class 'dict'>]"
     ]
    },
    {
     "name": "stdout",
     "output_type": "stream",
     "text": [
      "Start Validation\n"
     ]
    },
    {
     "name": "stderr",
     "output_type": "stream",
     "text": [
      "Epoch 59/100:  99%|█████████▉| 183/184 [00:09<00:00, 21.21it/s, f_score=0.941, lr=9.22e-5, total_loss=0.105, val_background=0.906][2022-12-01 10:23:41,179][train.py][line:245][INFO] Epoch:[59/100]\t iteration:184 val loss=0.10481607\t val dice=0.94087890\t lr=0.00009216\n",
      "[2022-12-01 10:23:41,180][train.py][line:250][INFO] val stroke=0.9756389354234156\t background=0.9061188649224199\t score=0.940878689289093\n",
      "\n",
      "Epoch 59/100: 100%|██████████| 184/184 [00:09<00:00, 20.03it/s, f_score=0.941, lr=9.22e-5, total_loss=0.105, val_background=0.906]\n"
     ]
    },
    {
     "name": "stdout",
     "output_type": "stream",
     "text": [
      "Finish Validation\n",
      "Epoch:59/100\n",
      "Total Loss: 0.0303\n",
      "Saving state, iter: 59\n"
     ]
    },
    {
     "name": "stderr",
     "output_type": "stream",
     "text": [
      "Epoch 60/100: 100%|█████████▉| 553/554 [01:20<00:00,  7.05it/s, f_score=0.982, lr=9.45e-5, total_loss=0.0258, train_background=0.972][2022-12-01 10:25:01,866][train.py][line:153][INFO] Epoch:[60/100]\t train loss=0.02578381\t train dice=0.98247034\t lr=0.00009451\n",
      "\n",
      "[2022-12-01 10:25:01,868][train.py][line:154][INFO] train score=0.9824703335762024\n",
      "\n",
      "[2022-12-01 10:25:01,869][train.py][line:158][INFO] train stroke=0.9924960050341886\t background=0.9724446713709228\t score=0.9824703388480933\n",
      "\n",
      "Epoch 60/100: 100%|██████████| 554/554 [01:20<00:00,  6.90it/s, f_score=0.982, lr=9.45e-5, total_loss=0.0258, train_background=0.972]\n",
      "Epoch 60/100:   0%|          | 0/184 [00:00<?, ?it/s<class 'dict'>]"
     ]
    },
    {
     "name": "stdout",
     "output_type": "stream",
     "text": [
      "Start Validation\n"
     ]
    },
    {
     "name": "stderr",
     "output_type": "stream",
     "text": [
      "Epoch 60/100:  99%|█████████▉| 183/184 [00:09<00:00, 21.36it/s, f_score=0.942, lr=9.45e-5, total_loss=0.108, val_background=0.908][2022-12-01 10:25:11,014][train.py][line:245][INFO] Epoch:[60/100]\t iteration:184 val loss=0.10803362\t val dice=0.94212696\t lr=0.00009451\n",
      "[2022-12-01 10:25:11,016][train.py][line:250][INFO] val stroke=0.9758855859222619\t background=0.908368330610835\t score=0.9421266913414001\n",
      "\n",
      "Epoch 60/100: 100%|██████████| 184/184 [00:09<00:00, 20.13it/s, f_score=0.942, lr=9.45e-5, total_loss=0.108, val_background=0.908]\n"
     ]
    },
    {
     "name": "stdout",
     "output_type": "stream",
     "text": [
      "Finish Validation\n",
      "Epoch:60/100\n",
      "Total Loss: 0.0257\n",
      "Saving state, iter: 60\n"
     ]
    },
    {
     "name": "stderr",
     "output_type": "stream",
     "text": [
      "Epoch 61/100: 100%|█████████▉| 553/554 [01:19<00:00,  6.55it/s, f_score=0.986, lr=9.65e-5, total_loss=0.0208, train_background=0.978][2022-12-01 10:26:31,046][train.py][line:153][INFO] Epoch:[61/100]\t train loss=0.02083919\t train dice=0.98573424\t lr=0.00009646\n",
      "\n",
      "[2022-12-01 10:26:31,049][train.py][line:154][INFO] train score=0.9857344031333923\n",
      "\n",
      "[2022-12-01 10:26:31,050][train.py][line:158][INFO] train stroke=0.9938865040398677\t background=0.9775819686991213\t score=0.985734236799853\n",
      "\n",
      "Epoch 61/100: 100%|██████████| 554/554 [01:19<00:00,  6.95it/s, f_score=0.986, lr=9.65e-5, total_loss=0.0208, train_background=0.978]\n",
      "Epoch 61/100:   0%|          | 0/184 [00:00<?, ?it/s<class 'dict'>]"
     ]
    },
    {
     "name": "stdout",
     "output_type": "stream",
     "text": [
      "Start Validation\n"
     ]
    },
    {
     "name": "stderr",
     "output_type": "stream",
     "text": [
      "Epoch 61/100:  99%|█████████▉| 183/184 [00:09<00:00, 21.39it/s, f_score=0.943, lr=9.65e-5, total_loss=0.109, val_background=0.91] [2022-12-01 10:26:40,177][train.py][line:245][INFO] Epoch:[61/100]\t iteration:184 val loss=0.10906443\t val dice=0.94289788\t lr=0.00009646\n",
      "[2022-12-01 10:26:40,180][train.py][line:250][INFO] val stroke=0.9762840915633284\t background=0.9095116646393485\t score=0.9428979158401489\n",
      "\n",
      "Epoch 61/100: 100%|██████████| 184/184 [00:09<00:00, 20.17it/s, f_score=0.943, lr=9.65e-5, total_loss=0.109, val_background=0.91]\n"
     ]
    },
    {
     "name": "stdout",
     "output_type": "stream",
     "text": [
      "Finish Validation\n",
      "Epoch:61/100\n",
      "Total Loss: 0.0208\n",
      "Saving state, iter: 61\n"
     ]
    },
    {
     "name": "stderr",
     "output_type": "stream",
     "text": [
      "Epoch 62/100: 100%|██████████| 554/554 [01:20<00:00,  7.08it/s, f_score=0.987, lr=9.8e-5, total_loss=0.0191, train_background=0.979][2022-12-01 10:28:01,306][train.py][line:153][INFO] Epoch:[62/100]\t train loss=0.01906399\t train dice=0.98689472\t lr=0.00009800\n",
      "\n",
      "[2022-12-01 10:28:01,309][train.py][line:154][INFO] train score=0.9868946075439453\n",
      "\n",
      "[2022-12-01 10:28:01,310][train.py][line:158][INFO] train stroke=0.994399882503365\t background=0.9793895564785072\t score=0.986894720082679\n",
      "\n",
      "Epoch 62/100: 100%|██████████| 554/554 [01:20<00:00,  6.86it/s, f_score=0.987, lr=9.8e-5, total_loss=0.0191, train_background=0.979]\n",
      "Epoch 62/100:   0%|          | 0/184 [00:00<?, ?it/s<class 'dict'>]"
     ]
    },
    {
     "name": "stdout",
     "output_type": "stream",
     "text": [
      "Start Validation\n"
     ]
    },
    {
     "name": "stderr",
     "output_type": "stream",
     "text": [
      "Epoch 62/100:  99%|█████████▉| 183/184 [00:09<00:00, 21.11it/s, f_score=0.94, lr=9.8e-5, total_loss=0.115, val_background=0.905] [2022-12-01 10:28:10,464][train.py][line:245][INFO] Epoch:[62/100]\t iteration:184 val loss=0.11503693\t val dice=0.94032995\t lr=0.00009800\n",
      "[2022-12-01 10:28:10,467][train.py][line:250][INFO] val stroke=0.9755023303239242\t background=0.9051575683381247\t score=0.9403296709060669\n",
      "\n",
      "Epoch 62/100: 100%|██████████| 184/184 [00:09<00:00, 20.10it/s, f_score=0.94, lr=9.8e-5, total_loss=0.115, val_background=0.905]\n"
     ]
    },
    {
     "name": "stdout",
     "output_type": "stream",
     "text": [
      "Finish Validation\n",
      "Epoch:62/100\n",
      "Total Loss: 0.0190\n",
      "Saving state, iter: 62\n"
     ]
    },
    {
     "name": "stderr",
     "output_type": "stream",
     "text": [
      "Epoch 63/100: 100%|█████████▉| 553/554 [01:21<00:00,  7.04it/s, f_score=0.985, lr=9.91e-5, total_loss=0.0225, train_background=0.976][2022-12-01 10:29:32,099][train.py][line:153][INFO] Epoch:[63/100]\t train loss=0.02254385\t train dice=0.98465879\t lr=0.00009911\n",
      "\n",
      "[2022-12-01 10:29:32,102][train.py][line:154][INFO] train score=0.9846585988998413\n",
      "\n",
      "[2022-12-01 10:29:32,103][train.py][line:158][INFO] train stroke=0.9934190832320533\t background=0.9758985052255087\t score=0.9846587933142693\n",
      "\n",
      "Epoch 63/100: 100%|██████████| 554/554 [01:21<00:00,  6.82it/s, f_score=0.985, lr=9.91e-5, total_loss=0.0225, train_background=0.976]\n",
      "Epoch 63/100:   0%|          | 0/184 [00:00<?, ?it/s<class 'dict'>]"
     ]
    },
    {
     "name": "stdout",
     "output_type": "stream",
     "text": [
      "Start Validation\n"
     ]
    },
    {
     "name": "stderr",
     "output_type": "stream",
     "text": [
      "Epoch 63/100:  99%|█████████▉| 183/184 [00:09<00:00, 21.35it/s, f_score=0.939, lr=9.91e-5, total_loss=0.113, val_background=0.904][2022-12-01 10:29:41,239][train.py][line:245][INFO] Epoch:[63/100]\t iteration:184 val loss=0.11256946\t val dice=0.93949008\t lr=0.00009911\n",
      "[2022-12-01 10:29:41,242][train.py][line:250][INFO] val stroke=0.9747199976573819\t background=0.9042601591866949\t score=0.9394901990890503\n",
      "\n",
      "Epoch 63/100: 100%|██████████| 184/184 [00:09<00:00, 20.15it/s, f_score=0.939, lr=9.91e-5, total_loss=0.113, val_background=0.904]\n"
     ]
    },
    {
     "name": "stdout",
     "output_type": "stream",
     "text": [
      "Finish Validation\n",
      "Epoch:63/100\n",
      "Total Loss: 0.0225\n",
      "Saving state, iter: 63\n"
     ]
    },
    {
     "name": "stderr",
     "output_type": "stream",
     "text": [
      "Epoch 64/100: 100%|█████████▉| 553/554 [01:21<00:00,  7.02it/s, f_score=0.984, lr=9.98e-5, total_loss=0.0237, train_background=0.975][2022-12-01 10:31:02,887][train.py][line:153][INFO] Epoch:[64/100]\t train loss=0.02366075\t train dice=0.98387685\t lr=0.00009978\n",
      "\n",
      "[2022-12-01 10:31:02,889][train.py][line:154][INFO] train score=0.9838767051696777\n",
      "\n",
      "[2022-12-01 10:31:02,890][train.py][line:158][INFO] train stroke=0.993083367816808\t background=0.9746703422672052\t score=0.9838768543964689\n",
      "\n",
      "Epoch 64/100: 100%|██████████| 554/554 [01:21<00:00,  6.82it/s, f_score=0.984, lr=9.98e-5, total_loss=0.0237, train_background=0.975]\n",
      "Epoch 64/100:   0%|          | 0/184 [00:00<?, ?it/s<class 'dict'>]"
     ]
    },
    {
     "name": "stdout",
     "output_type": "stream",
     "text": [
      "Start Validation\n"
     ]
    },
    {
     "name": "stderr",
     "output_type": "stream",
     "text": [
      "Epoch 64/100:  99%|█████████▉| 183/184 [00:08<00:00, 21.48it/s, f_score=0.942, lr=9.98e-5, total_loss=0.109, val_background=0.908][2022-12-01 10:31:11,992][train.py][line:245][INFO] Epoch:[64/100]\t iteration:184 val loss=0.10878786\t val dice=0.94219925\t lr=0.00009978\n",
      "[2022-12-01 10:31:11,995][train.py][line:250][INFO] val stroke=0.9761662444342738\t background=0.9082322577419488\t score=0.9421995878219604\n",
      "\n",
      "Epoch 64/100: 100%|██████████| 184/184 [00:09<00:00, 20.22it/s, f_score=0.942, lr=9.98e-5, total_loss=0.109, val_background=0.908]\n"
     ]
    },
    {
     "name": "stdout",
     "output_type": "stream",
     "text": [
      "Finish Validation\n",
      "Epoch:64/100\n",
      "Total Loss: 0.0236\n",
      "Saving state, iter: 64\n"
     ]
    },
    {
     "name": "stderr",
     "output_type": "stream",
     "text": [
      "Epoch 65/100: 100%|█████████▉| 553/554 [01:21<00:00,  6.75it/s, f_score=0.986, lr=0.0001, total_loss=0.0207, train_background=0.978][2022-12-01 10:32:33,530][train.py][line:153][INFO] Epoch:[65/100]\t train loss=0.02065686\t train dice=0.98589236\t lr=0.00010000\n",
      "\n",
      "[2022-12-01 10:32:33,533][train.py][line:154][INFO] train score=0.9858916997909546\n",
      "\n",
      "[2022-12-01 10:32:33,534][train.py][line:158][INFO] train stroke=0.9939492561111382\t background=0.9778354545577769\t score=0.9858923556572263\n",
      "\n",
      "Epoch 65/100: 100%|██████████| 554/554 [01:21<00:00,  6.83it/s, f_score=0.986, lr=0.0001, total_loss=0.0207, train_background=0.978]\n",
      "Epoch 65/100:   0%|          | 0/184 [00:00<?, ?it/s<class 'dict'>]"
     ]
    },
    {
     "name": "stdout",
     "output_type": "stream",
     "text": [
      "Start Validation\n"
     ]
    },
    {
     "name": "stderr",
     "output_type": "stream",
     "text": [
      "Epoch 65/100:  99%|█████████▉| 183/184 [00:08<00:00, 21.43it/s, f_score=0.942, lr=0.0001, total_loss=0.115, val_background=0.907][2022-12-01 10:32:42,648][train.py][line:245][INFO] Epoch:[65/100]\t iteration:184 val loss=0.11512558\t val dice=0.94166071\t lr=0.00010000\n",
      "[2022-12-01 10:32:42,650][train.py][line:250][INFO] val stroke=0.9759646790183109\t background=0.9073567458468935\t score=0.94166100025177\n",
      "\n",
      "Epoch 65/100: 100%|██████████| 184/184 [00:09<00:00, 20.20it/s, f_score=0.942, lr=0.0001, total_loss=0.115, val_background=0.907]\n"
     ]
    },
    {
     "name": "stdout",
     "output_type": "stream",
     "text": [
      "Finish Validation\n",
      "Epoch:65/100\n",
      "Total Loss: 0.0206\n",
      "Saving state, iter: 65\n"
     ]
    },
    {
     "name": "stderr",
     "output_type": "stream",
     "text": [
      "Epoch 66/100: 100%|█████████▉| 553/554 [01:22<00:00,  6.86it/s, f_score=0.985, lr=9.98e-5, total_loss=0.0226, train_background=0.976][2022-12-01 10:34:05,898][train.py][line:153][INFO] Epoch:[66/100]\t train loss=0.02258875\t train dice=0.98463604\t lr=0.00009978\n",
      "\n",
      "[2022-12-01 10:34:05,901][train.py][line:154][INFO] train score=0.9846361875534058\n",
      "\n",
      "[2022-12-01 10:34:05,902][train.py][line:158][INFO] train stroke=0.9934267792245541\t background=0.9758452923719634\t score=0.98463603682036\n",
      "\n",
      "Epoch 66/100: 100%|██████████| 554/554 [01:22<00:00,  6.68it/s, f_score=0.985, lr=9.98e-5, total_loss=0.0226, train_background=0.976]\n",
      "Epoch 66/100:   0%|          | 0/184 [00:00<?, ?it/s<class 'dict'>]"
     ]
    },
    {
     "name": "stdout",
     "output_type": "stream",
     "text": [
      "Start Validation\n"
     ]
    },
    {
     "name": "stderr",
     "output_type": "stream",
     "text": [
      "Epoch 66/100:  99%|█████████▉| 183/184 [00:08<00:00, 21.41it/s, f_score=0.942, lr=9.98e-5, total_loss=0.109, val_background=0.907][2022-12-01 10:34:15,001][train.py][line:245][INFO] Epoch:[66/100]\t iteration:184 val loss=0.10946559\t val dice=0.94159486\t lr=0.00009978\n",
      "[2022-12-01 10:34:15,004][train.py][line:250][INFO] val stroke=0.9757797837905262\t background=0.9074099238799966\t score=0.9415945410728455\n",
      "\n",
      "Epoch 66/100: 100%|██████████| 184/184 [00:09<00:00, 20.23it/s, f_score=0.942, lr=9.98e-5, total_loss=0.109, val_background=0.907]\n"
     ]
    },
    {
     "name": "stdout",
     "output_type": "stream",
     "text": [
      "Finish Validation\n",
      "Epoch:66/100\n",
      "Total Loss: 0.0225\n",
      "Saving state, iter: 66\n"
     ]
    },
    {
     "name": "stderr",
     "output_type": "stream",
     "text": [
      "Epoch 67/100: 100%|██████████| 554/554 [01:20<00:00,  7.03it/s, f_score=0.986, lr=9.91e-5, total_loss=0.0213, train_background=0.977][2022-12-01 10:35:36,021][train.py][line:153][INFO] Epoch:[67/100]\t train loss=0.02128801\t train dice=0.98559487\t lr=0.00009911\n",
      "\n",
      "[2022-12-01 10:35:36,023][train.py][line:154][INFO] train score=0.9855946898460388\n",
      "\n",
      "[2022-12-01 10:35:36,024][train.py][line:158][INFO] train stroke=0.9938236935474382\t background=0.9773660467850173\t score=0.9855948713497135\n",
      "\n",
      "Epoch 67/100: 100%|██████████| 554/554 [01:20<00:00,  6.87it/s, f_score=0.986, lr=9.91e-5, total_loss=0.0213, train_background=0.977]\n",
      "Epoch 67/100:   0%|          | 0/184 [00:00<?, ?it/s<class 'dict'>]"
     ]
    },
    {
     "name": "stdout",
     "output_type": "stream",
     "text": [
      "Start Validation\n"
     ]
    },
    {
     "name": "stderr",
     "output_type": "stream",
     "text": [
      "Epoch 67/100:  99%|█████████▉| 183/184 [00:08<00:00, 21.40it/s, f_score=0.928, lr=9.91e-5, total_loss=0.126, val_background=0.885][2022-12-01 10:35:45,142][train.py][line:245][INFO] Epoch:[67/100]\t iteration:184 val loss=0.12630609\t val dice=0.92841505\t lr=0.00009911\n",
      "[2022-12-01 10:35:45,146][train.py][line:250][INFO] val stroke=0.9713753092548122\t background=0.8854548001418943\t score=0.9284151792526245\n",
      "\n",
      "Epoch 67/100: 100%|██████████| 184/184 [00:09<00:00, 20.19it/s, f_score=0.928, lr=9.91e-5, total_loss=0.126, val_background=0.885]\n"
     ]
    },
    {
     "name": "stdout",
     "output_type": "stream",
     "text": [
      "Finish Validation\n",
      "Epoch:67/100\n",
      "Total Loss: 0.0212\n",
      "Saving state, iter: 67\n"
     ]
    },
    {
     "name": "stderr",
     "output_type": "stream",
     "text": [
      "Epoch 68/100: 100%|██████████| 554/554 [01:21<00:00,  6.54it/s, f_score=0.985, lr=9.8e-5, total_loss=0.0227, train_background=0.976][2022-12-01 10:37:06,917][train.py][line:153][INFO] Epoch:[68/100]\t train loss=0.02266595\t train dice=0.98462262\t lr=0.00009800\n",
      "\n",
      "[2022-12-01 10:37:06,920][train.py][line:154][INFO] train score=0.9846222996711731\n",
      "\n",
      "[2022-12-01 10:37:06,921][train.py][line:158][INFO] train stroke=0.993386367920934\t background=0.9758588667380681\t score=0.9846226173832959\n",
      "\n",
      "Epoch 68/100: 100%|██████████| 554/554 [01:21<00:00,  6.80it/s, f_score=0.985, lr=9.8e-5, total_loss=0.0227, train_background=0.976]\n",
      "Epoch 68/100:   0%|          | 0/184 [00:00<?, ?it/s<class 'dict'>]"
     ]
    },
    {
     "name": "stdout",
     "output_type": "stream",
     "text": [
      "Start Validation\n"
     ]
    },
    {
     "name": "stderr",
     "output_type": "stream",
     "text": [
      "Epoch 68/100:  99%|█████████▉| 183/184 [00:09<00:00, 21.21it/s, f_score=0.942, lr=9.8e-5, total_loss=0.113, val_background=0.908][2022-12-01 10:37:16,071][train.py][line:245][INFO] Epoch:[68/100]\t iteration:184 val loss=0.11266965\t val dice=0.94210700\t lr=0.00009800\n",
      "[2022-12-01 10:37:16,073][train.py][line:250][INFO] val stroke=0.9760812417320583\t background=0.9081327536183855\t score=0.9421072006225586\n",
      "\n",
      "Epoch 68/100: 100%|██████████| 184/184 [00:09<00:00, 20.12it/s, f_score=0.942, lr=9.8e-5, total_loss=0.113, val_background=0.908]\n"
     ]
    },
    {
     "name": "stdout",
     "output_type": "stream",
     "text": [
      "Finish Validation\n",
      "Epoch:68/100\n",
      "Total Loss: 0.0226\n",
      "Saving state, iter: 68\n"
     ]
    },
    {
     "name": "stderr",
     "output_type": "stream",
     "text": [
      "Epoch 69/100: 100%|██████████| 554/554 [01:20<00:00,  6.62it/s, f_score=0.985, lr=9.65e-5, total_loss=0.0214, train_background=0.977][2022-12-01 10:38:37,546][train.py][line:153][INFO] Epoch:[69/100]\t train loss=0.02136893\t train dice=0.98540409\t lr=0.00009646\n",
      "\n",
      "[2022-12-01 10:38:37,549][train.py][line:154][INFO] train score=0.9854038953781128\n",
      "\n",
      "[2022-12-01 10:38:37,549][train.py][line:158][INFO] train stroke=0.9937581320962321\t background=0.9770500384513221\t score=0.9854040855965459\n",
      "\n",
      "Epoch 69/100: 100%|██████████| 554/554 [01:21<00:00,  6.83it/s, f_score=0.985, lr=9.65e-5, total_loss=0.0214, train_background=0.977]\n",
      "Epoch 69/100:   0%|          | 0/184 [00:00<?, ?it/s<class 'dict'>]"
     ]
    },
    {
     "name": "stdout",
     "output_type": "stream",
     "text": [
      "Start Validation\n"
     ]
    },
    {
     "name": "stderr",
     "output_type": "stream",
     "text": [
      "Epoch 69/100:  99%|█████████▉| 183/184 [00:09<00:00, 21.32it/s, f_score=0.942, lr=9.65e-5, total_loss=0.112, val_background=0.909][2022-12-01 10:38:46,687][train.py][line:245][INFO] Epoch:[69/100]\t iteration:184 val loss=0.11200280\t val dice=0.94222452\t lr=0.00009646\n",
      "[2022-12-01 10:38:46,690][train.py][line:250][INFO] val stroke=0.9759116033497064\t background=0.9085374403259029\t score=0.942224383354187\n",
      "\n",
      "Epoch 69/100: 100%|██████████| 184/184 [00:09<00:00, 20.14it/s, f_score=0.942, lr=9.65e-5, total_loss=0.112, val_background=0.909]\n"
     ]
    },
    {
     "name": "stdout",
     "output_type": "stream",
     "text": [
      "Finish Validation\n",
      "Epoch:69/100\n",
      "Total Loss: 0.0213\n",
      "Saving state, iter: 69\n"
     ]
    },
    {
     "name": "stderr",
     "output_type": "stream",
     "text": [
      "Epoch 70/100: 100%|█████████▉| 553/554 [01:19<00:00,  7.03it/s, f_score=0.987, lr=9.45e-5, total_loss=0.0195, train_background=0.979][2022-12-01 10:40:07,130][train.py][line:153][INFO] Epoch:[70/100]\t train loss=0.01954449\t train dice=0.98664712\t lr=0.00009451\n",
      "\n",
      "[2022-12-01 10:40:07,133][train.py][line:154][INFO] train score=0.9866473078727722\n",
      "\n",
      "[2022-12-01 10:40:07,134][train.py][line:158][INFO] train stroke=0.9943202883543091\t background=0.9789739596499433\t score=0.9866471220655132\n",
      "\n",
      "Epoch 70/100: 100%|██████████| 554/554 [01:20<00:00,  6.92it/s, f_score=0.987, lr=9.45e-5, total_loss=0.0195, train_background=0.979]\n",
      "Epoch 70/100:   0%|          | 0/184 [00:00<?, ?it/s<class 'dict'>]"
     ]
    },
    {
     "name": "stdout",
     "output_type": "stream",
     "text": [
      "Start Validation\n"
     ]
    },
    {
     "name": "stderr",
     "output_type": "stream",
     "text": [
      "Epoch 70/100:  99%|█████████▉| 183/184 [00:09<00:00, 21.39it/s, f_score=0.94, lr=9.45e-5, total_loss=0.113, val_background=0.905] [2022-12-01 10:40:16,328][train.py][line:245][INFO] Epoch:[70/100]\t iteration:184 val loss=0.11332950\t val dice=0.94023069\t lr=0.00009451\n",
      "[2022-12-01 10:40:16,330][train.py][line:250][INFO] val stroke=0.9751827901472216\t background=0.9052785991326623\t score=0.9402308464050293\n",
      "\n",
      "Epoch 70/100: 100%|██████████| 184/184 [00:09<00:00, 20.02it/s, f_score=0.94, lr=9.45e-5, total_loss=0.113, val_background=0.905]\n"
     ]
    },
    {
     "name": "stdout",
     "output_type": "stream",
     "text": [
      "Finish Validation\n",
      "Epoch:70/100\n",
      "Total Loss: 0.0195\n",
      "Saving state, iter: 70\n"
     ]
    },
    {
     "name": "stderr",
     "output_type": "stream",
     "text": [
      "Epoch 71/100: 100%|█████████▉| 553/554 [01:20<00:00,  7.01it/s, f_score=0.987, lr=9.22e-5, total_loss=0.0183, train_background=0.98] [2022-12-01 10:41:37,686][train.py][line:153][INFO] Epoch:[71/100]\t train loss=0.01831248\t train dice=0.98744742\t lr=0.00009216\n",
      "\n",
      "[2022-12-01 10:41:37,689][train.py][line:154][INFO] train score=0.9874474406242371\n",
      "\n",
      "[2022-12-01 10:41:37,690][train.py][line:158][INFO] train stroke=0.9946217598252348\t background=0.9802730790329324\t score=0.9874474185683667\n",
      "\n",
      "Epoch 71/100: 100%|██████████| 554/554 [01:20<00:00,  6.84it/s, f_score=0.987, lr=9.22e-5, total_loss=0.0183, train_background=0.98]\n",
      "Epoch 71/100:   0%|          | 0/184 [00:00<?, ?it/s<class 'dict'>]"
     ]
    },
    {
     "name": "stdout",
     "output_type": "stream",
     "text": [
      "Start Validation\n"
     ]
    },
    {
     "name": "stderr",
     "output_type": "stream",
     "text": [
      "Epoch 71/100:  99%|█████████▉| 183/184 [00:09<00:00, 21.41it/s, f_score=0.942, lr=9.22e-5, total_loss=0.116, val_background=0.907][2022-12-01 10:41:46,840][train.py][line:245][INFO] Epoch:[71/100]\t iteration:184 val loss=0.11551125\t val dice=0.94167029\t lr=0.00009216\n",
      "[2022-12-01 10:41:46,842][train.py][line:250][INFO] val stroke=0.9758845535309418\t background=0.9074560364951259\t score=0.9416704773902893\n",
      "\n",
      "Epoch 71/100: 100%|██████████| 184/184 [00:09<00:00, 20.11it/s, f_score=0.942, lr=9.22e-5, total_loss=0.116, val_background=0.907]\n"
     ]
    },
    {
     "name": "stdout",
     "output_type": "stream",
     "text": [
      "Finish Validation\n",
      "Epoch:71/100\n",
      "Total Loss: 0.0183\n",
      "Saving state, iter: 71\n"
     ]
    },
    {
     "name": "stderr",
     "output_type": "stream",
     "text": [
      "Epoch 72/100: 100%|█████████▉| 553/554 [01:20<00:00,  7.09it/s, f_score=0.988, lr=8.94e-5, total_loss=0.0168, train_background=0.982][2022-12-01 10:43:07,626][train.py][line:153][INFO] Epoch:[72/100]\t train loss=0.01676169\t train dice=0.98847981\t lr=0.00008944\n",
      "\n",
      "[2022-12-01 10:43:07,630][train.py][line:154][INFO] train score=0.9884803295135498\n",
      "\n",
      "[2022-12-01 10:43:07,630][train.py][line:158][INFO] train stroke=0.9950716086673392\t background=0.9818880187905652\t score=0.9884798138365418\n",
      "\n",
      "Epoch 72/100: 100%|██████████| 554/554 [01:20<00:00,  6.89it/s, f_score=0.988, lr=8.94e-5, total_loss=0.0168, train_background=0.982]\n",
      "Epoch 72/100:   0%|          | 0/184 [00:00<?, ?it/s<class 'dict'>]"
     ]
    },
    {
     "name": "stdout",
     "output_type": "stream",
     "text": [
      "Start Validation\n"
     ]
    },
    {
     "name": "stderr",
     "output_type": "stream",
     "text": [
      "Epoch 72/100:  99%|█████████▉| 183/184 [00:09<00:00, 21.32it/s, f_score=0.943, lr=8.94e-5, total_loss=0.114, val_background=0.909][2022-12-01 10:43:16,801][train.py][line:245][INFO] Epoch:[72/100]\t iteration:184 val loss=0.11399324\t val dice=0.94252369\t lr=0.00008944\n",
      "[2022-12-01 10:43:16,803][train.py][line:250][INFO] val stroke=0.9761668479313022\t background=0.9088805311399958\t score=0.9425238370895386\n",
      "\n",
      "Epoch 72/100: 100%|██████████| 184/184 [00:09<00:00, 20.07it/s, f_score=0.943, lr=8.94e-5, total_loss=0.114, val_background=0.909]\n"
     ]
    },
    {
     "name": "stdout",
     "output_type": "stream",
     "text": [
      "Finish Validation\n",
      "Epoch:72/100\n",
      "Total Loss: 0.0167\n",
      "Saving state, iter: 72\n"
     ]
    },
    {
     "name": "stderr",
     "output_type": "stream",
     "text": [
      "Epoch 73/100: 100%|██████████| 554/554 [01:20<00:00,  7.00it/s, f_score=0.987, lr=8.64e-5, total_loss=0.0186, train_background=0.98] [2022-12-01 10:44:37,910][train.py][line:153][INFO] Epoch:[73/100]\t train loss=0.01862148\t train dice=0.98730938\t lr=0.00008638\n",
      "\n",
      "[2022-12-01 10:44:37,913][train.py][line:154][INFO] train score=0.9873090982437134\n",
      "\n",
      "[2022-12-01 10:44:37,914][train.py][line:158][INFO] train stroke=0.9945633599689291\t background=0.9800554068510283\t score=0.9873093840017215\n",
      "\n",
      "Epoch 73/100: 100%|██████████| 554/554 [01:20<00:00,  6.86it/s, f_score=0.987, lr=8.64e-5, total_loss=0.0186, train_background=0.98]\n",
      "Epoch 73/100:   0%|          | 0/184 [00:00<?, ?it/s<class 'dict'>]"
     ]
    },
    {
     "name": "stdout",
     "output_type": "stream",
     "text": [
      "Start Validation\n"
     ]
    },
    {
     "name": "stderr",
     "output_type": "stream",
     "text": [
      "Epoch 73/100:  99%|█████████▉| 183/184 [00:08<00:00, 21.40it/s, f_score=0.942, lr=8.64e-5, total_loss=0.118, val_background=0.908][2022-12-01 10:44:47,030][train.py][line:245][INFO] Epoch:[73/100]\t iteration:184 val loss=0.11771055\t val dice=0.94190163\t lr=0.00008638\n",
      "[2022-12-01 10:44:47,032][train.py][line:250][INFO] val stroke=0.9759016866269319\t background=0.9079015714966733\t score=0.941901683807373\n",
      "\n",
      "Epoch 73/100: 100%|██████████| 184/184 [00:09<00:00, 20.20it/s, f_score=0.942, lr=8.64e-5, total_loss=0.118, val_background=0.908]\n"
     ]
    },
    {
     "name": "stdout",
     "output_type": "stream",
     "text": [
      "Finish Validation\n",
      "Epoch:73/100\n",
      "Total Loss: 0.0186\n",
      "Saving state, iter: 73\n"
     ]
    },
    {
     "name": "stderr",
     "output_type": "stream",
     "text": [
      "Epoch 74/100: 100%|█████████▉| 553/554 [01:20<00:00,  7.06it/s, f_score=0.988, lr=8.3e-5, total_loss=0.0181, train_background=0.981][2022-12-01 10:46:07,856][train.py][line:153][INFO] Epoch:[74/100]\t train loss=0.01808248\t train dice=0.98769262\t lr=0.00008300\n",
      "\n",
      "[2022-12-01 10:46:07,859][train.py][line:154][INFO] train score=0.9876923561096191\n",
      "\n",
      "[2022-12-01 10:46:07,860][train.py][line:158][INFO] train stroke=0.9947298270270282\t background=0.9806554076473636\t score=0.9876926174447855\n",
      "\n",
      "Epoch 74/100: 100%|██████████| 554/554 [01:20<00:00,  6.89it/s, f_score=0.988, lr=8.3e-5, total_loss=0.0181, train_background=0.981]\n",
      "Epoch 74/100:   0%|          | 0/184 [00:00<?, ?it/s<class 'dict'>]"
     ]
    },
    {
     "name": "stdout",
     "output_type": "stream",
     "text": [
      "Start Validation\n"
     ]
    },
    {
     "name": "stderr",
     "output_type": "stream",
     "text": [
      "Epoch 74/100:  99%|█████████▉| 183/184 [00:09<00:00, 21.26it/s, f_score=0.942, lr=8.3e-5, total_loss=0.118, val_background=0.908][2022-12-01 10:46:17,005][train.py][line:245][INFO] Epoch:[74/100]\t iteration:184 val loss=0.11767136\t val dice=0.94219751\t lr=0.00008300\n",
      "[2022-12-01 10:46:17,008][train.py][line:250][INFO] val stroke=0.9760659959005273\t background=0.9083290336572606\t score=0.9421976804733276\n",
      "\n",
      "Epoch 74/100: 100%|██████████| 184/184 [00:09<00:00, 20.13it/s, f_score=0.942, lr=8.3e-5, total_loss=0.118, val_background=0.908]\n"
     ]
    },
    {
     "name": "stdout",
     "output_type": "stream",
     "text": [
      "Finish Validation\n",
      "Epoch:74/100\n",
      "Total Loss: 0.0180\n",
      "Saving state, iter: 74\n"
     ]
    },
    {
     "name": "stderr",
     "output_type": "stream",
     "text": [
      "Epoch 75/100: 100%|█████████▉| 553/554 [01:20<00:00,  6.61it/s, f_score=0.989, lr=7.93e-5, total_loss=0.0154, train_background=0.983][2022-12-01 10:47:38,464][train.py][line:153][INFO] Epoch:[75/100]\t train loss=0.01535402\t train dice=0.98945051\t lr=0.00007933\n",
      "\n",
      "[2022-12-01 10:47:38,467][train.py][line:154][INFO] train score=0.9894503951072693\n",
      "\n",
      "[2022-12-01 10:47:38,468][train.py][line:158][INFO] train stroke=0.99548633402005\t background=0.9834146919233274\t score=0.9894505132406627\n",
      "\n",
      "Epoch 75/100: 100%|██████████| 554/554 [01:21<00:00,  6.83it/s, f_score=0.989, lr=7.93e-5, total_loss=0.0154, train_background=0.983]\n",
      "Epoch 75/100:   0%|          | 0/184 [00:00<?, ?it/s<class 'dict'>]"
     ]
    },
    {
     "name": "stdout",
     "output_type": "stream",
     "text": [
      "Start Validation\n"
     ]
    },
    {
     "name": "stderr",
     "output_type": "stream",
     "text": [
      "Epoch 75/100:  99%|█████████▉| 183/184 [00:09<00:00, 21.25it/s, f_score=0.942, lr=7.93e-5, total_loss=0.12, val_background=0.908] [2022-12-01 10:47:47,618][train.py][line:245][INFO] Epoch:[75/100]\t iteration:184 val loss=0.12044748\t val dice=0.94201970\t lr=0.00007933\n",
      "[2022-12-01 10:47:47,620][train.py][line:250][INFO] val stroke=0.9761973185383755\t background=0.9078420860611874\t score=0.942019522190094\n",
      "\n",
      "Epoch 75/100: 100%|██████████| 184/184 [00:09<00:00, 20.12it/s, f_score=0.942, lr=7.93e-5, total_loss=0.12, val_background=0.908]\n"
     ]
    },
    {
     "name": "stdout",
     "output_type": "stream",
     "text": [
      "Finish Validation\n",
      "Epoch:75/100\n",
      "Total Loss: 0.0153\n",
      "Saving state, iter: 75\n"
     ]
    },
    {
     "name": "stderr",
     "output_type": "stream",
     "text": [
      "Epoch 76/100: 100%|█████████▉| 553/554 [01:20<00:00,  6.98it/s, f_score=0.99, lr=7.54e-5, total_loss=0.0152, train_background=0.984] [2022-12-01 10:49:09,098][train.py][line:153][INFO] Epoch:[76/100]\t train loss=0.01522377\t train dice=0.98955236\t lr=0.00007542\n",
      "\n",
      "[2022-12-01 10:49:09,102][train.py][line:154][INFO] train score=0.98955237865448\n",
      "\n",
      "[2022-12-01 10:49:09,103][train.py][line:158][INFO] train stroke=0.9955394647827217\t background=0.9835652584203314\t score=0.9895523621932695\n",
      "\n",
      "Epoch 76/100: 100%|██████████| 554/554 [01:21<00:00,  6.83it/s, f_score=0.99, lr=7.54e-5, total_loss=0.0152, train_background=0.984]\n",
      "Epoch 76/100:   0%|          | 0/184 [00:00<?, ?it/s<class 'dict'>]"
     ]
    },
    {
     "name": "stdout",
     "output_type": "stream",
     "text": [
      "Start Validation\n"
     ]
    },
    {
     "name": "stderr",
     "output_type": "stream",
     "text": [
      "Epoch 76/100:  99%|█████████▉| 183/184 [00:09<00:00, 21.25it/s, f_score=0.943, lr=7.54e-5, total_loss=0.118, val_background=0.909][2022-12-01 10:49:18,243][train.py][line:245][INFO] Epoch:[76/100]\t iteration:184 val loss=0.11783195\t val dice=0.94257002\t lr=0.00007542\n",
      "[2022-12-01 10:49:18,247][train.py][line:250][INFO] val stroke=0.9763512867300407\t background=0.9087887636345365\t score=0.9425700902938843\n",
      "\n",
      "Epoch 76/100: 100%|██████████| 184/184 [00:09<00:00, 20.14it/s, f_score=0.943, lr=7.54e-5, total_loss=0.118, val_background=0.909]\n"
     ]
    },
    {
     "name": "stdout",
     "output_type": "stream",
     "text": [
      "Finish Validation\n",
      "Epoch:76/100\n",
      "Total Loss: 0.0152\n",
      "Saving state, iter: 76\n"
     ]
    },
    {
     "name": "stderr",
     "output_type": "stream",
     "text": [
      "Epoch 77/100: 100%|█████████▉| 553/554 [01:20<00:00,  6.97it/s, f_score=0.989, lr=7.13e-5, total_loss=0.0167, train_background=0.982][2022-12-01 10:50:39,585][train.py][line:153][INFO] Epoch:[77/100]\t train loss=0.01674810\t train dice=0.98852551\t lr=0.00007129\n",
      "\n",
      "[2022-12-01 10:50:39,589][train.py][line:154][INFO] train score=0.9885255098342896\n",
      "\n",
      "[2022-12-01 10:50:39,590][train.py][line:158][INFO] train stroke=0.9951022067224936\t background=0.9819488180027972\t score=0.9885255119860817\n",
      "\n",
      "Epoch 77/100: 100%|██████████| 554/554 [01:20<00:00,  6.84it/s, f_score=0.989, lr=7.13e-5, total_loss=0.0167, train_background=0.982]\n",
      "Epoch 77/100:   0%|          | 0/184 [00:00<?, ?it/s<class 'dict'>]"
     ]
    },
    {
     "name": "stdout",
     "output_type": "stream",
     "text": [
      "Start Validation\n"
     ]
    },
    {
     "name": "stderr",
     "output_type": "stream",
     "text": [
      "Epoch 77/100:  99%|█████████▉| 183/184 [00:09<00:00, 21.19it/s, f_score=0.942, lr=7.13e-5, total_loss=0.118, val_background=0.908][2022-12-01 10:50:48,756][train.py][line:245][INFO] Epoch:[77/100]\t iteration:184 val loss=0.11825954\t val dice=0.94188530\t lr=0.00007129\n",
      "[2022-12-01 10:50:48,758][train.py][line:250][INFO] val stroke=0.9759905837152315\t background=0.9077800055560858\t score=0.9418851733207703\n",
      "\n",
      "Epoch 77/100: 100%|██████████| 184/184 [00:09<00:00, 20.09it/s, f_score=0.942, lr=7.13e-5, total_loss=0.118, val_background=0.908]\n"
     ]
    },
    {
     "name": "stdout",
     "output_type": "stream",
     "text": [
      "Finish Validation\n",
      "Epoch:77/100\n",
      "Total Loss: 0.0167\n",
      "Saving state, iter: 77\n"
     ]
    },
    {
     "name": "stderr",
     "output_type": "stream",
     "text": [
      "Epoch 78/100: 100%|█████████▉| 553/554 [01:20<00:00,  6.91it/s, f_score=0.989, lr=6.7e-5, total_loss=0.0155, train_background=0.983][2022-12-01 10:52:09,976][train.py][line:153][INFO] Epoch:[78/100]\t train loss=0.01547578\t train dice=0.98938810\t lr=0.00006700\n",
      "\n",
      "[2022-12-01 10:52:09,979][train.py][line:154][INFO] train score=0.9893882274627686\n",
      "\n",
      "[2022-12-01 10:52:09,980][train.py][line:158][INFO] train stroke=0.995448682712734\t background=0.9833275115231744\t score=0.9893880958806737\n",
      "\n",
      "Epoch 78/100: 100%|██████████| 554/554 [01:20<00:00,  6.85it/s, f_score=0.989, lr=6.7e-5, total_loss=0.0155, train_background=0.983]\n",
      "Epoch 78/100:   0%|          | 0/184 [00:00<?, ?it/s<class 'dict'>]"
     ]
    },
    {
     "name": "stdout",
     "output_type": "stream",
     "text": [
      "Start Validation\n"
     ]
    },
    {
     "name": "stderr",
     "output_type": "stream",
     "text": [
      "Epoch 78/100:  99%|█████████▉| 183/184 [00:09<00:00, 21.40it/s, f_score=0.942, lr=6.7e-5, total_loss=0.119, val_background=0.908][2022-12-01 10:52:19,127][train.py][line:245][INFO] Epoch:[78/100]\t iteration:184 val loss=0.11930604\t val dice=0.94203306\t lr=0.00006700\n",
      "[2022-12-01 10:52:19,130][train.py][line:250][INFO] val stroke=0.9758528658877248\t background=0.9082132470996483\t score=0.942033052444458\n",
      "\n",
      "Epoch 78/100: 100%|██████████| 184/184 [00:09<00:00, 20.13it/s, f_score=0.942, lr=6.7e-5, total_loss=0.119, val_background=0.908]\n"
     ]
    },
    {
     "name": "stdout",
     "output_type": "stream",
     "text": [
      "Finish Validation\n",
      "Epoch:78/100\n",
      "Total Loss: 0.0154\n",
      "Saving state, iter: 78\n"
     ]
    },
    {
     "name": "stderr",
     "output_type": "stream",
     "text": [
      "Epoch 79/100: 100%|██████████| 554/554 [01:20<00:00,  6.97it/s, f_score=0.99, lr=6.26e-5, total_loss=0.015, train_background=0.984]  [2022-12-01 10:53:40,518][train.py][line:153][INFO] Epoch:[79/100]\t train loss=0.01504156\t train dice=0.98973649\t lr=0.00006257\n",
      "\n",
      "[2022-12-01 10:53:40,520][train.py][line:154][INFO] train score=0.9897366166114807\n",
      "\n",
      "[2022-12-01 10:53:40,521][train.py][line:158][INFO] train stroke=0.9956017138725584\t background=0.9838712718942966\t score=0.9897364929910171\n",
      "\n",
      "Epoch 79/100: 100%|██████████| 554/554 [01:21<00:00,  6.84it/s, f_score=0.99, lr=6.26e-5, total_loss=0.015, train_background=0.984]\n",
      "Epoch 79/100:   0%|          | 0/184 [00:00<?, ?it/s<class 'dict'>]"
     ]
    },
    {
     "name": "stdout",
     "output_type": "stream",
     "text": [
      "Start Validation\n"
     ]
    },
    {
     "name": "stderr",
     "output_type": "stream",
     "text": [
      "Epoch 79/100:  99%|█████████▉| 183/184 [00:09<00:00, 21.31it/s, f_score=0.942, lr=6.26e-5, total_loss=0.119, val_background=0.907][2022-12-01 10:53:49,682][train.py][line:245][INFO] Epoch:[79/100]\t iteration:184 val loss=0.11914818\t val dice=0.94155674\t lr=0.00006257\n",
      "[2022-12-01 10:53:49,684][train.py][line:250][INFO] val stroke=0.9757484123110771\t background=0.9073650772156923\t score=0.9415568113327026\n",
      "\n",
      "Epoch 79/100: 100%|██████████| 184/184 [00:09<00:00, 20.10it/s, f_score=0.942, lr=6.26e-5, total_loss=0.119, val_background=0.907]\n"
     ]
    },
    {
     "name": "stdout",
     "output_type": "stream",
     "text": [
      "Finish Validation\n",
      "Epoch:79/100\n",
      "Total Loss: 0.0150\n",
      "Saving state, iter: 79\n"
     ]
    },
    {
     "name": "stderr",
     "output_type": "stream",
     "text": [
      "Epoch 80/100: 100%|██████████| 554/554 [01:20<00:00,  6.61it/s, f_score=0.99, lr=5.81e-5, total_loss=0.0139, train_background=0.985] [2022-12-01 10:55:11,080][train.py][line:153][INFO] Epoch:[80/100]\t train loss=0.01391151\t train dice=0.99049935\t lr=0.00005806\n",
      "\n",
      "[2022-12-01 10:55:11,083][train.py][line:154][INFO] train score=0.9904993176460266\n",
      "\n",
      "[2022-12-01 10:55:11,084][train.py][line:158][INFO] train stroke=0.9959442235717705\t background=0.9850544658378574\t score=0.990499345511736\n",
      "\n",
      "Epoch 80/100: 100%|██████████| 554/554 [01:21<00:00,  6.84it/s, f_score=0.99, lr=5.81e-5, total_loss=0.0139, train_background=0.985]\n",
      "Epoch 80/100:   0%|          | 0/184 [00:00<?, ?it/s<class 'dict'>]"
     ]
    },
    {
     "name": "stdout",
     "output_type": "stream",
     "text": [
      "Start Validation\n"
     ]
    },
    {
     "name": "stderr",
     "output_type": "stream",
     "text": [
      "Epoch 80/100:  99%|█████████▉| 183/184 [00:09<00:00, 21.29it/s, f_score=0.943, lr=5.81e-5, total_loss=0.124, val_background=0.909][2022-12-01 10:55:20,251][train.py][line:245][INFO] Epoch:[80/100]\t iteration:184 val loss=0.12394080\t val dice=0.94260682\t lr=0.00005806\n",
      "[2022-12-01 10:55:20,253][train.py][line:250][INFO] val stroke=0.9762903302907944\t background=0.9089233084865238\t score=0.9426069855690002\n",
      "\n",
      "Epoch 80/100: 100%|██████████| 184/184 [00:09<00:00, 20.08it/s, f_score=0.943, lr=5.81e-5, total_loss=0.124, val_background=0.909]\n"
     ]
    },
    {
     "name": "stdout",
     "output_type": "stream",
     "text": [
      "Finish Validation\n",
      "Epoch:80/100\n",
      "Total Loss: 0.0139\n",
      "Saving state, iter: 80\n"
     ]
    },
    {
     "name": "stderr",
     "output_type": "stream",
     "text": [
      "Epoch 81/100: 100%|█████████▉| 553/554 [01:20<00:00,  7.07it/s, f_score=0.991, lr=5.35e-5, total_loss=0.013, train_background=0.986] [2022-12-01 10:56:40,833][train.py][line:153][INFO] Epoch:[81/100]\t train loss=0.01303238\t train dice=0.99106673\t lr=0.00005350\n",
      "\n",
      "[2022-12-01 10:56:40,835][train.py][line:154][INFO] train score=0.9910666942596436\n",
      "\n",
      "[2022-12-01 10:56:40,835][train.py][line:158][INFO] train stroke=0.9961955658150063\t background=0.9859378994156738\t score=0.9910667333146725\n",
      "\n",
      "Epoch 81/100: 100%|██████████| 554/554 [01:20<00:00,  6.91it/s, f_score=0.991, lr=5.35e-5, total_loss=0.013, train_background=0.986]\n",
      "Epoch 81/100:   0%|          | 0/184 [00:00<?, ?it/s<class 'dict'>]"
     ]
    },
    {
     "name": "stdout",
     "output_type": "stream",
     "text": [
      "Start Validation\n"
     ]
    },
    {
     "name": "stderr",
     "output_type": "stream",
     "text": [
      "Epoch 81/100:  99%|█████████▉| 183/184 [00:09<00:00, 21.30it/s, f_score=0.942, lr=5.35e-5, total_loss=0.126, val_background=0.908][2022-12-01 10:56:49,969][train.py][line:245][INFO] Epoch:[81/100]\t iteration:184 val loss=0.12550557\t val dice=0.94207650\t lr=0.00005350\n",
      "[2022-12-01 10:56:49,972][train.py][line:250][INFO] val stroke=0.9761113955274873\t background=0.908041601271733\t score=0.9420763850212097\n",
      "\n",
      "Epoch 81/100: 100%|██████████| 184/184 [00:09<00:00, 20.16it/s, f_score=0.942, lr=5.35e-5, total_loss=0.126, val_background=0.908]\n"
     ]
    },
    {
     "name": "stdout",
     "output_type": "stream",
     "text": [
      "Finish Validation\n",
      "Epoch:81/100\n",
      "Total Loss: 0.0130\n",
      "Saving state, iter: 81\n"
     ]
    },
    {
     "name": "stderr",
     "output_type": "stream",
     "text": [
      "Epoch 82/100: 100%|█████████▉| 553/554 [01:20<00:00,  6.91it/s, f_score=0.992, lr=4.89e-5, total_loss=0.0124, train_background=0.987][2022-12-01 10:58:11,036][train.py][line:153][INFO] Epoch:[82/100]\t train loss=0.01236043\t train dice=0.99153258\t lr=0.00004894\n",
      "\n",
      "[2022-12-01 10:58:11,038][train.py][line:154][INFO] train score=0.9915326237678528\n",
      "\n",
      "[2022-12-01 10:58:11,039][train.py][line:158][INFO] train stroke=0.9963845459993135\t background=0.9866806172937262\t score=0.9915325806244185\n",
      "\n",
      "Epoch 82/100: 100%|██████████| 554/554 [01:20<00:00,  6.86it/s, f_score=0.992, lr=4.89e-5, total_loss=0.0124, train_background=0.987]\n",
      "Epoch 82/100:   0%|          | 0/184 [00:00<?, ?it/s<class 'dict'>]"
     ]
    },
    {
     "name": "stdout",
     "output_type": "stream",
     "text": [
      "Start Validation\n"
     ]
    },
    {
     "name": "stderr",
     "output_type": "stream",
     "text": [
      "Epoch 82/100:  99%|█████████▉| 183/184 [00:09<00:00, 21.28it/s, f_score=0.942, lr=4.89e-5, total_loss=0.128, val_background=0.908][2022-12-01 10:58:20,177][train.py][line:245][INFO] Epoch:[82/100]\t iteration:184 val loss=0.12772673\t val dice=0.94209957\t lr=0.00004894\n",
      "[2022-12-01 10:58:20,179][train.py][line:250][INFO] val stroke=0.9759364008255627\t background=0.9082627332080966\t score=0.9420998692512512\n",
      "\n",
      "Epoch 82/100: 100%|██████████| 184/184 [00:09<00:00, 20.14it/s, f_score=0.942, lr=4.89e-5, total_loss=0.128, val_background=0.908]\n"
     ]
    },
    {
     "name": "stdout",
     "output_type": "stream",
     "text": [
      "Finish Validation\n",
      "Epoch:82/100\n",
      "Total Loss: 0.0123\n",
      "Saving state, iter: 82\n"
     ]
    },
    {
     "name": "stderr",
     "output_type": "stream",
     "text": [
      "Epoch 83/100: 100%|█████████▉| 553/554 [01:20<00:00,  7.05it/s, f_score=0.991, lr=4.44e-5, total_loss=0.0125, train_background=0.987][2022-12-01 10:59:41,203][train.py][line:153][INFO] Epoch:[83/100]\t train loss=0.01245832\t train dice=0.99148909\t lr=0.00004443\n",
      "\n",
      "[2022-12-01 10:59:41,205][train.py][line:154][INFO] train score=0.9914887547492981\n",
      "\n",
      "[2022-12-01 10:59:41,206][train.py][line:158][INFO] train stroke=0.9963621228180207\t background=0.9866160535209876\t score=0.9914890878467353\n",
      "\n",
      "Epoch 83/100: 100%|██████████| 554/554 [01:20<00:00,  6.87it/s, f_score=0.991, lr=4.44e-5, total_loss=0.0125, train_background=0.987]\n",
      "Epoch 83/100:   0%|          | 0/184 [00:00<?, ?it/s<class 'dict'>]"
     ]
    },
    {
     "name": "stdout",
     "output_type": "stream",
     "text": [
      "Start Validation\n"
     ]
    },
    {
     "name": "stderr",
     "output_type": "stream",
     "text": [
      "Epoch 83/100:  99%|█████████▉| 183/184 [00:09<00:00, 21.16it/s, f_score=0.942, lr=4.44e-5, total_loss=0.127, val_background=0.908][2022-12-01 10:59:50,341][train.py][line:245][INFO] Epoch:[83/100]\t iteration:184 val loss=0.12654253\t val dice=0.94193877\t lr=0.00004443\n",
      "[2022-12-01 10:59:50,343][train.py][line:250][INFO] val stroke=0.9760964788172556\t background=0.9077810518767523\t score=0.9419391751289368\n",
      "\n",
      "Epoch 83/100: 100%|██████████| 184/184 [00:09<00:00, 20.15it/s, f_score=0.942, lr=4.44e-5, total_loss=0.127, val_background=0.908]\n"
     ]
    },
    {
     "name": "stdout",
     "output_type": "stream",
     "text": [
      "Finish Validation\n",
      "Epoch:83/100\n",
      "Total Loss: 0.0124\n",
      "Saving state, iter: 83\n"
     ]
    },
    {
     "name": "stderr",
     "output_type": "stream",
     "text": [
      "Epoch 84/100: 100%|█████████▉| 553/554 [01:20<00:00,  7.07it/s, f_score=0.992, lr=4e-5, total_loss=0.012, train_background=0.987] [2022-12-01 11:01:11,189][train.py][line:153][INFO] Epoch:[84/100]\t train loss=0.01196393\t train dice=0.99183646\t lr=0.00004000\n",
      "\n",
      "[2022-12-01 11:01:11,192][train.py][line:154][INFO] train score=0.9918359518051147\n",
      "\n",
      "[2022-12-01 11:01:11,192][train.py][line:158][INFO] train stroke=0.9965139413353338\t background=0.987158981040927\t score=0.9918364618874629\n",
      "\n",
      "Epoch 84/100: 100%|██████████| 554/554 [01:20<00:00,  6.88it/s, f_score=0.992, lr=4e-5, total_loss=0.012, train_background=0.987]\n",
      "Epoch 84/100:   0%|          | 0/184 [00:00<?, ?it/s<class 'dict'>]"
     ]
    },
    {
     "name": "stdout",
     "output_type": "stream",
     "text": [
      "Start Validation\n"
     ]
    },
    {
     "name": "stderr",
     "output_type": "stream",
     "text": [
      "Epoch 84/100:  99%|█████████▉| 183/184 [00:09<00:00, 21.23it/s, f_score=0.942, lr=4e-5, total_loss=0.127, val_background=0.908][2022-12-01 11:01:20,336][train.py][line:245][INFO] Epoch:[84/100]\t iteration:184 val loss=0.12731847\t val dice=0.94212157\t lr=0.00004000\n",
      "[2022-12-01 11:01:20,339][train.py][line:250][INFO] val stroke=0.9760448968280917\t background=0.9081982328839924\t score=0.9421218633651733\n",
      "\n",
      "Epoch 84/100: 100%|██████████| 184/184 [00:09<00:00, 20.13it/s, f_score=0.942, lr=4e-5, total_loss=0.127, val_background=0.908]\n"
     ]
    },
    {
     "name": "stdout",
     "output_type": "stream",
     "text": [
      "Finish Validation\n",
      "Epoch:84/100\n",
      "Total Loss: 0.0119\n",
      "Saving state, iter: 84\n"
     ]
    },
    {
     "name": "stderr",
     "output_type": "stream",
     "text": [
      "Epoch 85/100: 100%|██████████| 554/554 [01:21<00:00,  7.10it/s, f_score=0.992, lr=3.57e-5, total_loss=0.0111, train_background=0.988][2022-12-01 11:02:42,589][train.py][line:153][INFO] Epoch:[85/100]\t train loss=0.01113119\t train dice=0.99238791\t lr=0.00003571\n",
      "\n",
      "[2022-12-01 11:02:42,591][train.py][line:154][INFO] train score=0.9923877716064453\n",
      "\n",
      "[2022-12-01 11:02:42,592][train.py][line:158][INFO] train stroke=0.9967491313653732\t background=0.9880266752268864\t score=0.9923879052327428\n",
      "\n",
      "Epoch 85/100: 100%|██████████| 554/554 [01:21<00:00,  6.77it/s, f_score=0.992, lr=3.57e-5, total_loss=0.0111, train_background=0.988]\n",
      "Epoch 85/100:   0%|          | 0/184 [00:00<?, ?it/s<class 'dict'>]"
     ]
    },
    {
     "name": "stdout",
     "output_type": "stream",
     "text": [
      "Start Validation\n"
     ]
    },
    {
     "name": "stderr",
     "output_type": "stream",
     "text": [
      "Epoch 85/100:  99%|█████████▉| 183/184 [00:09<00:00, 21.34it/s, f_score=0.942, lr=3.57e-5, total_loss=0.13, val_background=0.908] [2022-12-01 11:02:51,742][train.py][line:245][INFO] Epoch:[85/100]\t iteration:184 val loss=0.12972097\t val dice=0.94227815\t lr=0.00003571\n",
      "[2022-12-01 11:02:51,745][train.py][line:250][INFO] val stroke=0.9761891290545464\t background=0.9083671731793362\t score=0.942278265953064\n",
      "\n",
      "Epoch 85/100: 100%|██████████| 184/184 [00:09<00:00, 20.12it/s, f_score=0.942, lr=3.57e-5, total_loss=0.13, val_background=0.908]\n"
     ]
    },
    {
     "name": "stdout",
     "output_type": "stream",
     "text": [
      "Finish Validation\n",
      "Epoch:85/100\n",
      "Total Loss: 0.0111\n",
      "Saving state, iter: 85\n"
     ]
    },
    {
     "name": "stderr",
     "output_type": "stream",
     "text": [
      "Epoch 86/100: 100%|█████████▉| 553/554 [01:20<00:00,  7.21it/s, f_score=0.993, lr=3.16e-5, total_loss=0.0107, train_background=0.989][2022-12-01 11:04:12,287][train.py][line:153][INFO] Epoch:[86/100]\t train loss=0.01066779\t train dice=0.99274141\t lr=0.00003158\n",
      "\n",
      "[2022-12-01 11:04:12,289][train.py][line:154][INFO] train score=0.9927416443824768\n",
      "\n",
      "[2022-12-01 11:04:12,291][train.py][line:158][INFO] train stroke=0.9968935338383548\t background=0.9885892837916901\t score=0.992741409191586\n",
      "\n",
      "Epoch 86/100: 100%|██████████| 554/554 [01:20<00:00,  6.91it/s, f_score=0.993, lr=3.16e-5, total_loss=0.0107, train_background=0.989]\n",
      "Epoch 86/100:   0%|          | 0/184 [00:00<?, ?it/s<class 'dict'>]"
     ]
    },
    {
     "name": "stdout",
     "output_type": "stream",
     "text": [
      "Start Validation\n"
     ]
    },
    {
     "name": "stderr",
     "output_type": "stream",
     "text": [
      "Epoch 86/100:  99%|█████████▉| 183/184 [00:08<00:00, 21.39it/s, f_score=0.941, lr=3.16e-5, total_loss=0.134, val_background=0.907][2022-12-01 11:04:21,384][train.py][line:245][INFO] Epoch:[86/100]\t iteration:184 val loss=0.13429017\t val dice=0.94142967\t lr=0.00003158\n",
      "[2022-12-01 11:04:21,386][train.py][line:250][INFO] val stroke=0.9756353309620982\t background=0.9072240121338678\t score=0.9414294958114624\n",
      "\n",
      "Epoch 86/100: 100%|██████████| 184/184 [00:09<00:00, 20.25it/s, f_score=0.941, lr=3.16e-5, total_loss=0.134, val_background=0.907]\n"
     ]
    },
    {
     "name": "stdout",
     "output_type": "stream",
     "text": [
      "Finish Validation\n",
      "Epoch:86/100\n",
      "Total Loss: 0.0106\n",
      "Saving state, iter: 86\n"
     ]
    },
    {
     "name": "stderr",
     "output_type": "stream",
     "text": [
      "Epoch 87/100: 100%|█████████▉| 553/554 [01:20<00:00,  6.97it/s, f_score=0.993, lr=2.77e-5, total_loss=0.0106, train_background=0.989][2022-12-01 11:05:42,566][train.py][line:153][INFO] Epoch:[87/100]\t train loss=0.01062843\t train dice=0.99277408\t lr=0.00002767\n",
      "\n",
      "[2022-12-01 11:05:42,569][train.py][line:154][INFO] train score=0.9927741289138794\n",
      "\n",
      "[2022-12-01 11:05:42,570][train.py][line:158][INFO] train stroke=0.9969190562459966\t background=0.9886290974350183\t score=0.9927740771632763\n",
      "\n",
      "Epoch 87/100: 100%|██████████| 554/554 [01:20<00:00,  6.85it/s, f_score=0.993, lr=2.77e-5, total_loss=0.0106, train_background=0.989]\n",
      "Epoch 87/100:   0%|          | 0/184 [00:00<?, ?it/s<class 'dict'>]"
     ]
    },
    {
     "name": "stdout",
     "output_type": "stream",
     "text": [
      "Start Validation\n"
     ]
    },
    {
     "name": "stderr",
     "output_type": "stream",
     "text": [
      "Epoch 87/100:  99%|█████████▉| 183/184 [00:09<00:00, 21.43it/s, f_score=0.942, lr=2.77e-5, total_loss=0.132, val_background=0.908][2022-12-01 11:05:51,725][train.py][line:245][INFO] Epoch:[87/100]\t iteration:184 val loss=0.13161404\t val dice=0.94196290\t lr=0.00002767\n",
      "[2022-12-01 11:05:51,727][train.py][line:250][INFO] val stroke=0.9760191090728926\t background=0.9079066890737285\t score=0.9419630765914917\n",
      "\n",
      "Epoch 87/100: 100%|██████████| 184/184 [00:09<00:00, 20.11it/s, f_score=0.942, lr=2.77e-5, total_loss=0.132, val_background=0.908]\n"
     ]
    },
    {
     "name": "stdout",
     "output_type": "stream",
     "text": [
      "Finish Validation\n",
      "Epoch:87/100\n",
      "Total Loss: 0.0106\n",
      "Saving state, iter: 87\n"
     ]
    },
    {
     "name": "stderr",
     "output_type": "stream",
     "text": [
      "Epoch 88/100: 100%|█████████▉| 553/554 [01:20<00:00,  7.08it/s, f_score=0.993, lr=2.4e-5, total_loss=0.0103, train_background=0.989][2022-12-01 11:07:12,636][train.py][line:153][INFO] Epoch:[88/100]\t train loss=0.01027943\t train dice=0.99300227\t lr=0.00002400\n",
      "\n",
      "[2022-12-01 11:07:12,639][train.py][line:154][INFO] train score=0.9930019974708557\n",
      "\n",
      "[2022-12-01 11:07:12,640][train.py][line:158][INFO] train stroke=0.9970143916159331\t background=0.9889901500961841\t score=0.993002269349804\n",
      "\n",
      "Epoch 88/100: 100%|██████████| 554/554 [01:20<00:00,  6.88it/s, f_score=0.993, lr=2.4e-5, total_loss=0.0103, train_background=0.989]\n",
      "Epoch 88/100:   0%|          | 0/184 [00:00<?, ?it/s<class 'dict'>]"
     ]
    },
    {
     "name": "stdout",
     "output_type": "stream",
     "text": [
      "Start Validation\n"
     ]
    },
    {
     "name": "stderr",
     "output_type": "stream",
     "text": [
      "Epoch 88/100:  99%|█████████▉| 183/184 [00:09<00:00, 21.41it/s, f_score=0.942, lr=2.4e-5, total_loss=0.134, val_background=0.908][2022-12-01 11:07:21,803][train.py][line:245][INFO] Epoch:[88/100]\t iteration:184 val loss=0.13353534\t val dice=0.94194610\t lr=0.00002400\n",
      "[2022-12-01 11:07:21,806][train.py][line:250][INFO] val stroke=0.9760332525424336\t background=0.9078589544995971\t score=0.9419462084770203\n",
      "\n",
      "Epoch 88/100: 100%|██████████| 184/184 [00:09<00:00, 20.09it/s, f_score=0.942, lr=2.4e-5, total_loss=0.134, val_background=0.908]\n"
     ]
    },
    {
     "name": "stdout",
     "output_type": "stream",
     "text": [
      "Finish Validation\n",
      "Epoch:88/100\n",
      "Total Loss: 0.0103\n",
      "Saving state, iter: 88\n"
     ]
    },
    {
     "name": "stderr",
     "output_type": "stream",
     "text": [
      "Epoch 89/100: 100%|██████████| 554/554 [01:20<00:00,  6.67it/s, f_score=0.993, lr=2.06e-5, total_loss=0.00977, train_background=0.99] [2022-12-01 11:08:42,883][train.py][line:153][INFO] Epoch:[89/100]\t train loss=0.00976703\t train dice=0.99336252\t lr=0.00002062\n",
      "\n",
      "[2022-12-01 11:08:42,885][train.py][line:154][INFO] train score=0.9933627843856812\n",
      "\n",
      "[2022-12-01 11:08:42,886][train.py][line:158][INFO] train stroke=0.9971734891084127\t background=0.9895515452653493\t score=0.9933625159496005\n",
      "\n",
      "Epoch 89/100: 100%|██████████| 554/554 [01:20<00:00,  6.86it/s, f_score=0.993, lr=2.06e-5, total_loss=0.00977, train_background=0.99]\n",
      "Epoch 89/100:   0%|          | 0/184 [00:00<?, ?it/s<class 'dict'>]"
     ]
    },
    {
     "name": "stdout",
     "output_type": "stream",
     "text": [
      "Start Validation\n"
     ]
    },
    {
     "name": "stderr",
     "output_type": "stream",
     "text": [
      "Epoch 89/100:  99%|█████████▉| 183/184 [00:09<00:00, 21.43it/s, f_score=0.942, lr=2.06e-5, total_loss=0.139, val_background=0.908][2022-12-01 11:08:52,020][train.py][line:245][INFO] Epoch:[89/100]\t iteration:184 val loss=0.13858177\t val dice=0.94189591\t lr=0.00002062\n",
      "[2022-12-01 11:08:52,022][train.py][line:250][INFO] val stroke=0.9759465128831242\t background=0.9078453008247458\t score=0.9418957829475403\n",
      "\n",
      "Epoch 89/100: 100%|██████████| 184/184 [00:09<00:00, 20.15it/s, f_score=0.942, lr=2.06e-5, total_loss=0.139, val_background=0.908]\n"
     ]
    },
    {
     "name": "stdout",
     "output_type": "stream",
     "text": [
      "Finish Validation\n",
      "Epoch:89/100\n",
      "Total Loss: 0.0097\n",
      "Saving state, iter: 89\n"
     ]
    },
    {
     "name": "stderr",
     "output_type": "stream",
     "text": [
      "Epoch 90/100: 100%|█████████▉| 553/554 [01:19<00:00,  7.08it/s, f_score=0.994, lr=1.76e-5, total_loss=0.00957, train_background=0.99][2022-12-01 11:10:12,332][train.py][line:153][INFO] Epoch:[90/100]\t train loss=0.00956952\t train dice=0.99352560\t lr=0.00001756\n",
      "\n",
      "[2022-12-01 11:10:12,336][train.py][line:154][INFO] train score=0.9935256242752075\n",
      "\n",
      "[2022-12-01 11:10:12,337][train.py][line:158][INFO] train stroke=0.9972384238501318\t background=0.9898127746711138\t score=0.9935255997447761\n",
      "\n",
      "Epoch 90/100: 100%|██████████| 554/554 [01:19<00:00,  6.93it/s, f_score=0.994, lr=1.76e-5, total_loss=0.00957, train_background=0.99]\n",
      "Epoch 90/100:   0%|          | 0/184 [00:00<?, ?it/s<class 'dict'>]"
     ]
    },
    {
     "name": "stdout",
     "output_type": "stream",
     "text": [
      "Start Validation\n"
     ]
    },
    {
     "name": "stderr",
     "output_type": "stream",
     "text": [
      "Epoch 90/100:  99%|█████████▉| 183/184 [00:09<00:00, 21.40it/s, f_score=0.942, lr=1.76e-5, total_loss=0.139, val_background=0.907][2022-12-01 11:10:21,453][train.py][line:245][INFO] Epoch:[90/100]\t iteration:184 val loss=0.13906102\t val dice=0.94157985\t lr=0.00001756\n",
      "[2022-12-01 11:10:21,455][train.py][line:250][INFO] val stroke=0.9757805829462798\t background=0.9073791215601175\t score=0.9415797591209412\n",
      "\n",
      "Epoch 90/100: 100%|██████████| 184/184 [00:09<00:00, 20.19it/s, f_score=0.942, lr=1.76e-5, total_loss=0.139, val_background=0.907]\n"
     ]
    },
    {
     "name": "stdout",
     "output_type": "stream",
     "text": [
      "Finish Validation\n",
      "Epoch:90/100\n",
      "Total Loss: 0.0096\n",
      "Saving state, iter: 90\n"
     ]
    },
    {
     "name": "stderr",
     "output_type": "stream",
     "text": [
      "Epoch 91/100: 100%|█████████▉| 553/554 [01:19<00:00,  7.06it/s, f_score=0.994, lr=1.48e-5, total_loss=0.00922, train_background=0.99][2022-12-01 11:11:41,551][train.py][line:153][INFO] Epoch:[91/100]\t train loss=0.00922126\t train dice=0.99376099\t lr=0.00001484\n",
      "\n",
      "[2022-12-01 11:11:41,553][train.py][line:154][INFO] train score=0.9937609434127808\n",
      "\n",
      "[2022-12-01 11:11:41,554][train.py][line:158][INFO] train stroke=0.997344503764211\t background=0.9901774719303695\t score=0.9937609862334461\n",
      "\n",
      "Epoch 91/100: 100%|██████████| 554/554 [01:19<00:00,  6.95it/s, f_score=0.994, lr=1.48e-5, total_loss=0.00922, train_background=0.99]\n",
      "Epoch 91/100:   0%|          | 0/184 [00:00<?, ?it/s<class 'dict'>]"
     ]
    },
    {
     "name": "stdout",
     "output_type": "stream",
     "text": [
      "Start Validation\n"
     ]
    },
    {
     "name": "stderr",
     "output_type": "stream",
     "text": [
      "Epoch 91/100:  99%|█████████▉| 183/184 [00:09<00:00, 21.40it/s, f_score=0.942, lr=1.48e-5, total_loss=0.14, val_background=0.907] [2022-12-01 11:11:50,693][train.py][line:245][INFO] Epoch:[91/100]\t iteration:184 val loss=0.13976109\t val dice=0.94155916\t lr=0.00001484\n",
      "[2022-12-01 11:11:50,696][train.py][line:250][INFO] val stroke=0.9758424068922582\t background=0.9072759028362192\t score=0.9415589570999146\n",
      "\n",
      "Epoch 91/100: 100%|██████████| 184/184 [00:09<00:00, 20.14it/s, f_score=0.942, lr=1.48e-5, total_loss=0.14, val_background=0.907]\n"
     ]
    },
    {
     "name": "stdout",
     "output_type": "stream",
     "text": [
      "Finish Validation\n",
      "Epoch:91/100\n",
      "Total Loss: 0.0092\n",
      "Saving state, iter: 91\n"
     ]
    },
    {
     "name": "stderr",
     "output_type": "stream",
     "text": [
      "Epoch 92/100: 100%|█████████▉| 553/554 [01:20<00:00,  6.97it/s, f_score=0.994, lr=1.25e-5, total_loss=0.009, train_background=0.99]  [2022-12-01 11:13:11,476][train.py][line:153][INFO] Epoch:[92/100]\t train loss=0.00900137\t train dice=0.99392536\t lr=0.00001249\n",
      "\n",
      "[2022-12-01 11:13:11,479][train.py][line:154][INFO] train score=0.9939253330230713\n",
      "\n",
      "[2022-12-01 11:13:11,480][train.py][line:158][INFO] train stroke=0.9974115413448871\t background=0.9904391761290898\t score=0.9939253576610924\n",
      "\n",
      "Epoch 92/100: 100%|██████████| 554/554 [01:20<00:00,  6.89it/s, f_score=0.994, lr=1.25e-5, total_loss=0.009, train_background=0.99]\n",
      "Epoch 92/100:   0%|          | 0/184 [00:00<?, ?it/s<class 'dict'>]"
     ]
    },
    {
     "name": "stdout",
     "output_type": "stream",
     "text": [
      "Start Validation\n"
     ]
    },
    {
     "name": "stderr",
     "output_type": "stream",
     "text": [
      "Epoch 92/100:  99%|█████████▉| 183/184 [00:09<00:00, 21.18it/s, f_score=0.941, lr=1.25e-5, total_loss=0.142, val_background=0.907][2022-12-01 11:13:20,621][train.py][line:245][INFO] Epoch:[92/100]\t iteration:184 val loss=0.14217261\t val dice=0.94148319\t lr=0.00001249\n",
      "[2022-12-01 11:13:20,623][train.py][line:250][INFO] val stroke=0.9758257778442424\t background=0.9071405967292578\t score=0.9414833784103394\n",
      "\n",
      "Epoch 92/100: 100%|██████████| 184/184 [00:09<00:00, 20.14it/s, f_score=0.941, lr=1.25e-5, total_loss=0.142, val_background=0.907]\n"
     ]
    },
    {
     "name": "stdout",
     "output_type": "stream",
     "text": [
      "Finish Validation\n",
      "Epoch:92/100\n",
      "Total Loss: 0.0090\n",
      "Saving state, iter: 92\n"
     ]
    },
    {
     "name": "stderr",
     "output_type": "stream",
     "text": [
      "Epoch 93/100: 100%|█████████▉| 553/554 [01:20<00:00,  6.98it/s, f_score=0.994, lr=1.05e-5, total_loss=0.00909, train_background=0.99][2022-12-01 11:14:41,439][train.py][line:153][INFO] Epoch:[93/100]\t train loss=0.00909439\t train dice=0.99390131\t lr=0.00001054\n",
      "\n",
      "[2022-12-01 11:14:41,441][train.py][line:154][INFO] train score=0.9939016699790955\n",
      "\n",
      "[2022-12-01 11:14:41,442][train.py][line:158][INFO] train stroke=0.9974048761684542\t background=0.9903977446607735\t score=0.9939013097690761\n",
      "\n",
      "Epoch 93/100: 100%|██████████| 554/554 [01:20<00:00,  6.88it/s, f_score=0.994, lr=1.05e-5, total_loss=0.00909, train_background=0.99]\n",
      "Epoch 93/100:   0%|          | 0/184 [00:00<?, ?it/s<class 'dict'>]"
     ]
    },
    {
     "name": "stdout",
     "output_type": "stream",
     "text": [
      "Start Validation\n"
     ]
    },
    {
     "name": "stderr",
     "output_type": "stream",
     "text": [
      "Epoch 93/100:  99%|█████████▉| 183/184 [00:08<00:00, 21.35it/s, f_score=0.941, lr=1.05e-5, total_loss=0.142, val_background=0.907][2022-12-01 11:14:50,548][train.py][line:245][INFO] Epoch:[93/100]\t iteration:184 val loss=0.14205088\t val dice=0.94144343\t lr=0.00001054\n",
      "[2022-12-01 11:14:50,550][train.py][line:250][INFO] val stroke=0.9758265361837719\t background=0.9070603238499683\t score=0.9414435029029846\n",
      "\n",
      "Epoch 93/100: 100%|██████████| 184/184 [00:09<00:00, 20.21it/s, f_score=0.941, lr=1.05e-5, total_loss=0.142, val_background=0.907]\n"
     ]
    },
    {
     "name": "stdout",
     "output_type": "stream",
     "text": [
      "Finish Validation\n",
      "Epoch:93/100\n",
      "Total Loss: 0.0091\n",
      "Saving state, iter: 93\n"
     ]
    },
    {
     "name": "stderr",
     "output_type": "stream",
     "text": [
      "Epoch 94/100: 100%|██████████| 554/554 [01:21<00:00,  6.99it/s, f_score=0.994, lr=9e-6, total_loss=0.00871, train_background=0.991][2022-12-01 11:16:12,210][train.py][line:153][INFO] Epoch:[94/100]\t train loss=0.00870583\t train dice=0.99414238\t lr=0.00000900\n",
      "\n",
      "[2022-12-01 11:16:12,213][train.py][line:154][INFO] train score=0.9941423535346985\n",
      "\n",
      "[2022-12-01 11:16:12,215][train.py][line:158][INFO] train stroke=0.9975034603142997\t background=0.9907813057142044\t score=0.9941423826914833\n",
      "\n",
      "Epoch 94/100: 100%|██████████| 554/554 [01:21<00:00,  6.81it/s, f_score=0.994, lr=9e-6, total_loss=0.00871, train_background=0.991]\n",
      "Epoch 94/100:   0%|          | 0/184 [00:00<?, ?it/s<class 'dict'>]"
     ]
    },
    {
     "name": "stdout",
     "output_type": "stream",
     "text": [
      "Start Validation\n"
     ]
    },
    {
     "name": "stderr",
     "output_type": "stream",
     "text": [
      "Epoch 94/100:  99%|█████████▉| 183/184 [00:09<00:00, 21.35it/s, f_score=0.942, lr=9e-6, total_loss=0.143, val_background=0.907][2022-12-01 11:16:21,324][train.py][line:245][INFO] Epoch:[94/100]\t iteration:184 val loss=0.14251631\t val dice=0.94150854\t lr=0.00000900\n",
      "[2022-12-01 11:16:21,326][train.py][line:250][INFO] val stroke=0.9758452951260235\t background=0.9071717923102172\t score=0.9415085911750793\n",
      "\n",
      "Epoch 94/100: 100%|██████████| 184/184 [00:09<00:00, 20.21it/s, f_score=0.942, lr=9e-6, total_loss=0.143, val_background=0.907]\n"
     ]
    },
    {
     "name": "stdout",
     "output_type": "stream",
     "text": [
      "Finish Validation\n",
      "Epoch:94/100\n",
      "Total Loss: 0.0087\n",
      "Saving state, iter: 94\n"
     ]
    },
    {
     "name": "stderr",
     "output_type": "stream",
     "text": [
      "Epoch 95/100: 100%|█████████▉| 553/554 [01:21<00:00,  6.95it/s, f_score=0.994, lr=7.89e-6, total_loss=0.00864, train_background=0.991][2022-12-01 11:17:43,457][train.py][line:153][INFO] Epoch:[95/100]\t train loss=0.00863617\t train dice=0.99418133\t lr=0.00000789\n",
      "\n",
      "[2022-12-01 11:17:43,461][train.py][line:154][INFO] train score=0.9941816926002502\n",
      "\n",
      "[2022-12-01 11:17:43,462][train.py][line:158][INFO] train stroke=0.9975289368887671\t background=0.9908337172403232\t score=0.9941813256120854\n",
      "\n",
      "Epoch 95/100: 100%|██████████| 554/554 [01:21<00:00,  6.78it/s, f_score=0.994, lr=7.89e-6, total_loss=0.00864, train_background=0.991]\n",
      "Epoch 95/100:   0%|          | 0/184 [00:00<?, ?it/s<class 'dict'>]"
     ]
    },
    {
     "name": "stdout",
     "output_type": "stream",
     "text": [
      "Start Validation\n"
     ]
    },
    {
     "name": "stderr",
     "output_type": "stream",
     "text": [
      "Epoch 95/100:  99%|█████████▉| 183/184 [00:09<00:00, 21.42it/s, f_score=0.942, lr=7.89e-6, total_loss=0.144, val_background=0.907][2022-12-01 11:17:52,615][train.py][line:245][INFO] Epoch:[95/100]\t iteration:184 val loss=0.14352228\t val dice=0.94163847\t lr=0.00000789\n",
      "[2022-12-01 11:17:52,617][train.py][line:250][INFO] val stroke=0.9759395407593768\t background=0.9073374051114788\t score=0.9416385293006897\n",
      "\n",
      "Epoch 95/100: 100%|██████████| 184/184 [00:09<00:00, 20.12it/s, f_score=0.942, lr=7.89e-6, total_loss=0.144, val_background=0.907]\n"
     ]
    },
    {
     "name": "stdout",
     "output_type": "stream",
     "text": [
      "Finish Validation\n",
      "Epoch:95/100\n",
      "Total Loss: 0.0086\n",
      "Saving state, iter: 95\n"
     ]
    },
    {
     "name": "stderr",
     "output_type": "stream",
     "text": [
      "Epoch 96/100: 100%|██████████| 554/554 [01:21<00:00,  6.53it/s, f_score=0.994, lr=7.22e-6, total_loss=0.00853, train_background=0.991][2022-12-01 11:19:14,566][train.py][line:153][INFO] Epoch:[96/100]\t train loss=0.00852721\t train dice=0.99427382\t lr=0.00000722\n",
      "\n",
      "[2022-12-01 11:19:14,569][train.py][line:154][INFO] train score=0.9942734837532043\n",
      "\n",
      "[2022-12-01 11:19:14,571][train.py][line:158][INFO] train stroke=0.9975550848224103\t background=0.99099256351106\t score=0.9942738240591456\n",
      "\n",
      "Epoch 96/100: 100%|██████████| 554/554 [01:21<00:00,  6.79it/s, f_score=0.994, lr=7.22e-6, total_loss=0.00853, train_background=0.991]\n",
      "Epoch 96/100:   0%|          | 0/184 [00:00<?, ?it/s<class 'dict'>]"
     ]
    },
    {
     "name": "stdout",
     "output_type": "stream",
     "text": [
      "Start Validation\n"
     ]
    },
    {
     "name": "stderr",
     "output_type": "stream",
     "text": [
      "Epoch 96/100:  99%|█████████▉| 183/184 [00:09<00:00, 21.44it/s, f_score=0.942, lr=7.22e-6, total_loss=0.145, val_background=0.907][2022-12-01 11:19:23,691][train.py][line:245][INFO] Epoch:[96/100]\t iteration:184 val loss=0.14458685\t val dice=0.94163936\t lr=0.00000722\n",
      "[2022-12-01 11:19:23,694][train.py][line:250][INFO] val stroke=0.9758904443486877\t background=0.9073882799433626\t score=0.9416393041610718\n",
      "\n",
      "Epoch 96/100: 100%|██████████| 184/184 [00:09<00:00, 20.19it/s, f_score=0.942, lr=7.22e-6, total_loss=0.145, val_background=0.907]\n"
     ]
    },
    {
     "name": "stdout",
     "output_type": "stream",
     "text": [
      "Finish Validation\n",
      "Epoch:96/100\n",
      "Total Loss: 0.0085\n",
      "Saving state, iter: 96\n"
     ]
    },
    {
     "name": "stderr",
     "output_type": "stream",
     "text": [
      "Epoch 97/100: 100%|██████████| 554/554 [01:21<00:00,  6.99it/s, f_score=0.994, lr=7e-6, total_loss=0.00855, train_background=0.991][2022-12-01 11:20:45,931][train.py][line:153][INFO] Epoch:[97/100]\t train loss=0.00855053\t train dice=0.99427189\t lr=0.00000700\n",
      "\n",
      "[2022-12-01 11:20:45,934][train.py][line:154][INFO] train score=0.9942716956138611\n",
      "\n",
      "[2022-12-01 11:20:45,935][train.py][line:158][INFO] train stroke=0.9975608995029642\t background=0.9909828717312658\t score=0.9942718869081903\n",
      "\n",
      "Epoch 97/100: 100%|██████████| 554/554 [01:21<00:00,  6.77it/s, f_score=0.994, lr=7e-6, total_loss=0.00855, train_background=0.991]\n",
      "Epoch 97/100:   0%|          | 0/184 [00:00<?, ?it/s<class 'dict'>]"
     ]
    },
    {
     "name": "stdout",
     "output_type": "stream",
     "text": [
      "Start Validation\n"
     ]
    },
    {
     "name": "stderr",
     "output_type": "stream",
     "text": [
      "Epoch 97/100:  99%|█████████▉| 183/184 [00:09<00:00, 21.41it/s, f_score=0.941, lr=7e-6, total_loss=0.145, val_background=0.907][2022-12-01 11:20:55,062][train.py][line:245][INFO] Epoch:[97/100]\t iteration:184 val loss=0.14506512\t val dice=0.94148888\t lr=0.00000700\n",
      "[2022-12-01 11:20:55,065][train.py][line:250][INFO] val stroke=0.9758339274836623\t background=0.9071438351403112\t score=0.9414886832237244\n",
      "\n",
      "Epoch 97/100: 100%|██████████| 184/184 [00:09<00:00, 20.17it/s, f_score=0.941, lr=7e-6, total_loss=0.145, val_background=0.907]\n"
     ]
    },
    {
     "name": "stdout",
     "output_type": "stream",
     "text": [
      "Finish Validation\n",
      "Epoch:97/100\n",
      "Total Loss: 0.0085\n",
      "Saving state, iter: 97\n"
     ]
    },
    {
     "name": "stderr",
     "output_type": "stream",
     "text": [
      "Epoch 98/100: 100%|█████████▉| 553/554 [01:20<00:00,  7.09it/s, f_score=0.994, lr=7.22e-6, total_loss=0.00843, train_background=0.991][2022-12-01 11:22:16,331][train.py][line:153][INFO] Epoch:[98/100]\t train loss=0.00843469\t train dice=0.99432022\t lr=0.00000722\n",
      "\n",
      "[2022-12-01 11:22:16,334][train.py][line:154][INFO] train score=0.9943200945854187\n",
      "\n",
      "[2022-12-01 11:22:16,335][train.py][line:158][INFO] train stroke=0.9975902820106878\t background=0.9910501551542041\t score=0.9943202198197265\n",
      "\n",
      "Epoch 98/100: 100%|██████████| 554/554 [01:20<00:00,  6.85it/s, f_score=0.994, lr=7.22e-6, total_loss=0.00843, train_background=0.991]\n",
      "Epoch 98/100:   0%|          | 0/184 [00:00<?, ?it/s<class 'dict'>]"
     ]
    },
    {
     "name": "stdout",
     "output_type": "stream",
     "text": [
      "Start Validation\n"
     ]
    },
    {
     "name": "stderr",
     "output_type": "stream",
     "text": [
      "Epoch 98/100:  99%|█████████▉| 183/184 [00:09<00:00, 21.32it/s, f_score=0.941, lr=7.22e-6, total_loss=0.146, val_background=0.907][2022-12-01 11:22:25,532][train.py][line:245][INFO] Epoch:[98/100]\t iteration:184 val loss=0.14577244\t val dice=0.94148659\t lr=0.00000722\n",
      "[2022-12-01 11:22:25,535][train.py][line:250][INFO] val stroke=0.9758560129481814\t background=0.9071171627096508\t score=0.9414869546890259\n",
      "\n",
      "Epoch 98/100: 100%|██████████| 184/184 [00:09<00:00, 20.02it/s, f_score=0.941, lr=7.22e-6, total_loss=0.146, val_background=0.907]\n"
     ]
    },
    {
     "name": "stdout",
     "output_type": "stream",
     "text": [
      "Finish Validation\n",
      "Epoch:98/100\n",
      "Total Loss: 0.0084\n",
      "Saving state, iter: 98\n"
     ]
    },
    {
     "name": "stderr",
     "output_type": "stream",
     "text": [
      "Epoch 99/100: 100%|█████████▉| 553/554 [01:20<00:00,  6.99it/s, f_score=0.994, lr=7.89e-6, total_loss=0.00832, train_background=0.991][2022-12-01 11:23:46,242][train.py][line:153][INFO] Epoch:[99/100]\t train loss=0.00832401\t train dice=0.99440811\t lr=0.00000789\n",
      "\n",
      "[2022-12-01 11:23:46,244][train.py][line:154][INFO] train score=0.9944086670875549\n",
      "\n",
      "[2022-12-01 11:23:46,246][train.py][line:158][INFO] train stroke=0.9976179099470269\t background=0.9911983100300662\t score=0.9944081102037258\n",
      "\n",
      "Epoch 99/100: 100%|██████████| 554/554 [01:20<00:00,  6.90it/s, f_score=0.994, lr=7.89e-6, total_loss=0.00832, train_background=0.991]\n",
      "Epoch 99/100:   0%|          | 0/184 [00:00<?, ?it/s<class 'dict'>]"
     ]
    },
    {
     "name": "stdout",
     "output_type": "stream",
     "text": [
      "Start Validation\n"
     ]
    },
    {
     "name": "stderr",
     "output_type": "stream",
     "text": [
      "Epoch 99/100:  99%|█████████▉| 183/184 [00:09<00:00, 21.41it/s, f_score=0.941, lr=7.89e-6, total_loss=0.146, val_background=0.907][2022-12-01 11:23:55,392][train.py][line:245][INFO] Epoch:[99/100]\t iteration:184 val loss=0.14606946\t val dice=0.94131379\t lr=0.00000789\n",
      "[2022-12-01 11:23:55,394][train.py][line:250][INFO] val stroke=0.9757979486299597\t background=0.9068296286075012\t score=0.9413137435913086\n",
      "\n",
      "Epoch 99/100: 100%|██████████| 184/184 [00:09<00:00, 20.13it/s, f_score=0.941, lr=7.89e-6, total_loss=0.146, val_background=0.907]\n"
     ]
    },
    {
     "name": "stdout",
     "output_type": "stream",
     "text": [
      "Finish Validation\n",
      "Epoch:99/100\n",
      "Total Loss: 0.0083\n",
      "Saving state, iter: 99\n"
     ]
    },
    {
     "name": "stderr",
     "output_type": "stream",
     "text": [
      "Epoch 100/100: 100%|█████████▉| 553/554 [01:20<00:00,  7.13it/s, f_score=0.994, lr=9e-6, total_loss=0.00842, train_background=0.991][2022-12-01 11:25:16,647][train.py][line:153][INFO] Epoch:[100/100]\t train loss=0.00842310\t train dice=0.99432924\t lr=0.00000900\n",
      "\n",
      "[2022-12-01 11:25:16,649][train.py][line:154][INFO] train score=0.9943293333053589\n",
      "\n",
      "[2022-12-01 11:25:16,650][train.py][line:158][INFO] train stroke=0.9975892975657425\t background=0.991069186895763\t score=0.9943292416390099\n",
      "\n",
      "Epoch 100/100: 100%|██████████| 554/554 [01:20<00:00,  6.85it/s, f_score=0.994, lr=9e-6, total_loss=0.00842, train_background=0.991]\n",
      "Epoch 100/100:   0%|          | 0/184 [00:00<?, ?it/s<class 'dict'>]"
     ]
    },
    {
     "name": "stdout",
     "output_type": "stream",
     "text": [
      "Start Validation\n"
     ]
    },
    {
     "name": "stderr",
     "output_type": "stream",
     "text": [
      "Epoch 100/100:  99%|█████████▉| 183/184 [00:09<00:00, 21.40it/s, f_score=0.941, lr=9e-6, total_loss=0.145, val_background=0.907][2022-12-01 11:25:25,783][train.py][line:245][INFO] Epoch:[100/100]\t iteration:184 val loss=0.14501771\t val dice=0.94145862\t lr=0.00000900\n",
      "[2022-12-01 11:25:25,786][train.py][line:250][INFO] val stroke=0.9758107500231784\t background=0.9071064941261126\t score=0.9414587020874023\n",
      "\n",
      "Epoch 100/100: 100%|██████████| 184/184 [00:09<00:00, 20.16it/s, f_score=0.941, lr=9e-6, total_loss=0.145, val_background=0.907]\n"
     ]
    },
    {
     "name": "stdout",
     "output_type": "stream",
     "text": [
      "Finish Validation\n",
      "Epoch:100/100\n",
      "Total Loss: 0.0084\n",
      "Saving state, iter: 100\n"
     ]
    },
    {
     "name": "stderr",
     "output_type": "stream",
     "text": [
      "[2022-12-01 11:25:26,138][train.py][line:410][INFO] finish training!\n"
     ]
    },
    {
     "ename": "TypeError",
     "evalue": "__init__() missing 1 required positional argument: 'dataset_path'",
     "output_type": "error",
     "traceback": [
      "\u001b[0;31m---------------------------------------------------------------------------\u001b[0m",
      "\u001b[0;31mTypeError\u001b[0m                                 Traceback (most recent call last)",
      "\u001b[0;32m/output/CV_Project/train.py\u001b[0m in \u001b[0;36m<module>\u001b[0;34m\u001b[0m\n\u001b[1;32m    423\u001b[0m         \u001b[0mlr_scheduler\u001b[0m \u001b[0;34m=\u001b[0m \u001b[0moptim\u001b[0m\u001b[0;34m.\u001b[0m\u001b[0mlr_scheduler\u001b[0m\u001b[0;34m.\u001b[0m\u001b[0mStepLR\u001b[0m\u001b[0;34m(\u001b[0m\u001b[0moptimizer\u001b[0m\u001b[0;34m,\u001b[0m \u001b[0mstep_size\u001b[0m\u001b[0;34m=\u001b[0m\u001b[0;36m1\u001b[0m\u001b[0;34m,\u001b[0m \u001b[0mgamma\u001b[0m\u001b[0;34m=\u001b[0m\u001b[0;36m0.92\u001b[0m\u001b[0;34m)\u001b[0m\u001b[0;34m\u001b[0m\u001b[0;34m\u001b[0m\u001b[0m\n\u001b[1;32m    424\u001b[0m \u001b[0;34m\u001b[0m\u001b[0m\n\u001b[0;32m--> 425\u001b[0;31m         \u001b[0mtrain_dataset\u001b[0m \u001b[0;34m=\u001b[0m \u001b[0mDeeplabDataset\u001b[0m\u001b[0;34m(\u001b[0m\u001b[0mtrain_lines\u001b[0m\u001b[0;34m,\u001b[0m \u001b[0minputs_size\u001b[0m\u001b[0;34m,\u001b[0m \u001b[0mNUM_CLASSES\u001b[0m\u001b[0;34m,\u001b[0m \u001b[0;32mTrue\u001b[0m\u001b[0;34m)\u001b[0m\u001b[0;34m\u001b[0m\u001b[0;34m\u001b[0m\u001b[0m\n\u001b[0m\u001b[1;32m    426\u001b[0m         \u001b[0mval_dataset\u001b[0m \u001b[0;34m=\u001b[0m \u001b[0mDeeplabDataset\u001b[0m\u001b[0;34m(\u001b[0m\u001b[0mval_lines\u001b[0m\u001b[0;34m,\u001b[0m \u001b[0minputs_size\u001b[0m\u001b[0;34m,\u001b[0m \u001b[0mNUM_CLASSES\u001b[0m\u001b[0;34m,\u001b[0m \u001b[0;32mFalse\u001b[0m\u001b[0;34m)\u001b[0m\u001b[0;34m\u001b[0m\u001b[0;34m\u001b[0m\u001b[0m\n\u001b[1;32m    427\u001b[0m         gen = DataLoader(train_dataset, batch_size=Batch_size, num_workers=4, pin_memory=True,\n",
      "\u001b[0;31mTypeError\u001b[0m: __init__() missing 1 required positional argument: 'dataset_path'"
     ]
    },
    {
     "data": {
      "image/png": "[encoded data removed]",
      "text/plain": [
       "<Figure size 432x288 with 1 Axes>"
      ]
     },
     "metadata": {
      "needs_background": "light"
     },
     "output_type": "display_data"
    },
    {
     "data": {
      "image/png": "[encoded data removed]",
      "text/plain": [
       "<Figure size 432x288 with 1 Axes>"
      ]
     },
     "metadata": {
      "needs_background": "light"
     },
     "output_type": "display_data"
    },
    {
     "data": {
      "image/png": "[encoded data removed]",
      "text/plain": [
       "<Figure size 432x288 with 1 Axes>"
      ]
     },
     "metadata": {
      "needs_background": "light"
     },
     "output_type": "display_data"
    },
    {
     "data": {
      "image/png": "[encoded data removed]",
      "text/plain": [
       "<Figure size 432x288 with 1 Axes>"
      ]
     },
     "metadata": {
      "needs_background": "light"
     },
     "output_type": "display_data"
    }
   ],
   "source": [
    "%run train.py"
   ]
  },
  {
   "cell_type": "code",
   "execution_count": null,
   "id": "2ece3dbc",
   "metadata": {},
   "outputs": [],
   "source": []
  },
  {
   "cell_type": "code",
   "execution_count": null,
   "id": "ce86560a",
   "metadata": {},
   "outputs": [],
   "source": []
  }
 ],
 "metadata": {
  "kernelspec": {
   "display_name": "Python 3",
   "language": "python",
   "name": "python3"
  },
  "language_info": {
   "codemirror_mode": {
    "name": "ipython",
    "version": 3
   },
   "file_extension": ".py",
   "mimetype": "text/x-python",
   "name": "python",
   "nbconvert_exporter": "python",
   "pygments_lexer": "ipython3",
   "version": "3.6.13"
  }
 },
 "nbformat": 4,
 "nbformat_minor": 5
}
